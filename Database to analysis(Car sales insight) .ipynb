{
 "cells": [
  {
   "cell_type": "code",
   "execution_count": 90,
   "id": "96744e6c",
   "metadata": {},
   "outputs": [],
   "source": [
    "import matplotlib.pyplot as plt\n",
    "import seaborn as sns"
   ]
  },
  {
   "cell_type": "code",
   "execution_count": 342,
   "id": "c257a3bf",
   "metadata": {},
   "outputs": [],
   "source": [
    "from datetime import datetime, date"
   ]
  },
  {
   "cell_type": "code",
   "execution_count": 353,
   "id": "2b2f0de7",
   "metadata": {},
   "outputs": [],
   "source": [
    "import psycopg2 "
   ]
  },
  {
   "cell_type": "markdown",
   "id": "b5029ad3",
   "metadata": {},
   "source": [
    "# Connecting to Posgres Database"
   ]
  },
  {
   "cell_type": "code",
   "execution_count": 355,
   "id": "27a40ea7",
   "metadata": {},
   "outputs": [],
   "source": [
    "conn= psycopg2.connect('dbname=elvis user=postgres host=localhost password=stipulated port=5434')\n"
   ]
  },
  {
   "cell_type": "code",
   "execution_count": 356,
   "id": "31ddaa2e",
   "metadata": {},
   "outputs": [
    {
     "data": {
      "text/plain": [
       "<connection object at 0x000001CC78ED3AE0; dsn: 'user=postgres password=xxx dbname=elvis host=localhost port=5434', closed: 0>"
      ]
     },
     "execution_count": 356,
     "metadata": {},
     "output_type": "execute_result"
    }
   ],
   "source": [
    "conn"
   ]
  },
  {
   "cell_type": "code",
   "execution_count": 357,
   "id": "8b05e492",
   "metadata": {},
   "outputs": [],
   "source": [
    "cur=conn.cursor()"
   ]
  },
  {
   "cell_type": "code",
   "execution_count": 358,
   "id": "b107a328",
   "metadata": {},
   "outputs": [
    {
     "data": {
      "text/plain": [
       "<cursor object at 0x000001CC7C47FD60; closed: 0>"
      ]
     },
     "execution_count": 358,
     "metadata": {},
     "output_type": "execute_result"
    }
   ],
   "source": [
    "cur"
   ]
  },
  {
   "cell_type": "code",
   "execution_count": 359,
   "id": "da2f5ec1",
   "metadata": {},
   "outputs": [],
   "source": [
    "cur.execute('SELECT * FROM automobilev LIMIT 5')"
   ]
  },
  {
   "cell_type": "code",
   "execution_count": 360,
   "id": "2e4d0a29",
   "metadata": {},
   "outputs": [
    {
     "data": {
      "text/plain": [
       "[(1,\n",
       "  'Marji',\n",
       "  'Von Hindenburg',\n",
       "  'mvonhindenburg0@issuu.com',\n",
       "  'Female',\n",
       "  'Peru',\n",
       "  'Boxster',\n",
       "  'Porsche',\n",
       "  'bankcard',\n",
       "  datetime.date(2021, 12, 30),\n",
       "  'œ718166002.45',\n",
       "  datetime.date(1990, 6, 24),\n",
       "  4),\n",
       " (2,\n",
       "  'Jameson',\n",
       "  'Matejic',\n",
       "  'jmatejic1@ezinearticles.com',\n",
       "  'Male',\n",
       "  'United Kingdom',\n",
       "  'Diablo',\n",
       "  'Lamborghini',\n",
       "  'jcb',\n",
       "  datetime.date(2022, 9, 3),\n",
       "  'œ716614256.75',\n",
       "  datetime.date(1977, 2, 19),\n",
       "  4),\n",
       " (3,\n",
       "  'Mitchel',\n",
       "  'Shama',\n",
       "  'mshama2@phpbb.com',\n",
       "  'Male',\n",
       "  'Afghanistan',\n",
       "  '612 Scaglietti',\n",
       "  'Ferrari',\n",
       "  'laser',\n",
       "  datetime.date(2021, 8, 1),\n",
       "  'œ513572637.51',\n",
       "  datetime.date(1981, 7, 17),\n",
       "  4),\n",
       " (4,\n",
       "  'Stinky',\n",
       "  'Lamas',\n",
       "  'slamas3@house.gov',\n",
       "  'Male',\n",
       "  'Guatemala',\n",
       "  'XK',\n",
       "  'Jaguar',\n",
       "  'jcb',\n",
       "  datetime.date(2021, 12, 31),\n",
       "  'œ401068772.13',\n",
       "  datetime.date(1981, 2, 13),\n",
       "  4),\n",
       " (5,\n",
       "  'Sheffie',\n",
       "  'Woollends',\n",
       "  'swoollends4@bloglovin.com',\n",
       "  'Male',\n",
       "  'Philippines',\n",
       "  'ZDX',\n",
       "  'Acura',\n",
       "  'visa',\n",
       "  datetime.date(2022, 3, 23),\n",
       "  'œ564908404.97',\n",
       "  datetime.date(1996, 3, 23),\n",
       "  2)]"
      ]
     },
     "execution_count": 360,
     "metadata": {},
     "output_type": "execute_result"
    }
   ],
   "source": [
    "cur.fetchall()"
   ]
  },
  {
   "cell_type": "code",
   "execution_count": 8,
   "id": "6419103b",
   "metadata": {},
   "outputs": [],
   "source": [
    "import pandas as pd"
   ]
  },
  {
   "cell_type": "code",
   "execution_count": 9,
   "id": "ae005344",
   "metadata": {},
   "outputs": [],
   "source": [
    "vehicle_df= pd.read_sql('SELECT * FROM automobilev',conn)"
   ]
  },
  {
   "cell_type": "code",
   "execution_count": 162,
   "id": "2de9d25e",
   "metadata": {},
   "outputs": [
    {
     "data": {
      "text/html": [
       "<div>\n",
       "<style scoped>\n",
       "    .dataframe tbody tr th:only-of-type {\n",
       "        vertical-align: middle;\n",
       "    }\n",
       "\n",
       "    .dataframe tbody tr th {\n",
       "        vertical-align: top;\n",
       "    }\n",
       "\n",
       "    .dataframe thead th {\n",
       "        text-align: right;\n",
       "    }\n",
       "</style>\n",
       "<table border=\"1\" class=\"dataframe\">\n",
       "  <thead>\n",
       "    <tr style=\"text-align: right;\">\n",
       "      <th></th>\n",
       "      <th>id</th>\n",
       "      <th>first_name</th>\n",
       "      <th>last_name</th>\n",
       "      <th>email</th>\n",
       "      <th>gender</th>\n",
       "      <th>country</th>\n",
       "      <th>car_model</th>\n",
       "      <th>car_make</th>\n",
       "      <th>payment_type</th>\n",
       "      <th>date_of_purchace</th>\n",
       "      <th>sales</th>\n",
       "      <th>date_of_birth</th>\n",
       "      <th>number_of_purchase</th>\n",
       "    </tr>\n",
       "  </thead>\n",
       "  <tbody>\n",
       "    <tr>\n",
       "      <th>995</th>\n",
       "      <td>996</td>\n",
       "      <td>Sansone</td>\n",
       "      <td>Reside</td>\n",
       "      <td>sresidern@blog.com</td>\n",
       "      <td>Male</td>\n",
       "      <td>Russia</td>\n",
       "      <td>Ram 1500 Club</td>\n",
       "      <td>Dodge</td>\n",
       "      <td>maestro</td>\n",
       "      <td>2022-06-05</td>\n",
       "      <td>600592256</td>\n",
       "      <td>1971-09-15</td>\n",
       "      <td>3</td>\n",
       "    </tr>\n",
       "    <tr>\n",
       "      <th>996</th>\n",
       "      <td>997</td>\n",
       "      <td>Flinn</td>\n",
       "      <td>Casiroli</td>\n",
       "      <td>fcasiroliro@dagondesign.com</td>\n",
       "      <td>Male</td>\n",
       "      <td>Kosovo</td>\n",
       "      <td>TL</td>\n",
       "      <td>Acura</td>\n",
       "      <td>jcb</td>\n",
       "      <td>2021-08-03</td>\n",
       "      <td>335403345</td>\n",
       "      <td>1975-09-09</td>\n",
       "      <td>1</td>\n",
       "    </tr>\n",
       "    <tr>\n",
       "      <th>997</th>\n",
       "      <td>998</td>\n",
       "      <td>Betty</td>\n",
       "      <td>Coston</td>\n",
       "      <td>bcostonrp@elpais.com</td>\n",
       "      <td>Female</td>\n",
       "      <td>Zimbabwe</td>\n",
       "      <td>Aveo</td>\n",
       "      <td>Chevrolet</td>\n",
       "      <td>instapayment</td>\n",
       "      <td>2021-11-01</td>\n",
       "      <td>341890744</td>\n",
       "      <td>1999-07-15</td>\n",
       "      <td>2</td>\n",
       "    </tr>\n",
       "    <tr>\n",
       "      <th>998</th>\n",
       "      <td>999</td>\n",
       "      <td>Marcia</td>\n",
       "      <td>Maccrae</td>\n",
       "      <td>mmaccraerq@purevolume.com</td>\n",
       "      <td>Female</td>\n",
       "      <td>Syria</td>\n",
       "      <td>del Sol</td>\n",
       "      <td>Honda</td>\n",
       "      <td>mastercard</td>\n",
       "      <td>2022-01-21</td>\n",
       "      <td>163295536</td>\n",
       "      <td>1982-07-27</td>\n",
       "      <td>3</td>\n",
       "    </tr>\n",
       "    <tr>\n",
       "      <th>999</th>\n",
       "      <td>1000</td>\n",
       "      <td>Shermy</td>\n",
       "      <td>Rome</td>\n",
       "      <td>sromerr@cafepress.com</td>\n",
       "      <td>Male</td>\n",
       "      <td>Indonesia</td>\n",
       "      <td>LS Hybrid</td>\n",
       "      <td>Lexus</td>\n",
       "      <td>diners-club-carte-blanche</td>\n",
       "      <td>2021-06-29</td>\n",
       "      <td>907913815</td>\n",
       "      <td>1972-02-14</td>\n",
       "      <td>3</td>\n",
       "    </tr>\n",
       "  </tbody>\n",
       "</table>\n",
       "</div>"
      ],
      "text/plain": [
       "       id first_name last_name                        email  gender  \\\n",
       "995   996    Sansone    Reside           sresidern@blog.com    Male   \n",
       "996   997      Flinn  Casiroli  fcasiroliro@dagondesign.com    Male   \n",
       "997   998      Betty    Coston         bcostonrp@elpais.com  Female   \n",
       "998   999     Marcia   Maccrae    mmaccraerq@purevolume.com  Female   \n",
       "999  1000     Shermy      Rome        sromerr@cafepress.com    Male   \n",
       "\n",
       "       country      car_model   car_make               payment_type  \\\n",
       "995     Russia  Ram 1500 Club      Dodge                    maestro   \n",
       "996     Kosovo             TL      Acura                        jcb   \n",
       "997   Zimbabwe           Aveo  Chevrolet               instapayment   \n",
       "998      Syria        del Sol      Honda                 mastercard   \n",
       "999  Indonesia      LS Hybrid      Lexus  diners-club-carte-blanche   \n",
       "\n",
       "    date_of_purchace      sales date_of_birth  number_of_purchase  \n",
       "995       2022-06-05  600592256    1971-09-15                   3  \n",
       "996       2021-08-03  335403345    1975-09-09                   1  \n",
       "997       2021-11-01  341890744    1999-07-15                   2  \n",
       "998       2022-01-21  163295536    1982-07-27                   3  \n",
       "999       2021-06-29  907913815    1972-02-14                   3  "
      ]
     },
     "execution_count": 162,
     "metadata": {},
     "output_type": "execute_result"
    }
   ],
   "source": [
    "vehicle_df.tail()"
   ]
  },
  {
   "cell_type": "code",
   "execution_count": 230,
   "id": "e65ddb7f",
   "metadata": {},
   "outputs": [],
   "source": [
    "#drop the id column\n",
    "vehicle_df.drop(columns =['id'], inplace= True)"
   ]
  },
  {
   "cell_type": "code",
   "execution_count": 231,
   "id": "c8071009",
   "metadata": {},
   "outputs": [
    {
     "data": {
      "text/html": [
       "<div>\n",
       "<style scoped>\n",
       "    .dataframe tbody tr th:only-of-type {\n",
       "        vertical-align: middle;\n",
       "    }\n",
       "\n",
       "    .dataframe tbody tr th {\n",
       "        vertical-align: top;\n",
       "    }\n",
       "\n",
       "    .dataframe thead th {\n",
       "        text-align: right;\n",
       "    }\n",
       "</style>\n",
       "<table border=\"1\" class=\"dataframe\">\n",
       "  <thead>\n",
       "    <tr style=\"text-align: right;\">\n",
       "      <th></th>\n",
       "      <th>first_name</th>\n",
       "      <th>last_name</th>\n",
       "      <th>email</th>\n",
       "      <th>gender</th>\n",
       "      <th>country</th>\n",
       "      <th>car_model</th>\n",
       "      <th>car_make</th>\n",
       "      <th>payment_type</th>\n",
       "      <th>date_of_purchace</th>\n",
       "      <th>sales</th>\n",
       "      <th>date_of_birth</th>\n",
       "      <th>number_of_purchase</th>\n",
       "    </tr>\n",
       "  </thead>\n",
       "  <tbody>\n",
       "    <tr>\n",
       "      <th>0</th>\n",
       "      <td>Marji</td>\n",
       "      <td>Von Hindenburg</td>\n",
       "      <td>mvonhindenburg0@issuu.com</td>\n",
       "      <td>Female</td>\n",
       "      <td>Peru</td>\n",
       "      <td>Boxster</td>\n",
       "      <td>Porsche</td>\n",
       "      <td>bankcard</td>\n",
       "      <td>2021-12-30</td>\n",
       "      <td>718166002</td>\n",
       "      <td>1990-06-24</td>\n",
       "      <td>4</td>\n",
       "    </tr>\n",
       "    <tr>\n",
       "      <th>1</th>\n",
       "      <td>Jameson</td>\n",
       "      <td>Matejic</td>\n",
       "      <td>jmatejic1@ezinearticles.com</td>\n",
       "      <td>Male</td>\n",
       "      <td>United Kingdom</td>\n",
       "      <td>Diablo</td>\n",
       "      <td>Lamborghini</td>\n",
       "      <td>jcb</td>\n",
       "      <td>2022-09-03</td>\n",
       "      <td>716614256</td>\n",
       "      <td>1977-02-19</td>\n",
       "      <td>4</td>\n",
       "    </tr>\n",
       "    <tr>\n",
       "      <th>2</th>\n",
       "      <td>Mitchel</td>\n",
       "      <td>Shama</td>\n",
       "      <td>mshama2@phpbb.com</td>\n",
       "      <td>Male</td>\n",
       "      <td>Afghanistan</td>\n",
       "      <td>612 Scaglietti</td>\n",
       "      <td>Ferrari</td>\n",
       "      <td>laser</td>\n",
       "      <td>2021-08-01</td>\n",
       "      <td>513572637</td>\n",
       "      <td>1981-07-17</td>\n",
       "      <td>4</td>\n",
       "    </tr>\n",
       "    <tr>\n",
       "      <th>3</th>\n",
       "      <td>Stinky</td>\n",
       "      <td>Lamas</td>\n",
       "      <td>slamas3@house.gov</td>\n",
       "      <td>Male</td>\n",
       "      <td>Guatemala</td>\n",
       "      <td>XK</td>\n",
       "      <td>Jaguar</td>\n",
       "      <td>jcb</td>\n",
       "      <td>2021-12-31</td>\n",
       "      <td>401068772</td>\n",
       "      <td>1981-02-13</td>\n",
       "      <td>4</td>\n",
       "    </tr>\n",
       "    <tr>\n",
       "      <th>4</th>\n",
       "      <td>Sheffie</td>\n",
       "      <td>Woollends</td>\n",
       "      <td>swoollends4@bloglovin.com</td>\n",
       "      <td>Male</td>\n",
       "      <td>Philippines</td>\n",
       "      <td>ZDX</td>\n",
       "      <td>Acura</td>\n",
       "      <td>visa</td>\n",
       "      <td>2022-03-23</td>\n",
       "      <td>564908404</td>\n",
       "      <td>1996-03-23</td>\n",
       "      <td>2</td>\n",
       "    </tr>\n",
       "    <tr>\n",
       "      <th>...</th>\n",
       "      <td>...</td>\n",
       "      <td>...</td>\n",
       "      <td>...</td>\n",
       "      <td>...</td>\n",
       "      <td>...</td>\n",
       "      <td>...</td>\n",
       "      <td>...</td>\n",
       "      <td>...</td>\n",
       "      <td>...</td>\n",
       "      <td>...</td>\n",
       "      <td>...</td>\n",
       "      <td>...</td>\n",
       "    </tr>\n",
       "    <tr>\n",
       "      <th>995</th>\n",
       "      <td>Sansone</td>\n",
       "      <td>Reside</td>\n",
       "      <td>sresidern@blog.com</td>\n",
       "      <td>Male</td>\n",
       "      <td>Russia</td>\n",
       "      <td>Ram 1500 Club</td>\n",
       "      <td>Dodge</td>\n",
       "      <td>maestro</td>\n",
       "      <td>2022-06-05</td>\n",
       "      <td>600592256</td>\n",
       "      <td>1971-09-15</td>\n",
       "      <td>3</td>\n",
       "    </tr>\n",
       "    <tr>\n",
       "      <th>996</th>\n",
       "      <td>Flinn</td>\n",
       "      <td>Casiroli</td>\n",
       "      <td>fcasiroliro@dagondesign.com</td>\n",
       "      <td>Male</td>\n",
       "      <td>Kosovo</td>\n",
       "      <td>TL</td>\n",
       "      <td>Acura</td>\n",
       "      <td>jcb</td>\n",
       "      <td>2021-08-03</td>\n",
       "      <td>335403345</td>\n",
       "      <td>1975-09-09</td>\n",
       "      <td>1</td>\n",
       "    </tr>\n",
       "    <tr>\n",
       "      <th>997</th>\n",
       "      <td>Betty</td>\n",
       "      <td>Coston</td>\n",
       "      <td>bcostonrp@elpais.com</td>\n",
       "      <td>Female</td>\n",
       "      <td>Zimbabwe</td>\n",
       "      <td>Aveo</td>\n",
       "      <td>Chevrolet</td>\n",
       "      <td>instapayment</td>\n",
       "      <td>2021-11-01</td>\n",
       "      <td>341890744</td>\n",
       "      <td>1999-07-15</td>\n",
       "      <td>2</td>\n",
       "    </tr>\n",
       "    <tr>\n",
       "      <th>998</th>\n",
       "      <td>Marcia</td>\n",
       "      <td>Maccrae</td>\n",
       "      <td>mmaccraerq@purevolume.com</td>\n",
       "      <td>Female</td>\n",
       "      <td>Syria</td>\n",
       "      <td>del Sol</td>\n",
       "      <td>Honda</td>\n",
       "      <td>mastercard</td>\n",
       "      <td>2022-01-21</td>\n",
       "      <td>163295536</td>\n",
       "      <td>1982-07-27</td>\n",
       "      <td>3</td>\n",
       "    </tr>\n",
       "    <tr>\n",
       "      <th>999</th>\n",
       "      <td>Shermy</td>\n",
       "      <td>Rome</td>\n",
       "      <td>sromerr@cafepress.com</td>\n",
       "      <td>Male</td>\n",
       "      <td>Indonesia</td>\n",
       "      <td>LS Hybrid</td>\n",
       "      <td>Lexus</td>\n",
       "      <td>diners-club-carte-blanche</td>\n",
       "      <td>2021-06-29</td>\n",
       "      <td>907913815</td>\n",
       "      <td>1972-02-14</td>\n",
       "      <td>3</td>\n",
       "    </tr>\n",
       "  </tbody>\n",
       "</table>\n",
       "<p>1000 rows × 12 columns</p>\n",
       "</div>"
      ],
      "text/plain": [
       "    first_name       last_name                        email  gender  \\\n",
       "0        Marji  Von Hindenburg    mvonhindenburg0@issuu.com  Female   \n",
       "1      Jameson         Matejic  jmatejic1@ezinearticles.com    Male   \n",
       "2      Mitchel           Shama            mshama2@phpbb.com    Male   \n",
       "3       Stinky           Lamas            slamas3@house.gov    Male   \n",
       "4      Sheffie       Woollends    swoollends4@bloglovin.com    Male   \n",
       "..         ...             ...                          ...     ...   \n",
       "995    Sansone          Reside           sresidern@blog.com    Male   \n",
       "996      Flinn        Casiroli  fcasiroliro@dagondesign.com    Male   \n",
       "997      Betty          Coston         bcostonrp@elpais.com  Female   \n",
       "998     Marcia         Maccrae    mmaccraerq@purevolume.com  Female   \n",
       "999     Shermy            Rome        sromerr@cafepress.com    Male   \n",
       "\n",
       "            country       car_model     car_make               payment_type  \\\n",
       "0              Peru         Boxster      Porsche                   bankcard   \n",
       "1    United Kingdom          Diablo  Lamborghini                        jcb   \n",
       "2       Afghanistan  612 Scaglietti      Ferrari                      laser   \n",
       "3         Guatemala              XK       Jaguar                        jcb   \n",
       "4       Philippines             ZDX        Acura                       visa   \n",
       "..              ...             ...          ...                        ...   \n",
       "995          Russia   Ram 1500 Club        Dodge                    maestro   \n",
       "996          Kosovo              TL        Acura                        jcb   \n",
       "997        Zimbabwe            Aveo    Chevrolet               instapayment   \n",
       "998           Syria         del Sol        Honda                 mastercard   \n",
       "999       Indonesia       LS Hybrid        Lexus  diners-club-carte-blanche   \n",
       "\n",
       "    date_of_purchace      sales date_of_birth number_of_purchase  \n",
       "0         2021-12-30  718166002    1990-06-24                  4  \n",
       "1         2022-09-03  716614256    1977-02-19                  4  \n",
       "2         2021-08-01  513572637    1981-07-17                  4  \n",
       "3         2021-12-31  401068772    1981-02-13                  4  \n",
       "4         2022-03-23  564908404    1996-03-23                  2  \n",
       "..               ...        ...           ...                ...  \n",
       "995       2022-06-05  600592256    1971-09-15                  3  \n",
       "996       2021-08-03  335403345    1975-09-09                  1  \n",
       "997       2021-11-01  341890744    1999-07-15                  2  \n",
       "998       2022-01-21  163295536    1982-07-27                  3  \n",
       "999       2021-06-29  907913815    1972-02-14                  3  \n",
       "\n",
       "[1000 rows x 12 columns]"
      ]
     },
     "execution_count": 231,
     "metadata": {},
     "output_type": "execute_result"
    }
   ],
   "source": [
    "vehicle_df"
   ]
  },
  {
   "cell_type": "code",
   "execution_count": 12,
   "id": "68610c5a",
   "metadata": {},
   "outputs": [
    {
     "data": {
      "text/plain": [
       "0      œ718166002.45\n",
       "1      œ716614256.75\n",
       "2      œ513572637.51\n",
       "3      œ401068772.13\n",
       "4      œ564908404.97\n",
       "           ...      \n",
       "995    œ600592256.17\n",
       "996    œ335403345.24\n",
       "997    œ341890744.67\n",
       "998    œ163295536.12\n",
       "999    œ907913815.43\n",
       "Name: sales, Length: 1000, dtype: object"
      ]
     },
     "execution_count": 12,
     "metadata": {},
     "output_type": "execute_result"
    }
   ],
   "source": [
    "vehicle_df['sales']"
   ]
  },
  {
   "cell_type": "code",
   "execution_count": 341,
   "id": "fea1df1a",
   "metadata": {},
   "outputs": [
    {
     "data": {
      "text/plain": [
       "first_name                    object\n",
       "last_name                     object\n",
       "email                         object\n",
       "gender                        object\n",
       "country                       object\n",
       "car_model                     object\n",
       "car_make                      object\n",
       "payment_type                  object\n",
       "date_of_purchace      datetime64[ns]\n",
       "sales                          int32\n",
       "date_of_birth         datetime64[ns]\n",
       "number_of_purchase             int32\n",
       "month_year                    object\n",
       "dtype: object"
      ]
     },
     "execution_count": 341,
     "metadata": {},
     "output_type": "execute_result"
    }
   ],
   "source": [
    "vehicle_df.dtypes"
   ]
  },
  {
   "cell_type": "code",
   "execution_count": null,
   "id": "c736bc21",
   "metadata": {},
   "outputs": [],
   "source": [
    "#removing currency symbol\n",
    "vehicle_df['sales']=vehicle_df['sales'].str.replace(',','')\n",
    "vehicle_df['sales']=vehicle_df['sales'].str.replace('œ','')"
   ]
  },
  {
   "cell_type": "code",
   "execution_count": 352,
   "id": "1be8de3e",
   "metadata": {},
   "outputs": [
    {
     "data": {
      "text/plain": [
       "0      718166002\n",
       "1      716614256\n",
       "2      513572637\n",
       "3      401068772\n",
       "4      564908404\n",
       "         ...    \n",
       "995    600592256\n",
       "996    335403345\n",
       "997    341890744\n",
       "998    163295536\n",
       "999    907913815\n",
       "Name: sales, Length: 1000, dtype: int32"
      ]
     },
     "execution_count": 352,
     "metadata": {},
     "output_type": "execute_result"
    }
   ],
   "source": [
    "vehicle_df['sales']"
   ]
  },
  {
   "cell_type": "code",
   "execution_count": 16,
   "id": "f1d42ae5",
   "metadata": {},
   "outputs": [],
   "source": [
    "# convert column to datetime pandas\n",
    "vehicle_df['date_of_purchace'] = pd.to_datetime(vehicle_df['date_of_purchace'])"
   ]
  },
  {
   "cell_type": "code",
   "execution_count": 340,
   "id": "a27bc198",
   "metadata": {},
   "outputs": [],
   "source": [
    "# convert column to datetime pandas\n",
    "vehicle_df['date_of_birth'] = pd.to_datetime(vehicle_df['date_of_birth'])"
   ]
  },
  {
   "cell_type": "code",
   "execution_count": 17,
   "id": "977dd78d",
   "metadata": {},
   "outputs": [],
   "source": [
    "# convert column to float pandas\n",
    "vehicle_df['sales'] = vehicle_df['sales'].astype(float)"
   ]
  },
  {
   "cell_type": "code",
   "execution_count": 295,
   "id": "3ff853ed",
   "metadata": {},
   "outputs": [],
   "source": [
    "#coverting column to integer \n",
    "vehicle_df['number_of_purchase'] = vehicle_df['number_of_purchase'].astype(int)"
   ]
  },
  {
   "cell_type": "markdown",
   "id": "6ef4215a",
   "metadata": {},
   "source": [
    " # Exploratory Data Analysis(EDA)"
   ]
  },
  {
   "cell_type": "markdown",
   "id": "79fa6c43",
   "metadata": {},
   "source": [
    "* Gender Catergory \n",
    "* Payment Type\n",
    "* Number of car purchases by gender\n",
    "* Number of Car Purchases\n",
    "* Cars that generated the most revenue\n",
    "* Location of Customers who bought cars\n",
    "* Sales Trend\n",
    "* Filter the DataFrame, Create an Email List of Customers and save as csv"
   ]
  },
  {
   "cell_type": "markdown",
   "id": "6d47ab19",
   "metadata": {},
   "source": [
    "# Gender Catgegory  and Payment Type"
   ]
  },
  {
   "cell_type": "code",
   "execution_count": 314,
   "id": "54966b53",
   "metadata": {},
   "outputs": [
    {
     "data": {
      "image/png": "[encoded data removed]",
      "text/plain": [
       "<Figure size 1080x360 with 1 Axes>"
      ]
     },
     "metadata": {},
     "output_type": "display_data"
    },
    {
     "data": {
      "image/png": "[encoded data removed]",
      "text/plain": [
       "<Figure size 1080x360 with 1 Axes>"
      ]
     },
     "metadata": {
      "needs_background": "light"
     },
     "output_type": "display_data"
    }
   ],
   "source": [
    "#Gender Catgegory\n",
    "\n",
    "vehicle_df.gender.value_counts().plot(kind='pie',figsize=(15,5), title='Gender Category',autopct='%1.1f%%', shadow=True)\n",
    "plt.show()\n",
    "\n",
    "vehicle_df.payment_type.value_counts().plot(kind='barh',figsize=(15,5), xlabel='Most Used Payment Type', ylabel='Payment Type', title= 'Payment Type')\n",
    "plt.xticks(size=13)\n",
    "plt.show()"
   ]
  },
  {
   "cell_type": "markdown",
   "id": "bc6ee104",
   "metadata": {},
   "source": [
    "# Number of car purchases by gender"
   ]
  },
  {
   "cell_type": "code",
   "execution_count": 328,
   "id": "6bea73fa",
   "metadata": {},
   "outputs": [
    {
     "data": {
      "image/png": "[encoded data removed]",
      "text/plain": [
       "<Figure size 1080x360 with 1 Axes>"
      ]
     },
     "metadata": {
      "needs_background": "light"
     },
     "output_type": "display_data"
    },
    {
     "data": {
      "image/png": "[encoded data removed]",
      "text/plain": [
       "<Figure size 1080x360 with 1 Axes>"
      ]
     },
     "metadata": {
      "needs_background": "light"
     },
     "output_type": "display_data"
    }
   ],
   "source": [
    "#The reason for a low metric in other genders is that majority of persons who purchased a car were mostly male and female\n",
    "\n",
    "\n",
    "vehicle_df.groupby('gender')['number_of_purchase'].sum().plot(kind='bar',figsize=(15,5), ylabel='Number of Purchase', title='Number of Purchase by gender')\n",
    "plt.show()\n",
    "#Which Gender Purchased the most purchase\n",
    "#vehicle_df.groupby(['gender', 'number_of_purchase'])value_counts().plot(kind ='bar')\n",
    "\n",
    "vehicle_df.groupby('number_of_purchase').gender.value_counts().unstack().plot(figsize=(15,5), ylabel='Count of Gender',title='Number of Purchase by gender')\n",
    "plt.show()"
   ]
  },
  {
   "cell_type": "markdown",
   "id": "15c1671c",
   "metadata": {},
   "source": [
    "* The reason for a low metric in other genders was because majority of persons who purchased a car were mostly male and female"
   ]
  },
  {
   "cell_type": "markdown",
   "id": "45c06f18",
   "metadata": {},
   "source": [
    "# Number of Car Purchases & Cars that generated the most revenue"
   ]
  },
  {
   "cell_type": "code",
   "execution_count": 338,
   "id": "d2492a1a",
   "metadata": {},
   "outputs": [
    {
     "data": {
      "image/png": "[encoded data removed]",
      "text/plain": [
       "<Figure size 864x360 with 1 Axes>"
      ]
     },
     "metadata": {
      "needs_background": "light"
     },
     "output_type": "display_data"
    },
    {
     "data": {
      "image/png": "[encoded data removed]",
      "text/plain": [
       "<Figure size 864x360 with 1 Axes>"
      ]
     },
     "metadata": {
      "needs_background": "light"
     },
     "output_type": "display_data"
    }
   ],
   "source": [
    "#Cars by Number of Purchase in a year\n",
    "#Cars with the Most Sale by revenue a year\n",
    "\n",
    "\n",
    "#Cars that generated the most revenue\n",
    "car_make_df = pd.DataFrame(vehicle_df.groupby('car_make').sum()['sales'])\n",
    "car_make_df.sort_values ('sales', ascending=False).plot(kind='bar', figsize=(12,5))\n",
    "plt.title('Cars that generated the most revenue')\n",
    "plt.ylabel('Sales Frequency')\n",
    "#plt.xlabel('Cars Make')\n",
    "plt.xticks(size=13)\n",
    "plt.show()\n",
    "\n",
    "#Cars by Number of Purchase in a year\n",
    "car_purchase_df = pd.DataFrame(vehicle_df.groupby('car_make').sum()['number_of_purchase'])\n",
    "car_purchase_df.sort_values ('number_of_purchase', ascending=False).plot(kind='bar', figsize=(12,5))\n",
    "plt.title('Number of car Purchase')\n",
    "plt.ylabel('Number of car Purchase')\n",
    "#plt.xlabel('Cars Make')\n",
    "plt.xticks(size=13)\n",
    "plt.show()"
   ]
  },
  {
   "cell_type": "markdown",
   "id": "4bbb8fbc",
   "metadata": {},
   "source": [
    "* Cars by Number of Purchase\n",
    "* Cars with the Most Sale in a year"
   ]
  },
  {
   "cell_type": "code",
   "execution_count": 212,
   "id": "1c98ac0a",
   "metadata": {},
   "outputs": [
    {
     "data": {
      "image/png": "[encoded data removed]",
      "text/plain": [
       "<Figure size 576x396 with 1 Axes>"
      ]
     },
     "metadata": {},
     "output_type": "display_data"
    }
   ],
   "source": [
    "# Location of Customers who bought cars \n",
    "vehicle_df['country'].value_counts().head(20).plot(kind='bar')\n",
    "plt.title('Country with the Most CAR Purchase')\n",
    "plt.ylabel('Car Purchase FREQUENCY')\n",
    "plt.show()"
   ]
  },
  {
   "cell_type": "markdown",
   "id": "8b782b52",
   "metadata": {},
   "source": [
    "* Location of Customers who bought cars. China is the highest next is Indonesia, followed by Philippines. These are the top 3"
   ]
  },
  {
   "cell_type": "markdown",
   "id": "35ec1302",
   "metadata": {},
   "source": [
    "# SALES TREND "
   ]
  },
  {
   "cell_type": "code",
   "execution_count": 329,
   "id": "de5ff1c2",
   "metadata": {},
   "outputs": [],
   "source": [
    "#getting month year from dataset\n",
    "vehicle_df['month_year'] = vehicle_df['date_of_purchace'].apply(lambda x: x.strftime('%y-%m'))"
   ]
  },
  {
   "cell_type": "code",
   "execution_count": 330,
   "id": "3a967857",
   "metadata": {},
   "outputs": [
    {
     "data": {
      "text/html": [
       "<div>\n",
       "<style scoped>\n",
       "    .dataframe tbody tr th:only-of-type {\n",
       "        vertical-align: middle;\n",
       "    }\n",
       "\n",
       "    .dataframe tbody tr th {\n",
       "        vertical-align: top;\n",
       "    }\n",
       "\n",
       "    .dataframe thead th {\n",
       "        text-align: right;\n",
       "    }\n",
       "</style>\n",
       "<table border=\"1\" class=\"dataframe\">\n",
       "  <thead>\n",
       "    <tr style=\"text-align: right;\">\n",
       "      <th></th>\n",
       "      <th>sales</th>\n",
       "      <th>number_of_purchase</th>\n",
       "    </tr>\n",
       "    <tr>\n",
       "      <th>month_year</th>\n",
       "      <th></th>\n",
       "      <th></th>\n",
       "    </tr>\n",
       "  </thead>\n",
       "  <tbody>\n",
       "    <tr>\n",
       "      <th>21-01</th>\n",
       "      <td>1.432715e+10</td>\n",
       "      <td>84.0</td>\n",
       "    </tr>\n",
       "    <tr>\n",
       "      <th>21-02</th>\n",
       "      <td>1.747213e+10</td>\n",
       "      <td>85.0</td>\n",
       "    </tr>\n",
       "    <tr>\n",
       "      <th>21-03</th>\n",
       "      <td>2.205883e+10</td>\n",
       "      <td>99.0</td>\n",
       "    </tr>\n",
       "    <tr>\n",
       "      <th>21-04</th>\n",
       "      <td>1.612596e+10</td>\n",
       "      <td>90.0</td>\n",
       "    </tr>\n",
       "    <tr>\n",
       "      <th>21-05</th>\n",
       "      <td>1.978376e+10</td>\n",
       "      <td>99.0</td>\n",
       "    </tr>\n",
       "    <tr>\n",
       "      <th>21-06</th>\n",
       "      <td>1.936249e+10</td>\n",
       "      <td>98.0</td>\n",
       "    </tr>\n",
       "    <tr>\n",
       "      <th>21-07</th>\n",
       "      <td>1.791715e+10</td>\n",
       "      <td>97.0</td>\n",
       "    </tr>\n",
       "    <tr>\n",
       "      <th>21-08</th>\n",
       "      <td>3.679513e+10</td>\n",
       "      <td>160.0</td>\n",
       "    </tr>\n",
       "    <tr>\n",
       "      <th>21-09</th>\n",
       "      <td>1.779485e+10</td>\n",
       "      <td>92.0</td>\n",
       "    </tr>\n",
       "    <tr>\n",
       "      <th>21-10</th>\n",
       "      <td>2.125174e+10</td>\n",
       "      <td>113.0</td>\n",
       "    </tr>\n",
       "    <tr>\n",
       "      <th>21-11</th>\n",
       "      <td>2.095405e+10</td>\n",
       "      <td>100.0</td>\n",
       "    </tr>\n",
       "    <tr>\n",
       "      <th>21-12</th>\n",
       "      <td>1.994834e+10</td>\n",
       "      <td>109.0</td>\n",
       "    </tr>\n",
       "    <tr>\n",
       "      <th>22-01</th>\n",
       "      <td>2.032383e+10</td>\n",
       "      <td>111.0</td>\n",
       "    </tr>\n",
       "    <tr>\n",
       "      <th>22-02</th>\n",
       "      <td>1.709307e+10</td>\n",
       "      <td>96.0</td>\n",
       "    </tr>\n",
       "    <tr>\n",
       "      <th>22-03</th>\n",
       "      <td>1.784895e+10</td>\n",
       "      <td>91.0</td>\n",
       "    </tr>\n",
       "    <tr>\n",
       "      <th>22-04</th>\n",
       "      <td>2.041180e+10</td>\n",
       "      <td>114.0</td>\n",
       "    </tr>\n",
       "    <tr>\n",
       "      <th>22-05</th>\n",
       "      <td>2.090204e+10</td>\n",
       "      <td>100.0</td>\n",
       "    </tr>\n",
       "    <tr>\n",
       "      <th>22-06</th>\n",
       "      <td>2.251363e+10</td>\n",
       "      <td>104.0</td>\n",
       "    </tr>\n",
       "    <tr>\n",
       "      <th>22-07</th>\n",
       "      <td>2.281770e+10</td>\n",
       "      <td>115.0</td>\n",
       "    </tr>\n",
       "    <tr>\n",
       "      <th>22-08</th>\n",
       "      <td>2.213598e+10</td>\n",
       "      <td>112.0</td>\n",
       "    </tr>\n",
       "    <tr>\n",
       "      <th>22-09</th>\n",
       "      <td>2.291509e+10</td>\n",
       "      <td>106.0</td>\n",
       "    </tr>\n",
       "    <tr>\n",
       "      <th>22-10</th>\n",
       "      <td>2.095063e+10</td>\n",
       "      <td>90.0</td>\n",
       "    </tr>\n",
       "    <tr>\n",
       "      <th>22-11</th>\n",
       "      <td>2.809907e+10</td>\n",
       "      <td>106.0</td>\n",
       "    </tr>\n",
       "    <tr>\n",
       "      <th>22-12</th>\n",
       "      <td>2.595141e+10</td>\n",
       "      <td>112.0</td>\n",
       "    </tr>\n",
       "  </tbody>\n",
       "</table>\n",
       "</div>"
      ],
      "text/plain": [
       "                   sales  number_of_purchase\n",
       "month_year                                  \n",
       "21-01       1.432715e+10                84.0\n",
       "21-02       1.747213e+10                85.0\n",
       "21-03       2.205883e+10                99.0\n",
       "21-04       1.612596e+10                90.0\n",
       "21-05       1.978376e+10                99.0\n",
       "21-06       1.936249e+10                98.0\n",
       "21-07       1.791715e+10                97.0\n",
       "21-08       3.679513e+10               160.0\n",
       "21-09       1.779485e+10                92.0\n",
       "21-10       2.125174e+10               113.0\n",
       "21-11       2.095405e+10               100.0\n",
       "21-12       1.994834e+10               109.0\n",
       "22-01       2.032383e+10               111.0\n",
       "22-02       1.709307e+10                96.0\n",
       "22-03       1.784895e+10                91.0\n",
       "22-04       2.041180e+10               114.0\n",
       "22-05       2.090204e+10               100.0\n",
       "22-06       2.251363e+10               104.0\n",
       "22-07       2.281770e+10               115.0\n",
       "22-08       2.213598e+10               112.0\n",
       "22-09       2.291509e+10               106.0\n",
       "22-10       2.095063e+10                90.0\n",
       "22-11       2.809907e+10               106.0\n",
       "22-12       2.595141e+10               112.0"
      ]
     },
     "execution_count": 330,
     "metadata": {},
     "output_type": "execute_result"
    }
   ],
   "source": [
    "vehicle_df.groupby('month_year').sum()"
   ]
  },
  {
   "cell_type": "code",
   "execution_count": 331,
   "id": "38e7f630",
   "metadata": {},
   "outputs": [],
   "source": [
    "df_trend = vehicle_df.groupby('month_year').sum() ['sales'].reset_index()"
   ]
  },
  {
   "cell_type": "code",
   "execution_count": 336,
   "id": "4c60a868",
   "metadata": {},
   "outputs": [
    {
     "data": {
      "image/png": "[encoded data removed]",
      "text/plain": [
       "<Figure size 864x432 with 1 Axes>"
      ]
     },
     "metadata": {
      "needs_background": "light"
     },
     "output_type": "display_data"
    }
   ],
   "source": [
    "#plt.figure(figsize=(15,6))\n",
    "df_trend.plot(x='month_year', y='sales' ,figsize = [12,6],)\n",
    "plt.xticks(rotation='vertical', size=10)\n",
    "plt.title('Sales Trend of Cars per Year')\n",
    "plt.ylim(0)\n",
    "plt.xticks(rotation='vertical', size=13)\n",
    "plt.show()"
   ]
  },
  {
   "cell_type": "markdown",
   "id": "acff2f76",
   "metadata": {},
   "source": [
    "# Filter the DataFrame, Create an Email List of Customers and save as csv"
   ]
  },
  {
   "cell_type": "code",
   "execution_count": null,
   "id": "17f0e714",
   "metadata": {},
   "outputs": [],
   "source": [
    "# Filter the DataFrame that Contains an Email List of Customers and save as csv"
   ]
  },
  {
   "cell_type": "code",
   "execution_count": null,
   "id": "bb0f010e",
   "metadata": {},
   "outputs": [],
   "source": [
    "two_email_list=vehicle_df[vehicle_df.number_of_purchase=='2']"
   ]
  },
  {
   "cell_type": "code",
   "execution_count": null,
   "id": "46dae1eb",
   "metadata": {},
   "outputs": [],
   "source": [
    "twocarpurchase=two_email_list[['first_name','last_name','email']]"
   ]
  },
  {
   "cell_type": "code",
   "execution_count": 254,
   "id": "18e739a2",
   "metadata": {},
   "outputs": [
    {
     "data": {
      "text/html": [
       "<div>\n",
       "<style scoped>\n",
       "    .dataframe tbody tr th:only-of-type {\n",
       "        vertical-align: middle;\n",
       "    }\n",
       "\n",
       "    .dataframe tbody tr th {\n",
       "        vertical-align: top;\n",
       "    }\n",
       "\n",
       "    .dataframe thead th {\n",
       "        text-align: right;\n",
       "    }\n",
       "</style>\n",
       "<table border=\"1\" class=\"dataframe\">\n",
       "  <thead>\n",
       "    <tr style=\"text-align: right;\">\n",
       "      <th></th>\n",
       "      <th>first_name</th>\n",
       "      <th>last_name</th>\n",
       "      <th>email</th>\n",
       "    </tr>\n",
       "  </thead>\n",
       "  <tbody>\n",
       "    <tr>\n",
       "      <th>4</th>\n",
       "      <td>Sheffie</td>\n",
       "      <td>Woollends</td>\n",
       "      <td>swoollends4@bloglovin.com</td>\n",
       "    </tr>\n",
       "    <tr>\n",
       "      <th>10</th>\n",
       "      <td>Konstance</td>\n",
       "      <td>Guiver</td>\n",
       "      <td>kguivera@networksolutions.com</td>\n",
       "    </tr>\n",
       "    <tr>\n",
       "      <th>15</th>\n",
       "      <td>Emilie</td>\n",
       "      <td>Fippe</td>\n",
       "      <td>efippef@washington.edu</td>\n",
       "    </tr>\n",
       "    <tr>\n",
       "      <th>33</th>\n",
       "      <td>Rasla</td>\n",
       "      <td>Smeaton</td>\n",
       "      <td>rsmeatonx@marriott.com</td>\n",
       "    </tr>\n",
       "    <tr>\n",
       "      <th>37</th>\n",
       "      <td>Link</td>\n",
       "      <td>Jull</td>\n",
       "      <td>ljull11@nyu.edu</td>\n",
       "    </tr>\n",
       "    <tr>\n",
       "      <th>...</th>\n",
       "      <td>...</td>\n",
       "      <td>...</td>\n",
       "      <td>...</td>\n",
       "    </tr>\n",
       "    <tr>\n",
       "      <th>987</th>\n",
       "      <td>Maxy</td>\n",
       "      <td>Maghull</td>\n",
       "      <td>mmaghullrf@admin.ch</td>\n",
       "    </tr>\n",
       "    <tr>\n",
       "      <th>988</th>\n",
       "      <td>Pooh</td>\n",
       "      <td>Paddock</td>\n",
       "      <td>ppaddockrg@dailymail.co.uk</td>\n",
       "    </tr>\n",
       "    <tr>\n",
       "      <th>989</th>\n",
       "      <td>Chelsae</td>\n",
       "      <td>Stanett</td>\n",
       "      <td>cstanettrh@hostgator.com</td>\n",
       "    </tr>\n",
       "    <tr>\n",
       "      <th>994</th>\n",
       "      <td>Tait</td>\n",
       "      <td>Ayce</td>\n",
       "      <td>taycerm@delicious.com</td>\n",
       "    </tr>\n",
       "    <tr>\n",
       "      <th>997</th>\n",
       "      <td>Betty</td>\n",
       "      <td>Coston</td>\n",
       "      <td>bcostonrp@elpais.com</td>\n",
       "    </tr>\n",
       "  </tbody>\n",
       "</table>\n",
       "<p>242 rows × 3 columns</p>\n",
       "</div>"
      ],
      "text/plain": [
       "    first_name  last_name                          email\n",
       "4      Sheffie  Woollends      swoollends4@bloglovin.com\n",
       "10   Konstance     Guiver  kguivera@networksolutions.com\n",
       "15      Emilie      Fippe         efippef@washington.edu\n",
       "33       Rasla    Smeaton         rsmeatonx@marriott.com\n",
       "37        Link       Jull                ljull11@nyu.edu\n",
       "..         ...        ...                            ...\n",
       "987       Maxy    Maghull            mmaghullrf@admin.ch\n",
       "988       Pooh    Paddock     ppaddockrg@dailymail.co.uk\n",
       "989    Chelsae    Stanett       cstanettrh@hostgator.com\n",
       "994       Tait       Ayce          taycerm@delicious.com\n",
       "997      Betty     Coston           bcostonrp@elpais.com\n",
       "\n",
       "[242 rows x 3 columns]"
      ]
     },
     "execution_count": 254,
     "metadata": {},
     "output_type": "execute_result"
    }
   ],
   "source": [
    "twocarpurchase"
   ]
  },
  {
   "cell_type": "code",
   "execution_count": null,
   "id": "2c511c87",
   "metadata": {},
   "outputs": [],
   "source": [
    "four_email_list=vehicle_df[vehicle_df.number_of_purchase=='4']"
   ]
  },
  {
   "cell_type": "code",
   "execution_count": null,
   "id": "b94d427f",
   "metadata": {},
   "outputs": [],
   "source": [
    "fourcarpurchase=four_email_list[['first_name','last_name','email']]"
   ]
  },
  {
   "cell_type": "code",
   "execution_count": 255,
   "id": "fa7a579b",
   "metadata": {},
   "outputs": [
    {
     "data": {
      "text/html": [
       "<div>\n",
       "<style scoped>\n",
       "    .dataframe tbody tr th:only-of-type {\n",
       "        vertical-align: middle;\n",
       "    }\n",
       "\n",
       "    .dataframe tbody tr th {\n",
       "        vertical-align: top;\n",
       "    }\n",
       "\n",
       "    .dataframe thead th {\n",
       "        text-align: right;\n",
       "    }\n",
       "</style>\n",
       "<table border=\"1\" class=\"dataframe\">\n",
       "  <thead>\n",
       "    <tr style=\"text-align: right;\">\n",
       "      <th></th>\n",
       "      <th>first_name</th>\n",
       "      <th>last_name</th>\n",
       "      <th>email</th>\n",
       "    </tr>\n",
       "  </thead>\n",
       "  <tbody>\n",
       "    <tr>\n",
       "      <th>0</th>\n",
       "      <td>Marji</td>\n",
       "      <td>Von Hindenburg</td>\n",
       "      <td>mvonhindenburg0@issuu.com</td>\n",
       "    </tr>\n",
       "    <tr>\n",
       "      <th>1</th>\n",
       "      <td>Jameson</td>\n",
       "      <td>Matejic</td>\n",
       "      <td>jmatejic1@ezinearticles.com</td>\n",
       "    </tr>\n",
       "    <tr>\n",
       "      <th>2</th>\n",
       "      <td>Mitchel</td>\n",
       "      <td>Shama</td>\n",
       "      <td>mshama2@phpbb.com</td>\n",
       "    </tr>\n",
       "    <tr>\n",
       "      <th>3</th>\n",
       "      <td>Stinky</td>\n",
       "      <td>Lamas</td>\n",
       "      <td>slamas3@house.gov</td>\n",
       "    </tr>\n",
       "    <tr>\n",
       "      <th>12</th>\n",
       "      <td>Goldia</td>\n",
       "      <td>Shildrake</td>\n",
       "      <td>gshildrakec@infoseek.co.jp</td>\n",
       "    </tr>\n",
       "    <tr>\n",
       "      <th>...</th>\n",
       "      <td>...</td>\n",
       "      <td>...</td>\n",
       "      <td>...</td>\n",
       "    </tr>\n",
       "    <tr>\n",
       "      <th>970</th>\n",
       "      <td>Corena</td>\n",
       "      <td>Bernini</td>\n",
       "      <td>cberniniqy@comcast.net</td>\n",
       "    </tr>\n",
       "    <tr>\n",
       "      <th>972</th>\n",
       "      <td>Tom</td>\n",
       "      <td>Flippelli</td>\n",
       "      <td>tflippellir0@blog.com</td>\n",
       "    </tr>\n",
       "    <tr>\n",
       "      <th>974</th>\n",
       "      <td>Neill</td>\n",
       "      <td>Rowbrey</td>\n",
       "      <td>nrowbreyr2@microsoft.com</td>\n",
       "    </tr>\n",
       "    <tr>\n",
       "      <th>981</th>\n",
       "      <td>Griffie</td>\n",
       "      <td>Boni</td>\n",
       "      <td>gbonir9@flickr.com</td>\n",
       "    </tr>\n",
       "    <tr>\n",
       "      <th>991</th>\n",
       "      <td>Mahala</td>\n",
       "      <td>Wayt</td>\n",
       "      <td>mwaytrj@apache.org</td>\n",
       "    </tr>\n",
       "  </tbody>\n",
       "</table>\n",
       "<p>255 rows × 3 columns</p>\n",
       "</div>"
      ],
      "text/plain": [
       "    first_name       last_name                        email\n",
       "0        Marji  Von Hindenburg    mvonhindenburg0@issuu.com\n",
       "1      Jameson         Matejic  jmatejic1@ezinearticles.com\n",
       "2      Mitchel           Shama            mshama2@phpbb.com\n",
       "3       Stinky           Lamas            slamas3@house.gov\n",
       "12      Goldia       Shildrake   gshildrakec@infoseek.co.jp\n",
       "..         ...             ...                          ...\n",
       "970     Corena         Bernini       cberniniqy@comcast.net\n",
       "972        Tom       Flippelli        tflippellir0@blog.com\n",
       "974      Neill         Rowbrey     nrowbreyr2@microsoft.com\n",
       "981    Griffie            Boni           gbonir9@flickr.com\n",
       "991     Mahala            Wayt           mwaytrj@apache.org\n",
       "\n",
       "[255 rows x 3 columns]"
      ]
     },
     "execution_count": 255,
     "metadata": {},
     "output_type": "execute_result"
    }
   ],
   "source": [
    "fourcarpurchase"
   ]
  },
  {
   "cell_type": "code",
   "execution_count": null,
   "id": "e2298e18",
   "metadata": {},
   "outputs": [],
   "source": [
    "three_email=vehicle_df[vehicle_df.number_of_purchase=='3']"
   ]
  },
  {
   "cell_type": "code",
   "execution_count": null,
   "id": "5f9e8f1a",
   "metadata": {},
   "outputs": [],
   "source": [
    "threecarpurchase=three_email[['first_name','last_name','email']]"
   ]
  },
  {
   "cell_type": "code",
   "execution_count": 273,
   "id": "a9b8bbd9",
   "metadata": {},
   "outputs": [
    {
     "data": {
      "text/html": [
       "<div>\n",
       "<style scoped>\n",
       "    .dataframe tbody tr th:only-of-type {\n",
       "        vertical-align: middle;\n",
       "    }\n",
       "\n",
       "    .dataframe tbody tr th {\n",
       "        vertical-align: top;\n",
       "    }\n",
       "\n",
       "    .dataframe thead th {\n",
       "        text-align: right;\n",
       "    }\n",
       "</style>\n",
       "<table border=\"1\" class=\"dataframe\">\n",
       "  <thead>\n",
       "    <tr style=\"text-align: right;\">\n",
       "      <th></th>\n",
       "      <th>first_name</th>\n",
       "      <th>last_name</th>\n",
       "      <th>email</th>\n",
       "    </tr>\n",
       "  </thead>\n",
       "  <tbody>\n",
       "    <tr>\n",
       "      <th>5</th>\n",
       "      <td>Ebba</td>\n",
       "      <td>Iiannoni</td>\n",
       "      <td>eiiannoni5@nbcnews.com</td>\n",
       "    </tr>\n",
       "    <tr>\n",
       "      <th>6</th>\n",
       "      <td>Alix</td>\n",
       "      <td>Still</td>\n",
       "      <td>astill6@sciencedirect.com</td>\n",
       "    </tr>\n",
       "    <tr>\n",
       "      <th>7</th>\n",
       "      <td>Kenny</td>\n",
       "      <td>Hymus</td>\n",
       "      <td>khymus7@nasa.gov</td>\n",
       "    </tr>\n",
       "    <tr>\n",
       "      <th>8</th>\n",
       "      <td>Germayne</td>\n",
       "      <td>Playle</td>\n",
       "      <td>gplayle8@aboutads.info</td>\n",
       "    </tr>\n",
       "    <tr>\n",
       "      <th>11</th>\n",
       "      <td>Addie</td>\n",
       "      <td>Saiz</td>\n",
       "      <td>asaizb@eventbrite.com</td>\n",
       "    </tr>\n",
       "    <tr>\n",
       "      <th>...</th>\n",
       "      <td>...</td>\n",
       "      <td>...</td>\n",
       "      <td>...</td>\n",
       "    </tr>\n",
       "    <tr>\n",
       "      <th>990</th>\n",
       "      <td>Palm</td>\n",
       "      <td>Cutsforth</td>\n",
       "      <td>pcutsforthri@amazonaws.com</td>\n",
       "    </tr>\n",
       "    <tr>\n",
       "      <th>992</th>\n",
       "      <td>Iggy</td>\n",
       "      <td>Blazhevich</td>\n",
       "      <td>iblazhevichrk@zimbio.com</td>\n",
       "    </tr>\n",
       "    <tr>\n",
       "      <th>995</th>\n",
       "      <td>Sansone</td>\n",
       "      <td>Reside</td>\n",
       "      <td>sresidern@blog.com</td>\n",
       "    </tr>\n",
       "    <tr>\n",
       "      <th>998</th>\n",
       "      <td>Marcia</td>\n",
       "      <td>Maccrae</td>\n",
       "      <td>mmaccraerq@purevolume.com</td>\n",
       "    </tr>\n",
       "    <tr>\n",
       "      <th>999</th>\n",
       "      <td>Shermy</td>\n",
       "      <td>Rome</td>\n",
       "      <td>sromerr@cafepress.com</td>\n",
       "    </tr>\n",
       "  </tbody>\n",
       "</table>\n",
       "<p>238 rows × 3 columns</p>\n",
       "</div>"
      ],
      "text/plain": [
       "    first_name   last_name                       email\n",
       "5         Ebba    Iiannoni      eiiannoni5@nbcnews.com\n",
       "6         Alix       Still   astill6@sciencedirect.com\n",
       "7        Kenny       Hymus            khymus7@nasa.gov\n",
       "8     Germayne      Playle      gplayle8@aboutads.info\n",
       "11       Addie        Saiz       asaizb@eventbrite.com\n",
       "..         ...         ...                         ...\n",
       "990       Palm   Cutsforth  pcutsforthri@amazonaws.com\n",
       "992       Iggy  Blazhevich    iblazhevichrk@zimbio.com\n",
       "995    Sansone      Reside          sresidern@blog.com\n",
       "998     Marcia     Maccrae   mmaccraerq@purevolume.com\n",
       "999     Shermy        Rome       sromerr@cafepress.com\n",
       "\n",
       "[238 rows x 3 columns]"
      ]
     },
     "execution_count": 273,
     "metadata": {},
     "output_type": "execute_result"
    }
   ],
   "source": [
    "threecarpurchase"
   ]
  },
  {
   "cell_type": "code",
   "execution_count": 274,
   "id": "64ccb583",
   "metadata": {},
   "outputs": [],
   "source": [
    "one_email=vehicle_df[vehicle_df.number_of_purchase=='1']"
   ]
  },
  {
   "cell_type": "code",
   "execution_count": 275,
   "id": "54895a43",
   "metadata": {},
   "outputs": [],
   "source": [
    "onecarpurchase=one_email[['first_name','last_name','email']]"
   ]
  },
  {
   "cell_type": "code",
   "execution_count": 276,
   "id": "04596ba8",
   "metadata": {},
   "outputs": [
    {
     "data": {
      "text/html": [
       "<div>\n",
       "<style scoped>\n",
       "    .dataframe tbody tr th:only-of-type {\n",
       "        vertical-align: middle;\n",
       "    }\n",
       "\n",
       "    .dataframe tbody tr th {\n",
       "        vertical-align: top;\n",
       "    }\n",
       "\n",
       "    .dataframe thead th {\n",
       "        text-align: right;\n",
       "    }\n",
       "</style>\n",
       "<table border=\"1\" class=\"dataframe\">\n",
       "  <thead>\n",
       "    <tr style=\"text-align: right;\">\n",
       "      <th></th>\n",
       "      <th>first_name</th>\n",
       "      <th>last_name</th>\n",
       "      <th>email</th>\n",
       "    </tr>\n",
       "  </thead>\n",
       "  <tbody>\n",
       "    <tr>\n",
       "      <th>9</th>\n",
       "      <td>Cleo</td>\n",
       "      <td>Lisle</td>\n",
       "      <td>clisle9@weibo.com</td>\n",
       "    </tr>\n",
       "    <tr>\n",
       "      <th>20</th>\n",
       "      <td>Kahlil</td>\n",
       "      <td>Halsey</td>\n",
       "      <td>khalseyk@nature.com</td>\n",
       "    </tr>\n",
       "    <tr>\n",
       "      <th>21</th>\n",
       "      <td>Alvina</td>\n",
       "      <td>Cridland</td>\n",
       "      <td>acridlandl@ibm.com</td>\n",
       "    </tr>\n",
       "    <tr>\n",
       "      <th>25</th>\n",
       "      <td>Erv</td>\n",
       "      <td>Bottomer</td>\n",
       "      <td>ebottomerp@boston.com</td>\n",
       "    </tr>\n",
       "    <tr>\n",
       "      <th>26</th>\n",
       "      <td>Donelle</td>\n",
       "      <td>Carlino</td>\n",
       "      <td>dcarlinoq@google.com</td>\n",
       "    </tr>\n",
       "    <tr>\n",
       "      <th>...</th>\n",
       "      <td>...</td>\n",
       "      <td>...</td>\n",
       "      <td>...</td>\n",
       "    </tr>\n",
       "    <tr>\n",
       "      <th>979</th>\n",
       "      <td>Aeriel</td>\n",
       "      <td>Lecordier</td>\n",
       "      <td>alecordierr7@state.tx.us</td>\n",
       "    </tr>\n",
       "    <tr>\n",
       "      <th>980</th>\n",
       "      <td>Garrek</td>\n",
       "      <td>Dignan</td>\n",
       "      <td>gdignanr8@blog.com</td>\n",
       "    </tr>\n",
       "    <tr>\n",
       "      <th>984</th>\n",
       "      <td>Calida</td>\n",
       "      <td>Domleo</td>\n",
       "      <td>cdomleorc@sphinn.com</td>\n",
       "    </tr>\n",
       "    <tr>\n",
       "      <th>993</th>\n",
       "      <td>Woodie</td>\n",
       "      <td>Motion</td>\n",
       "      <td>wmotionrl@apache.org</td>\n",
       "    </tr>\n",
       "    <tr>\n",
       "      <th>996</th>\n",
       "      <td>Flinn</td>\n",
       "      <td>Casiroli</td>\n",
       "      <td>fcasiroliro@dagondesign.com</td>\n",
       "    </tr>\n",
       "  </tbody>\n",
       "</table>\n",
       "<p>265 rows × 3 columns</p>\n",
       "</div>"
      ],
      "text/plain": [
       "    first_name  last_name                        email\n",
       "9         Cleo      Lisle            clisle9@weibo.com\n",
       "20      Kahlil     Halsey          khalseyk@nature.com\n",
       "21      Alvina   Cridland           acridlandl@ibm.com\n",
       "25         Erv   Bottomer        ebottomerp@boston.com\n",
       "26     Donelle    Carlino         dcarlinoq@google.com\n",
       "..         ...        ...                          ...\n",
       "979     Aeriel  Lecordier     alecordierr7@state.tx.us\n",
       "980     Garrek     Dignan           gdignanr8@blog.com\n",
       "984     Calida     Domleo         cdomleorc@sphinn.com\n",
       "993     Woodie     Motion         wmotionrl@apache.org\n",
       "996      Flinn   Casiroli  fcasiroliro@dagondesign.com\n",
       "\n",
       "[265 rows x 3 columns]"
      ]
     },
     "execution_count": 276,
     "metadata": {},
     "output_type": "execute_result"
    }
   ],
   "source": [
    "onecarpurchase"
   ]
  },
  {
   "cell_type": "markdown",
   "id": "1973a8ff",
   "metadata": {},
   "source": [
    "# Saved Customer Email List"
   ]
  },
  {
   "cell_type": "code",
   "execution_count": 309,
   "id": "0e1657b5",
   "metadata": {},
   "outputs": [],
   "source": [
    "onecarpurchase.to_csv('EMAIL1.csv')"
   ]
  },
  {
   "cell_type": "code",
   "execution_count": 310,
   "id": "9615ecda",
   "metadata": {},
   "outputs": [],
   "source": [
    "twocarpurchase.to_csv('EMAIL2.csv')"
   ]
  },
  {
   "cell_type": "code",
   "execution_count": 311,
   "id": "34c2cb40",
   "metadata": {},
   "outputs": [],
   "source": [
    "threecarpurchase.to_csv('EMAIL3.csv')"
   ]
  },
  {
   "cell_type": "code",
   "execution_count": 313,
   "id": "0d4d1a05",
   "metadata": {},
   "outputs": [],
   "source": [
    "fourcarpurchase.to_csv('EMAIL4.csv')"
   ]
  },
  {
   "cell_type": "code",
   "execution_count": null,
   "id": "fea4fd53",
   "metadata": {},
   "outputs": [],
   "source": []
  }
 ],
 "metadata": {
  "kernelspec": {
   "display_name": "Python 3 (ipykernel)",
   "language": "python",
   "name": "python3"
  },
  "language_info": {
   "codemirror_mode": {
    "name": "ipython",
    "version": 3
   },
   "file_extension": ".py",
   "mimetype": "text/x-python",
   "name": "python",
   "nbconvert_exporter": "python",
   "pygments_lexer": "ipython3",
   "version": "3.9.7"
  }
 },
 "nbformat": 4,
 "nbformat_minor": 5
}
