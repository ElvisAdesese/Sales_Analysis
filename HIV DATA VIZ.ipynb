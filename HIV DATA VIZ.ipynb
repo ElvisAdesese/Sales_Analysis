{
 "cells": [
  {
   "cell_type": "code",
   "execution_count": 21,
   "id": "c82b8bfc",
   "metadata": {},
   "outputs": [],
   "source": [
    "import matplotlib.pyplot as plt\n",
    "import pandas as pd\n",
    "import numpy as np\n",
    "import seaborn as sns "
   ]
  },
  {
   "cell_type": "code",
   "execution_count": 170,
   "id": "03e40140",
   "metadata": {},
   "outputs": [],
   "source": [
    "df =pd.read_excel('HIV_DATA.xlsx')"
   ]
  },
  {
   "cell_type": "code",
   "execution_count": 171,
   "id": "1d2763eb",
   "metadata": {},
   "outputs": [
    {
     "data": {
      "text/html": [
       "<div>\n",
       "<style scoped>\n",
       "    .dataframe tbody tr th:only-of-type {\n",
       "        vertical-align: middle;\n",
       "    }\n",
       "\n",
       "    .dataframe tbody tr th {\n",
       "        vertical-align: top;\n",
       "    }\n",
       "\n",
       "    .dataframe thead th {\n",
       "        text-align: right;\n",
       "    }\n",
       "</style>\n",
       "<table border=\"1\" class=\"dataframe\">\n",
       "  <thead>\n",
       "    <tr style=\"text-align: right;\">\n",
       "      <th></th>\n",
       "      <th>Country</th>\n",
       "      <th>UNICEF_Region</th>\n",
       "      <th>Year</th>\n",
       "      <th>Sex</th>\n",
       "      <th>Age</th>\n",
       "      <th>Estimated_incidence_rate_of_new_HIV_infection_per_1000_uninfected_population</th>\n",
       "      <th>Estimated_number_of_annual_AIDS_related_deaths</th>\n",
       "      <th>Estimated_number_of_annual_new_HIV_infections</th>\n",
       "      <th>Estimated_number_of_people_living_with_HIV</th>\n",
       "      <th>Estimated_rate_of_annual_AIDS_related_deaths _per_100000_population</th>\n",
       "    </tr>\n",
       "  </thead>\n",
       "  <tbody>\n",
       "    <tr>\n",
       "      <th>0</th>\n",
       "      <td>Angola</td>\n",
       "      <td>Eastern and Southern Africa</td>\n",
       "      <td>1990</td>\n",
       "      <td>Female</td>\n",
       "      <td>10</td>\n",
       "      <td>0.64</td>\n",
       "      <td>100.0</td>\n",
       "      <td>500.0</td>\n",
       "      <td>860</td>\n",
       "      <td>0.36</td>\n",
       "    </tr>\n",
       "    <tr>\n",
       "      <th>1</th>\n",
       "      <td>Angola</td>\n",
       "      <td>Eastern and Southern Africa</td>\n",
       "      <td>1990</td>\n",
       "      <td>Male</td>\n",
       "      <td>24</td>\n",
       "      <td>0.15</td>\n",
       "      <td>100.0</td>\n",
       "      <td>100.0</td>\n",
       "      <td>200</td>\n",
       "      <td>0.07</td>\n",
       "    </tr>\n",
       "    <tr>\n",
       "      <th>2</th>\n",
       "      <td>Angola</td>\n",
       "      <td>Eastern and Southern Africa</td>\n",
       "      <td>1991</td>\n",
       "      <td>Female</td>\n",
       "      <td>23</td>\n",
       "      <td>0.75</td>\n",
       "      <td>100.0</td>\n",
       "      <td>500.0</td>\n",
       "      <td>1100</td>\n",
       "      <td>0.42</td>\n",
       "    </tr>\n",
       "    <tr>\n",
       "      <th>3</th>\n",
       "      <td>Angola</td>\n",
       "      <td>Eastern and Southern Africa</td>\n",
       "      <td>1991</td>\n",
       "      <td>Male</td>\n",
       "      <td>34</td>\n",
       "      <td>0.17</td>\n",
       "      <td>100.0</td>\n",
       "      <td>200.0</td>\n",
       "      <td>500</td>\n",
       "      <td>0.14</td>\n",
       "    </tr>\n",
       "    <tr>\n",
       "      <th>4</th>\n",
       "      <td>Angola</td>\n",
       "      <td>Eastern and Southern Africa</td>\n",
       "      <td>1992</td>\n",
       "      <td>Female</td>\n",
       "      <td>45</td>\n",
       "      <td>0.88</td>\n",
       "      <td>100.0</td>\n",
       "      <td>590.0</td>\n",
       "      <td>1300</td>\n",
       "      <td>0.54</td>\n",
       "    </tr>\n",
       "    <tr>\n",
       "      <th>...</th>\n",
       "      <td>...</td>\n",
       "      <td>...</td>\n",
       "      <td>...</td>\n",
       "      <td>...</td>\n",
       "      <td>...</td>\n",
       "      <td>...</td>\n",
       "      <td>...</td>\n",
       "      <td>...</td>\n",
       "      <td>...</td>\n",
       "      <td>...</td>\n",
       "    </tr>\n",
       "    <tr>\n",
       "      <th>2635</th>\n",
       "      <td>Zimbabwe</td>\n",
       "      <td>Eastern and Southern Africa</td>\n",
       "      <td>2017</td>\n",
       "      <td>Male</td>\n",
       "      <td>18</td>\n",
       "      <td>1.66</td>\n",
       "      <td>900.0</td>\n",
       "      <td>1200.0</td>\n",
       "      <td>37000</td>\n",
       "      <td>57.28</td>\n",
       "    </tr>\n",
       "    <tr>\n",
       "      <th>2636</th>\n",
       "      <td>Zimbabwe</td>\n",
       "      <td>Eastern and Southern Africa</td>\n",
       "      <td>2018</td>\n",
       "      <td>Female</td>\n",
       "      <td>12</td>\n",
       "      <td>6.05</td>\n",
       "      <td>770.0</td>\n",
       "      <td>4400.0</td>\n",
       "      <td>48000</td>\n",
       "      <td>48.39</td>\n",
       "    </tr>\n",
       "    <tr>\n",
       "      <th>2637</th>\n",
       "      <td>Zimbabwe</td>\n",
       "      <td>Eastern and Southern Africa</td>\n",
       "      <td>2018</td>\n",
       "      <td>Male</td>\n",
       "      <td>42</td>\n",
       "      <td>1.46</td>\n",
       "      <td>800.0</td>\n",
       "      <td>1100.0</td>\n",
       "      <td>37000</td>\n",
       "      <td>49.97</td>\n",
       "    </tr>\n",
       "    <tr>\n",
       "      <th>2638</th>\n",
       "      <td>Zimbabwe</td>\n",
       "      <td>Eastern and Southern Africa</td>\n",
       "      <td>2019</td>\n",
       "      <td>Female</td>\n",
       "      <td>34</td>\n",
       "      <td>5.99</td>\n",
       "      <td>690.0</td>\n",
       "      <td>4400.0</td>\n",
       "      <td>48000</td>\n",
       "      <td>42.18</td>\n",
       "    </tr>\n",
       "    <tr>\n",
       "      <th>2639</th>\n",
       "      <td>Zimbabwe</td>\n",
       "      <td>Eastern and Southern Africa</td>\n",
       "      <td>2019</td>\n",
       "      <td>Male</td>\n",
       "      <td>58</td>\n",
       "      <td>1.43</td>\n",
       "      <td>730.0</td>\n",
       "      <td>1100.0</td>\n",
       "      <td>37000</td>\n",
       "      <td>44.57</td>\n",
       "    </tr>\n",
       "  </tbody>\n",
       "</table>\n",
       "<p>2640 rows × 10 columns</p>\n",
       "</div>"
      ],
      "text/plain": [
       "       Country                UNICEF_Region  Year     Sex  Age  \\\n",
       "0       Angola  Eastern and Southern Africa  1990  Female   10   \n",
       "1       Angola  Eastern and Southern Africa  1990    Male   24   \n",
       "2       Angola  Eastern and Southern Africa  1991  Female   23   \n",
       "3       Angola  Eastern and Southern Africa  1991    Male   34   \n",
       "4       Angola  Eastern and Southern Africa  1992  Female   45   \n",
       "...        ...                          ...   ...     ...  ...   \n",
       "2635  Zimbabwe  Eastern and Southern Africa  2017    Male   18   \n",
       "2636  Zimbabwe  Eastern and Southern Africa  2018  Female   12   \n",
       "2637  Zimbabwe  Eastern and Southern Africa  2018    Male   42   \n",
       "2638  Zimbabwe  Eastern and Southern Africa  2019  Female   34   \n",
       "2639  Zimbabwe  Eastern and Southern Africa  2019    Male   58   \n",
       "\n",
       "      Estimated_incidence_rate_of_new_HIV_infection_per_1000_uninfected_population   \\\n",
       "0                                                  0.64                               \n",
       "1                                                  0.15                               \n",
       "2                                                  0.75                               \n",
       "3                                                  0.17                               \n",
       "4                                                  0.88                               \n",
       "...                                                 ...                               \n",
       "2635                                               1.66                               \n",
       "2636                                               6.05                               \n",
       "2637                                               1.46                               \n",
       "2638                                               5.99                               \n",
       "2639                                               1.43                               \n",
       "\n",
       "      Estimated_number_of_annual_AIDS_related_deaths  \\\n",
       "0                                              100.0   \n",
       "1                                              100.0   \n",
       "2                                              100.0   \n",
       "3                                              100.0   \n",
       "4                                              100.0   \n",
       "...                                              ...   \n",
       "2635                                           900.0   \n",
       "2636                                           770.0   \n",
       "2637                                           800.0   \n",
       "2638                                           690.0   \n",
       "2639                                           730.0   \n",
       "\n",
       "      Estimated_number_of_annual_new_HIV_infections  \\\n",
       "0                                             500.0   \n",
       "1                                             100.0   \n",
       "2                                             500.0   \n",
       "3                                             200.0   \n",
       "4                                             590.0   \n",
       "...                                             ...   \n",
       "2635                                         1200.0   \n",
       "2636                                         4400.0   \n",
       "2637                                         1100.0   \n",
       "2638                                         4400.0   \n",
       "2639                                         1100.0   \n",
       "\n",
       "      Estimated_number_of_people_living_with_HIV  \\\n",
       "0                                            860   \n",
       "1                                            200   \n",
       "2                                           1100   \n",
       "3                                            500   \n",
       "4                                           1300   \n",
       "...                                          ...   \n",
       "2635                                       37000   \n",
       "2636                                       48000   \n",
       "2637                                       37000   \n",
       "2638                                       48000   \n",
       "2639                                       37000   \n",
       "\n",
       "      Estimated_rate_of_annual_AIDS_related_deaths _per_100000_population   \n",
       "0                                                  0.36                     \n",
       "1                                                  0.07                     \n",
       "2                                                  0.42                     \n",
       "3                                                  0.14                     \n",
       "4                                                  0.54                     \n",
       "...                                                 ...                     \n",
       "2635                                              57.28                     \n",
       "2636                                              48.39                     \n",
       "2637                                              49.97                     \n",
       "2638                                              42.18                     \n",
       "2639                                              44.57                     \n",
       "\n",
       "[2640 rows x 10 columns]"
      ]
     },
     "execution_count": 171,
     "metadata": {},
     "output_type": "execute_result"
    }
   ],
   "source": [
    "df"
   ]
  },
  {
   "cell_type": "code",
   "execution_count": 122,
   "id": "72f84aba",
   "metadata": {},
   "outputs": [
    {
     "data": {
      "text/html": [
       "<div>\n",
       "<style scoped>\n",
       "    .dataframe tbody tr th:only-of-type {\n",
       "        vertical-align: middle;\n",
       "    }\n",
       "\n",
       "    .dataframe tbody tr th {\n",
       "        vertical-align: top;\n",
       "    }\n",
       "\n",
       "    .dataframe thead th {\n",
       "        text-align: right;\n",
       "    }\n",
       "</style>\n",
       "<table border=\"1\" class=\"dataframe\">\n",
       "  <thead>\n",
       "    <tr style=\"text-align: right;\">\n",
       "      <th></th>\n",
       "      <th>Year</th>\n",
       "      <th>Age</th>\n",
       "      <th>Estimated_incidence_rate_of_new_HIV_infection_per_1000_uninfected_population</th>\n",
       "      <th>Estimated_number_of_annual_AIDS_related_deaths</th>\n",
       "      <th>Estimated_number_of_annual_new_HIV_infections</th>\n",
       "      <th>Estimated_number_of_people_living_with_HIV</th>\n",
       "      <th>Estimated_rate_of_annual_AIDS_related_deaths _per_100000_population</th>\n",
       "    </tr>\n",
       "  </thead>\n",
       "  <tbody>\n",
       "    <tr>\n",
       "      <th>count</th>\n",
       "      <td>2640.000000</td>\n",
       "      <td>2640.000000</td>\n",
       "      <td>2520.000000</td>\n",
       "      <td>2580.000000</td>\n",
       "      <td>2520.000000</td>\n",
       "      <td>2640.000000</td>\n",
       "      <td>2580.000000</td>\n",
       "    </tr>\n",
       "    <tr>\n",
       "      <th>mean</th>\n",
       "      <td>2004.500000</td>\n",
       "      <td>35.595455</td>\n",
       "      <td>3.751397</td>\n",
       "      <td>391.949612</td>\n",
       "      <td>2777.305556</td>\n",
       "      <td>13023.984848</td>\n",
       "      <td>16.708713</td>\n",
       "    </tr>\n",
       "    <tr>\n",
       "      <th>std</th>\n",
       "      <td>8.657081</td>\n",
       "      <td>18.339375</td>\n",
       "      <td>7.660533</td>\n",
       "      <td>517.781115</td>\n",
       "      <td>7656.464357</td>\n",
       "      <td>27010.089271</td>\n",
       "      <td>21.493204</td>\n",
       "    </tr>\n",
       "    <tr>\n",
       "      <th>min</th>\n",
       "      <td>1990.000000</td>\n",
       "      <td>10.000000</td>\n",
       "      <td>0.010000</td>\n",
       "      <td>100.000000</td>\n",
       "      <td>100.000000</td>\n",
       "      <td>100.000000</td>\n",
       "      <td>0.010000</td>\n",
       "    </tr>\n",
       "    <tr>\n",
       "      <th>25%</th>\n",
       "      <td>1997.000000</td>\n",
       "      <td>21.000000</td>\n",
       "      <td>0.320000</td>\n",
       "      <td>100.000000</td>\n",
       "      <td>100.000000</td>\n",
       "      <td>630.000000</td>\n",
       "      <td>2.290000</td>\n",
       "    </tr>\n",
       "    <tr>\n",
       "      <th>50%</th>\n",
       "      <td>2004.500000</td>\n",
       "      <td>31.000000</td>\n",
       "      <td>1.150000</td>\n",
       "      <td>100.000000</td>\n",
       "      <td>500.000000</td>\n",
       "      <td>3300.000000</td>\n",
       "      <td>9.000000</td>\n",
       "    </tr>\n",
       "    <tr>\n",
       "      <th>75%</th>\n",
       "      <td>2012.000000</td>\n",
       "      <td>47.000000</td>\n",
       "      <td>3.500000</td>\n",
       "      <td>500.000000</td>\n",
       "      <td>2100.000000</td>\n",
       "      <td>13000.000000</td>\n",
       "      <td>21.402500</td>\n",
       "    </tr>\n",
       "    <tr>\n",
       "      <th>max</th>\n",
       "      <td>2019.000000</td>\n",
       "      <td>99.000000</td>\n",
       "      <td>70.630000</td>\n",
       "      <td>3500.000000</td>\n",
       "      <td>90000.000000</td>\n",
       "      <td>250000.000000</td>\n",
       "      <td>138.240000</td>\n",
       "    </tr>\n",
       "  </tbody>\n",
       "</table>\n",
       "</div>"
      ],
      "text/plain": [
       "              Year          Age  \\\n",
       "count  2640.000000  2640.000000   \n",
       "mean   2004.500000    35.595455   \n",
       "std       8.657081    18.339375   \n",
       "min    1990.000000    10.000000   \n",
       "25%    1997.000000    21.000000   \n",
       "50%    2004.500000    31.000000   \n",
       "75%    2012.000000    47.000000   \n",
       "max    2019.000000    99.000000   \n",
       "\n",
       "       Estimated_incidence_rate_of_new_HIV_infection_per_1000_uninfected_population   \\\n",
       "count                                        2520.000000                               \n",
       "mean                                            3.751397                               \n",
       "std                                             7.660533                               \n",
       "min                                             0.010000                               \n",
       "25%                                             0.320000                               \n",
       "50%                                             1.150000                               \n",
       "75%                                             3.500000                               \n",
       "max                                            70.630000                               \n",
       "\n",
       "       Estimated_number_of_annual_AIDS_related_deaths  \\\n",
       "count                                     2580.000000   \n",
       "mean                                       391.949612   \n",
       "std                                        517.781115   \n",
       "min                                        100.000000   \n",
       "25%                                        100.000000   \n",
       "50%                                        100.000000   \n",
       "75%                                        500.000000   \n",
       "max                                       3500.000000   \n",
       "\n",
       "       Estimated_number_of_annual_new_HIV_infections  \\\n",
       "count                                    2520.000000   \n",
       "mean                                     2777.305556   \n",
       "std                                      7656.464357   \n",
       "min                                       100.000000   \n",
       "25%                                       100.000000   \n",
       "50%                                       500.000000   \n",
       "75%                                      2100.000000   \n",
       "max                                     90000.000000   \n",
       "\n",
       "       Estimated_number_of_people_living_with_HIV  \\\n",
       "count                                 2640.000000   \n",
       "mean                                 13023.984848   \n",
       "std                                  27010.089271   \n",
       "min                                    100.000000   \n",
       "25%                                    630.000000   \n",
       "50%                                   3300.000000   \n",
       "75%                                  13000.000000   \n",
       "max                                 250000.000000   \n",
       "\n",
       "       Estimated_rate_of_annual_AIDS_related_deaths _per_100000_population   \n",
       "count                                        2580.000000                     \n",
       "mean                                           16.708713                     \n",
       "std                                            21.493204                     \n",
       "min                                             0.010000                     \n",
       "25%                                             2.290000                     \n",
       "50%                                             9.000000                     \n",
       "75%                                            21.402500                     \n",
       "max                                           138.240000                     "
      ]
     },
     "execution_count": 122,
     "metadata": {},
     "output_type": "execute_result"
    }
   ],
   "source": [
    "df.describe()"
   ]
  },
  {
   "cell_type": "code",
   "execution_count": 123,
   "id": "406dfaee",
   "metadata": {},
   "outputs": [
    {
     "name": "stdout",
     "output_type": "stream",
     "text": [
      "<class 'pandas.core.frame.DataFrame'>\n",
      "RangeIndex: 2640 entries, 0 to 2639\n",
      "Data columns (total 10 columns):\n",
      " #   Column                                                                         Non-Null Count  Dtype  \n",
      "---  ------                                                                         --------------  -----  \n",
      " 0   Country                                                                        2640 non-null   object \n",
      " 1   UNICEF_Region                                                                  2640 non-null   object \n",
      " 2   Year                                                                           2640 non-null   int64  \n",
      " 3   Sex                                                                            2640 non-null   object \n",
      " 4   Age                                                                            2640 non-null   int64  \n",
      " 5   Estimated_incidence_rate_of_new_HIV_infection_per_1000_uninfected_population   2520 non-null   float64\n",
      " 6   Estimated_number_of_annual_AIDS_related_deaths                                 2580 non-null   float64\n",
      " 7   Estimated_number_of_annual_new_HIV_infections                                  2520 non-null   float64\n",
      " 8   Estimated_number_of_people_living_with_HIV                                     2640 non-null   int64  \n",
      " 9   Estimated_rate_of_annual_AIDS_related_deaths _per_100000_population            2580 non-null   float64\n",
      "dtypes: float64(4), int64(3), object(3)\n",
      "memory usage: 206.4+ KB\n"
     ]
    }
   ],
   "source": [
    "df.info()"
   ]
  },
  {
   "cell_type": "code",
   "execution_count": 124,
   "id": "505c8f42",
   "metadata": {},
   "outputs": [
    {
     "data": {
      "text/plain": [
       "Country                                                                            0\n",
       "UNICEF_Region                                                                      0\n",
       "Year                                                                               0\n",
       "Sex                                                                                0\n",
       "Age                                                                                0\n",
       "Estimated_incidence_rate_of_new_HIV_infection_per_1000_uninfected_population     120\n",
       "Estimated_number_of_annual_AIDS_related_deaths                                    60\n",
       "Estimated_number_of_annual_new_HIV_infections                                    120\n",
       "Estimated_number_of_people_living_with_HIV                                         0\n",
       "Estimated_rate_of_annual_AIDS_related_deaths _per_100000_population               60\n",
       "dtype: int64"
      ]
     },
     "execution_count": 124,
     "metadata": {},
     "output_type": "execute_result"
    }
   ],
   "source": [
    "df.isnull().sum()"
   ]
  },
  {
   "cell_type": "code",
   "execution_count": 40,
   "id": "55b96427",
   "metadata": {},
   "outputs": [
    {
     "data": {
      "text/plain": [
       "(2640, 10)"
      ]
     },
     "execution_count": 40,
     "metadata": {},
     "output_type": "execute_result"
    }
   ],
   "source": [
    "df.shape"
   ]
  },
  {
   "cell_type": "code",
   "execution_count": 57,
   "id": "70a2a6f9",
   "metadata": {},
   "outputs": [
    {
     "data": {
      "text/plain": [
       "Burkina_Faso                        106\n",
       "South_Africa                         94\n",
       "Somalia                              87\n",
       "United_Republic_of_Tanzania          87\n",
       "Burundi                              82\n",
       "Ivory_Coast                          80\n",
       "Mauritania                           79\n",
       "Nigeria                              77\n",
       "Malawi                               75\n",
       "Chad                                 74\n",
       "Sudan                                74\n",
       "Guinea                               73\n",
       "Guinea-Bissau                        72\n",
       "Senegal                              70\n",
       "Djibouti                             67\n",
       "Mali                                 67\n",
       "Democratic_Republic_of_the_Congo     66\n",
       "Eritrea                              65\n",
       "Central_African_Republic             65\n",
       "Namibia                              64\n",
       "Ghana                                62\n",
       "Lesotho                              62\n",
       "Zimbabwe                             60\n",
       "Liberia                              60\n",
       "Kenya                                60\n",
       "Mozambique                           58\n",
       "Equatorial_Guinea                    57\n",
       "Gabon                                54\n",
       "Ethiopia                             54\n",
       "Congo                                54\n",
       "Gambia                               51\n",
       "South_Sudan                          50\n",
       "Togo                                 48\n",
       "Rwanda                               43\n",
       "Madagascar                           43\n",
       "Niger                                41\n",
       "Eswatini                             41\n",
       "Cameroon                             40\n",
       "Sierra_Leone                         36\n",
       "Mauritius                            36\n",
       "Uganda                               33\n",
       "Zambia                               26\n",
       "Benin                                24\n",
       "Angola                               23\n",
       "Name: Country, dtype: int64"
      ]
     },
     "execution_count": 57,
     "metadata": {},
     "output_type": "execute_result"
    }
   ],
   "source": [
    "df['Country'].value_counts()"
   ]
  },
  {
   "cell_type": "code",
   "execution_count": 112,
   "id": "46a3eff3",
   "metadata": {
    "scrolled": true
   },
   "outputs": [
    {
     "data": {
      "image/png": "[encoded data removed]",
      "text/plain": [
       "<Figure size 864x324 with 1 Axes>"
      ]
     },
     "metadata": {},
     "output_type": "display_data"
    }
   ],
   "source": [
    "plt.style.use('bmh')\n",
    "plt.figure(figsize=(12,4.5))\n",
    "Country = ['Burkina_Faso','South_Africa','Somalia','United_Republic_of_Tanzania','Burundi','Ivory_Coast']\n",
    "Num = [106,94,87,87,82,80]\n",
    "plt.title('Top six HIV infection by Country')\n",
    "plt.xlabel('Countries')\n",
    "plt.ylabel('Number of Infections')\n",
    "plt.xticks(size=12)\n",
    "\n",
    "\n",
    "plt.bar(Country,Num)\n",
    "\n",
    "plt.show()"
   ]
  },
  {
   "cell_type": "code",
   "execution_count": 114,
   "id": "8e570705",
   "metadata": {},
   "outputs": [
    {
     "data": {
      "text/plain": [
       "<AxesSubplot:xlabel='Age', ylabel='Count'>"
      ]
     },
     "execution_count": 114,
     "metadata": {},
     "output_type": "execute_result"
    },
    {
     "data": {
      "image/png": "[encoded data removed]",
      "text/plain": [
       "<Figure size 864x324 with 1 Axes>"
      ]
     },
     "metadata": {},
     "output_type": "display_data"
    }
   ],
   "source": [
    "plt.figure(figsize=(12,4.5))\n",
    "import seaborn as sns \n",
    "sns.histplot(df.Age,kde=True,bins=[10,20,30,40,50,60,70,80,100])\n",
    "            \n"
   ]
  },
  {
   "cell_type": "code",
   "execution_count": 125,
   "id": "85645ac6",
   "metadata": {},
   "outputs": [
    {
     "data": {
      "text/plain": [
       "Eastern and Southern Africa    1332\n",
       "West and Central Africa        1308\n",
       "Name: UNICEF_Region, dtype: int64"
      ]
     },
     "execution_count": 125,
     "metadata": {},
     "output_type": "execute_result"
    }
   ],
   "source": [
    "df['UNICEF_Region'].value_counts()"
   ]
  },
  {
   "cell_type": "code",
   "execution_count": 134,
   "id": "781db96f",
   "metadata": {},
   "outputs": [
    {
     "name": "stderr",
     "output_type": "stream",
     "text": [
      "C:\\Users\\USER\\anaconda3\\lib\\site-packages\\seaborn\\_decorators.py:36: FutureWarning: Pass the following variable as a keyword arg: x. From version 0.12, the only valid positional argument will be `data`, and passing other arguments without an explicit keyword will result in an error or misinterpretation.\n",
      "  warnings.warn(\n"
     ]
    },
    {
     "data": {
      "image/png": "[encoded data removed]",
      "text/plain": [
       "<Figure size 864x324 with 1 Axes>"
      ]
     },
     "metadata": {},
     "output_type": "display_data"
    }
   ],
   "source": [
    "plt.style.use('fivethirtyeight')\n",
    "plt.figure(figsize=(12,4.5))\n",
    "sns.countplot(df['UNICEF_Region'])\n",
    "plt.show()"
   ]
  },
  {
   "cell_type": "code",
   "execution_count": 135,
   "id": "80a51b94",
   "metadata": {},
   "outputs": [
    {
     "data": {
      "text/plain": [
       "Female    1320\n",
       "Male      1320\n",
       "Name: Sex, dtype: int64"
      ]
     },
     "execution_count": 135,
     "metadata": {},
     "output_type": "execute_result"
    }
   ],
   "source": [
    "\n",
    "df['Sex'].value_counts()"
   ]
  },
  {
   "cell_type": "code",
   "execution_count": 145,
   "id": "d6f98828",
   "metadata": {},
   "outputs": [
    {
     "name": "stderr",
     "output_type": "stream",
     "text": [
      "C:\\Users\\USER\\anaconda3\\lib\\site-packages\\seaborn\\_decorators.py:36: FutureWarning: Pass the following variable as a keyword arg: x. From version 0.12, the only valid positional argument will be `data`, and passing other arguments without an explicit keyword will result in an error or misinterpretation.\n",
      "  warnings.warn(\n"
     ]
    },
    {
     "data": {
      "image/png": "[encoded data removed]",
      "text/plain": [
       "<Figure size 864x324 with 1 Axes>"
      ]
     },
     "metadata": {},
     "output_type": "display_data"
    }
   ],
   "source": [
    "plt.style.use('fivethirtyeight')\n",
    "plt.figure(figsize=(12,4.5))\n",
    "sns.countplot(df['Sex'])\n",
    "plt.show()"
   ]
  },
  {
   "cell_type": "code",
   "execution_count": 156,
   "id": "a30bcf00",
   "metadata": {},
   "outputs": [
    {
     "name": "stderr",
     "output_type": "stream",
     "text": [
      "C:\\Users\\USER\\anaconda3\\lib\\site-packages\\seaborn\\_decorators.py:36: FutureWarning: Pass the following variable as a keyword arg: x. From version 0.12, the only valid positional argument will be `data`, and passing other arguments without an explicit keyword will result in an error or misinterpretation.\n",
      "  warnings.warn(\n",
      "C:\\Users\\USER\\anaconda3\\lib\\site-packages\\seaborn\\_decorators.py:36: FutureWarning: Pass the following variable as a keyword arg: x. From version 0.12, the only valid positional argument will be `data`, and passing other arguments without an explicit keyword will result in an error or misinterpretation.\n",
      "  warnings.warn(\n"
     ]
    },
    {
     "data": {
      "text/plain": [
       "(array([0, 1]),\n",
       " [Text(0, 0, 'Eastern and Southern Africa'),\n",
       "  Text(1, 0, 'West and Central Africa')])"
      ]
     },
     "execution_count": 156,
     "metadata": {},
     "output_type": "execute_result"
    },
    {
     "data": {
      "image/png": "[encoded data removed]",
      "text/plain": [
       "<Figure size 720x360 with 2 Axes>"
      ]
     },
     "metadata": {},
     "output_type": "display_data"
    }
   ],
   "source": [
    "plt.figure(figsize=(10,5))\n",
    "plt.subplot(1,2,1)\n",
    "sns.countplot('Sex',data=df)\n",
    "plt.xticks(rotation=45)\n",
    "\n",
    "plt.subplot(1,2,2)\n",
    "sns.countplot('UNICEF_Region',data=df)\n",
    "plt.xticks(rotation=45)\n",
    "\n"
   ]
  },
  {
   "cell_type": "code",
   "execution_count": null,
   "id": "0ce1638c",
   "metadata": {},
   "outputs": [],
   "source": []
  }
 ],
 "metadata": {
  "kernelspec": {
   "display_name": "Python 3 (ipykernel)",
   "language": "python",
   "name": "python3"
  },
  "language_info": {
   "codemirror_mode": {
    "name": "ipython",
    "version": 3
   },
   "file_extension": ".py",
   "mimetype": "text/x-python",
   "name": "python",
   "nbconvert_exporter": "python",
   "pygments_lexer": "ipython3",
   "version": "3.9.7"
  }
 },
 "nbformat": 4,
 "nbformat_minor": 5
}
