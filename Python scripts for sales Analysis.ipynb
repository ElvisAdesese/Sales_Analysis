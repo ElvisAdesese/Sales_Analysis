{
 "cells": [
  {
   "cell_type": "code",
   "execution_count": 36,
   "id": "51b7796b",
   "metadata": {},
   "outputs": [],
   "source": [
    "import pandas as pd\n",
    "import matplotlib.pyplot as plt\n",
    "import numpy as np\n",
    "import seaborn as sns"
   ]
  },
  {
   "cell_type": "markdown",
   "id": "b73c2e01",
   "metadata": {},
   "source": [
    "# Sales by location "
   ]
  },
  {
   "cell_type": "code",
   "execution_count": 18,
   "id": "faa773a5",
   "metadata": {},
   "outputs": [
    {
     "data": {
      "image/png": "[encoded data removed]",
      "text/plain": [
       "<Figure size 864x432 with 1 Axes>"
      ]
     },
     "metadata": {
      "needs_background": "light"
     },
     "output_type": "display_data"
    }
   ],
   "source": [
    "location= ['North_America','Europe','Japan']\n",
    "sales= [162.83,81.19,0.51]\n",
    "\n",
    "plt.figure(figsize=(12,6))\n",
    "\n",
    "plt.bar(location,sales,log=True)\n",
    "plt.ylabel('Sales')\n",
    "plt.xlabel('Location')\n",
    "plt.show()\n",
    "\n",
    "#Rest of World\n",
    "#Global\t269.03\n"
   ]
  },
  {
   "cell_type": "markdown",
   "id": "6a625871",
   "metadata": {},
   "source": [
    "# Top ten Games sold"
   ]
  },
  {
   "cell_type": "code",
   "execution_count": 24,
   "id": "20b8673b",
   "metadata": {},
   "outputs": [
    {
     "data": {
      "image/png": "[encoded data removed]",
      "text/plain": [
       "<Figure size 864x432 with 1 Axes>"
      ]
     },
     "metadata": {
      "needs_background": "light"
     },
     "output_type": "display_data"
    }
   ],
   "source": [
    "Games= ['Grand Theft Auto V','Call of Duty: Black Ops 3','Call of Duty: WWII','Red Dead Redemption 2','MineCraft',\n",
    "          'Call of Duty: Advanced Warfare','Battlefield 1','Fallout 4','Halo 5: Guardians','Call of Duty: Infinite Warfare']\n",
    "sales= [17.44,14.74,12.46,11.54,10.86,10.45,10.26,10.06,9.83,9.58]\n",
    "\n",
    "plt.figure(figsize=(12,6))\n",
    "\n",
    "plt.barh(Games,sales)\n",
    "plt.ylabel('GAMES')\n",
    "plt.xlabel('SALES')\n",
    "plt.show()\n",
    "\n",
    "\n"
   ]
  },
  {
   "cell_type": "code",
   "execution_count": 26,
   "id": "8509a272",
   "metadata": {},
   "outputs": [],
   "source": [
    "df=pd.read_excel('good.xlsx')"
   ]
  },
  {
   "cell_type": "code",
   "execution_count": 27,
   "id": "f228e894",
   "metadata": {},
   "outputs": [
    {
     "data": {
      "text/html": [
       "<div>\n",
       "<style scoped>\n",
       "    .dataframe tbody tr th:only-of-type {\n",
       "        vertical-align: middle;\n",
       "    }\n",
       "\n",
       "    .dataframe tbody tr th {\n",
       "        vertical-align: top;\n",
       "    }\n",
       "\n",
       "    .dataframe thead th {\n",
       "        text-align: right;\n",
       "    }\n",
       "</style>\n",
       "<table border=\"1\" class=\"dataframe\">\n",
       "  <thead>\n",
       "    <tr style=\"text-align: right;\">\n",
       "      <th></th>\n",
       "      <th>transaction_id</th>\n",
       "      <th>product_id</th>\n",
       "      <th>customer_id</th>\n",
       "      <th>transaction_date</th>\n",
       "      <th>online_order</th>\n",
       "      <th>order_status</th>\n",
       "      <th>brand</th>\n",
       "      <th>product_line</th>\n",
       "      <th>product_class</th>\n",
       "      <th>product_size</th>\n",
       "      <th>list_price</th>\n",
       "      <th>standard_cost</th>\n",
       "      <th>product_first_sold_date</th>\n",
       "    </tr>\n",
       "  </thead>\n",
       "  <tbody>\n",
       "    <tr>\n",
       "      <th>0</th>\n",
       "      <td>1</td>\n",
       "      <td>2</td>\n",
       "      <td>2950</td>\n",
       "      <td>2017-02-25</td>\n",
       "      <td>0.0</td>\n",
       "      <td>Approved</td>\n",
       "      <td>Solex</td>\n",
       "      <td>Standard</td>\n",
       "      <td>medium</td>\n",
       "      <td>medium</td>\n",
       "      <td>71.49</td>\n",
       "      <td>53.62</td>\n",
       "      <td>41245.0</td>\n",
       "    </tr>\n",
       "    <tr>\n",
       "      <th>1</th>\n",
       "      <td>2</td>\n",
       "      <td>3</td>\n",
       "      <td>3120</td>\n",
       "      <td>2017-05-21</td>\n",
       "      <td>1.0</td>\n",
       "      <td>Approved</td>\n",
       "      <td>Trek Bicycles</td>\n",
       "      <td>Standard</td>\n",
       "      <td>medium</td>\n",
       "      <td>large</td>\n",
       "      <td>2091.47</td>\n",
       "      <td>388.92</td>\n",
       "      <td>41701.0</td>\n",
       "    </tr>\n",
       "    <tr>\n",
       "      <th>2</th>\n",
       "      <td>3</td>\n",
       "      <td>37</td>\n",
       "      <td>402</td>\n",
       "      <td>2017-10-16</td>\n",
       "      <td>0.0</td>\n",
       "      <td>Approved</td>\n",
       "      <td>OHM Cycles</td>\n",
       "      <td>Standard</td>\n",
       "      <td>low</td>\n",
       "      <td>medium</td>\n",
       "      <td>1793.43</td>\n",
       "      <td>248.82</td>\n",
       "      <td>36361.0</td>\n",
       "    </tr>\n",
       "    <tr>\n",
       "      <th>3</th>\n",
       "      <td>4</td>\n",
       "      <td>88</td>\n",
       "      <td>3135</td>\n",
       "      <td>2017-08-31</td>\n",
       "      <td>0.0</td>\n",
       "      <td>Approved</td>\n",
       "      <td>Norco Bicycles</td>\n",
       "      <td>Standard</td>\n",
       "      <td>medium</td>\n",
       "      <td>medium</td>\n",
       "      <td>1198.46</td>\n",
       "      <td>381.10</td>\n",
       "      <td>36145.0</td>\n",
       "    </tr>\n",
       "    <tr>\n",
       "      <th>4</th>\n",
       "      <td>5</td>\n",
       "      <td>78</td>\n",
       "      <td>787</td>\n",
       "      <td>2017-10-01</td>\n",
       "      <td>1.0</td>\n",
       "      <td>Approved</td>\n",
       "      <td>Giant Bicycles</td>\n",
       "      <td>Standard</td>\n",
       "      <td>medium</td>\n",
       "      <td>large</td>\n",
       "      <td>1765.30</td>\n",
       "      <td>709.48</td>\n",
       "      <td>42226.0</td>\n",
       "    </tr>\n",
       "    <tr>\n",
       "      <th>...</th>\n",
       "      <td>...</td>\n",
       "      <td>...</td>\n",
       "      <td>...</td>\n",
       "      <td>...</td>\n",
       "      <td>...</td>\n",
       "      <td>...</td>\n",
       "      <td>...</td>\n",
       "      <td>...</td>\n",
       "      <td>...</td>\n",
       "      <td>...</td>\n",
       "      <td>...</td>\n",
       "      <td>...</td>\n",
       "      <td>...</td>\n",
       "    </tr>\n",
       "    <tr>\n",
       "      <th>19995</th>\n",
       "      <td>19996</td>\n",
       "      <td>51</td>\n",
       "      <td>1018</td>\n",
       "      <td>2017-06-24</td>\n",
       "      <td>1.0</td>\n",
       "      <td>Approved</td>\n",
       "      <td>OHM Cycles</td>\n",
       "      <td>Standard</td>\n",
       "      <td>high</td>\n",
       "      <td>medium</td>\n",
       "      <td>2005.66</td>\n",
       "      <td>1203.40</td>\n",
       "      <td>37823.0</td>\n",
       "    </tr>\n",
       "    <tr>\n",
       "      <th>19996</th>\n",
       "      <td>19997</td>\n",
       "      <td>41</td>\n",
       "      <td>127</td>\n",
       "      <td>2017-11-09</td>\n",
       "      <td>1.0</td>\n",
       "      <td>Approved</td>\n",
       "      <td>Solex</td>\n",
       "      <td>Road</td>\n",
       "      <td>medium</td>\n",
       "      <td>medium</td>\n",
       "      <td>416.98</td>\n",
       "      <td>312.74</td>\n",
       "      <td>35560.0</td>\n",
       "    </tr>\n",
       "    <tr>\n",
       "      <th>19997</th>\n",
       "      <td>19998</td>\n",
       "      <td>87</td>\n",
       "      <td>2284</td>\n",
       "      <td>2017-04-14</td>\n",
       "      <td>1.0</td>\n",
       "      <td>Approved</td>\n",
       "      <td>OHM Cycles</td>\n",
       "      <td>Standard</td>\n",
       "      <td>medium</td>\n",
       "      <td>medium</td>\n",
       "      <td>1636.90</td>\n",
       "      <td>44.71</td>\n",
       "      <td>40410.0</td>\n",
       "    </tr>\n",
       "    <tr>\n",
       "      <th>19998</th>\n",
       "      <td>19999</td>\n",
       "      <td>6</td>\n",
       "      <td>2764</td>\n",
       "      <td>2017-07-03</td>\n",
       "      <td>0.0</td>\n",
       "      <td>Approved</td>\n",
       "      <td>OHM Cycles</td>\n",
       "      <td>Standard</td>\n",
       "      <td>high</td>\n",
       "      <td>medium</td>\n",
       "      <td>227.88</td>\n",
       "      <td>136.73</td>\n",
       "      <td>38216.0</td>\n",
       "    </tr>\n",
       "    <tr>\n",
       "      <th>19999</th>\n",
       "      <td>20000</td>\n",
       "      <td>11</td>\n",
       "      <td>1144</td>\n",
       "      <td>2017-09-22</td>\n",
       "      <td>1.0</td>\n",
       "      <td>Approved</td>\n",
       "      <td>Trek Bicycles</td>\n",
       "      <td>Standard</td>\n",
       "      <td>medium</td>\n",
       "      <td>small</td>\n",
       "      <td>1775.81</td>\n",
       "      <td>1580.47</td>\n",
       "      <td>36334.0</td>\n",
       "    </tr>\n",
       "  </tbody>\n",
       "</table>\n",
       "<p>20000 rows × 13 columns</p>\n",
       "</div>"
      ],
      "text/plain": [
       "       transaction_id  product_id  customer_id transaction_date  online_order  \\\n",
       "0                   1           2         2950       2017-02-25           0.0   \n",
       "1                   2           3         3120       2017-05-21           1.0   \n",
       "2                   3          37          402       2017-10-16           0.0   \n",
       "3                   4          88         3135       2017-08-31           0.0   \n",
       "4                   5          78          787       2017-10-01           1.0   \n",
       "...               ...         ...          ...              ...           ...   \n",
       "19995           19996          51         1018       2017-06-24           1.0   \n",
       "19996           19997          41          127       2017-11-09           1.0   \n",
       "19997           19998          87         2284       2017-04-14           1.0   \n",
       "19998           19999           6         2764       2017-07-03           0.0   \n",
       "19999           20000          11         1144       2017-09-22           1.0   \n",
       "\n",
       "      order_status           brand product_line product_class product_size  \\\n",
       "0         Approved           Solex     Standard        medium       medium   \n",
       "1         Approved   Trek Bicycles     Standard        medium        large   \n",
       "2         Approved      OHM Cycles     Standard           low       medium   \n",
       "3         Approved  Norco Bicycles     Standard        medium       medium   \n",
       "4         Approved  Giant Bicycles     Standard        medium        large   \n",
       "...            ...             ...          ...           ...          ...   \n",
       "19995     Approved      OHM Cycles     Standard          high       medium   \n",
       "19996     Approved           Solex         Road        medium       medium   \n",
       "19997     Approved      OHM Cycles     Standard        medium       medium   \n",
       "19998     Approved      OHM Cycles     Standard          high       medium   \n",
       "19999     Approved   Trek Bicycles     Standard        medium        small   \n",
       "\n",
       "       list_price  standard_cost  product_first_sold_date  \n",
       "0           71.49          53.62                  41245.0  \n",
       "1         2091.47         388.92                  41701.0  \n",
       "2         1793.43         248.82                  36361.0  \n",
       "3         1198.46         381.10                  36145.0  \n",
       "4         1765.30         709.48                  42226.0  \n",
       "...           ...            ...                      ...  \n",
       "19995     2005.66        1203.40                  37823.0  \n",
       "19996      416.98         312.74                  35560.0  \n",
       "19997     1636.90          44.71                  40410.0  \n",
       "19998      227.88         136.73                  38216.0  \n",
       "19999     1775.81        1580.47                  36334.0  \n",
       "\n",
       "[20000 rows x 13 columns]"
      ]
     },
     "execution_count": 27,
     "metadata": {},
     "output_type": "execute_result"
    }
   ],
   "source": [
    "df"
   ]
  },
  {
   "cell_type": "code",
   "execution_count": 29,
   "id": "dfeb7a9f",
   "metadata": {},
   "outputs": [
    {
     "data": {
      "text/plain": [
       "transaction_id                      int64\n",
       "product_id                          int64\n",
       "customer_id                         int64\n",
       "transaction_date           datetime64[ns]\n",
       "online_order                      float64\n",
       "order_status                       object\n",
       "brand                              object\n",
       "product_line                       object\n",
       "product_class                      object\n",
       "product_size                       object\n",
       "list_price                        float64\n",
       "standard_cost                     float64\n",
       "product_first_sold_date           float64\n",
       "dtype: object"
      ]
     },
     "execution_count": 29,
     "metadata": {},
     "output_type": "execute_result"
    }
   ],
   "source": [
    "df.dtypes"
   ]
  },
  {
   "cell_type": "code",
   "execution_count": 30,
   "id": "cb69400d",
   "metadata": {},
   "outputs": [
    {
     "name": "stdout",
     "output_type": "stream",
     "text": [
      "<class 'pandas.core.frame.DataFrame'>\n",
      "RangeIndex: 20000 entries, 0 to 19999\n",
      "Data columns (total 13 columns):\n",
      " #   Column                   Non-Null Count  Dtype         \n",
      "---  ------                   --------------  -----         \n",
      " 0   transaction_id           20000 non-null  int64         \n",
      " 1   product_id               20000 non-null  int64         \n",
      " 2   customer_id              20000 non-null  int64         \n",
      " 3   transaction_date         20000 non-null  datetime64[ns]\n",
      " 4   online_order             19640 non-null  float64       \n",
      " 5   order_status             20000 non-null  object        \n",
      " 6   brand                    19803 non-null  object        \n",
      " 7   product_line             19803 non-null  object        \n",
      " 8   product_class            19803 non-null  object        \n",
      " 9   product_size             19803 non-null  object        \n",
      " 10  list_price               20000 non-null  float64       \n",
      " 11  standard_cost            19803 non-null  float64       \n",
      " 12  product_first_sold_date  19803 non-null  float64       \n",
      "dtypes: datetime64[ns](1), float64(4), int64(3), object(5)\n",
      "memory usage: 2.0+ MB\n"
     ]
    }
   ],
   "source": [
    "df.info()"
   ]
  },
  {
   "cell_type": "code",
   "execution_count": 31,
   "id": "ea11d613",
   "metadata": {},
   "outputs": [
    {
     "data": {
      "text/html": [
       "<div>\n",
       "<style scoped>\n",
       "    .dataframe tbody tr th:only-of-type {\n",
       "        vertical-align: middle;\n",
       "    }\n",
       "\n",
       "    .dataframe tbody tr th {\n",
       "        vertical-align: top;\n",
       "    }\n",
       "\n",
       "    .dataframe thead th {\n",
       "        text-align: right;\n",
       "    }\n",
       "</style>\n",
       "<table border=\"1\" class=\"dataframe\">\n",
       "  <thead>\n",
       "    <tr style=\"text-align: right;\">\n",
       "      <th></th>\n",
       "      <th>transaction_id</th>\n",
       "      <th>product_id</th>\n",
       "      <th>customer_id</th>\n",
       "      <th>online_order</th>\n",
       "      <th>list_price</th>\n",
       "      <th>standard_cost</th>\n",
       "      <th>product_first_sold_date</th>\n",
       "    </tr>\n",
       "  </thead>\n",
       "  <tbody>\n",
       "    <tr>\n",
       "      <th>count</th>\n",
       "      <td>20000.000000</td>\n",
       "      <td>20000.00000</td>\n",
       "      <td>20000.000000</td>\n",
       "      <td>19640.000000</td>\n",
       "      <td>20000.000000</td>\n",
       "      <td>19803.000000</td>\n",
       "      <td>19803.000000</td>\n",
       "    </tr>\n",
       "    <tr>\n",
       "      <th>mean</th>\n",
       "      <td>10000.500000</td>\n",
       "      <td>45.36465</td>\n",
       "      <td>1738.246050</td>\n",
       "      <td>0.500458</td>\n",
       "      <td>1107.829449</td>\n",
       "      <td>556.046951</td>\n",
       "      <td>38199.776549</td>\n",
       "    </tr>\n",
       "    <tr>\n",
       "      <th>std</th>\n",
       "      <td>5773.647028</td>\n",
       "      <td>30.75359</td>\n",
       "      <td>1011.951046</td>\n",
       "      <td>0.500013</td>\n",
       "      <td>582.825242</td>\n",
       "      <td>405.955660</td>\n",
       "      <td>2875.201110</td>\n",
       "    </tr>\n",
       "    <tr>\n",
       "      <th>min</th>\n",
       "      <td>1.000000</td>\n",
       "      <td>0.00000</td>\n",
       "      <td>1.000000</td>\n",
       "      <td>0.000000</td>\n",
       "      <td>12.010000</td>\n",
       "      <td>7.210000</td>\n",
       "      <td>33259.000000</td>\n",
       "    </tr>\n",
       "    <tr>\n",
       "      <th>25%</th>\n",
       "      <td>5000.750000</td>\n",
       "      <td>18.00000</td>\n",
       "      <td>857.750000</td>\n",
       "      <td>0.000000</td>\n",
       "      <td>575.270000</td>\n",
       "      <td>215.140000</td>\n",
       "      <td>35667.000000</td>\n",
       "    </tr>\n",
       "    <tr>\n",
       "      <th>50%</th>\n",
       "      <td>10000.500000</td>\n",
       "      <td>44.00000</td>\n",
       "      <td>1736.000000</td>\n",
       "      <td>1.000000</td>\n",
       "      <td>1163.890000</td>\n",
       "      <td>507.580000</td>\n",
       "      <td>38216.000000</td>\n",
       "    </tr>\n",
       "    <tr>\n",
       "      <th>75%</th>\n",
       "      <td>15000.250000</td>\n",
       "      <td>72.00000</td>\n",
       "      <td>2613.000000</td>\n",
       "      <td>1.000000</td>\n",
       "      <td>1635.300000</td>\n",
       "      <td>795.100000</td>\n",
       "      <td>40672.000000</td>\n",
       "    </tr>\n",
       "    <tr>\n",
       "      <th>max</th>\n",
       "      <td>20000.000000</td>\n",
       "      <td>100.00000</td>\n",
       "      <td>5034.000000</td>\n",
       "      <td>1.000000</td>\n",
       "      <td>2091.470000</td>\n",
       "      <td>1759.850000</td>\n",
       "      <td>42710.000000</td>\n",
       "    </tr>\n",
       "  </tbody>\n",
       "</table>\n",
       "</div>"
      ],
      "text/plain": [
       "       transaction_id   product_id   customer_id  online_order    list_price  \\\n",
       "count    20000.000000  20000.00000  20000.000000  19640.000000  20000.000000   \n",
       "mean     10000.500000     45.36465   1738.246050      0.500458   1107.829449   \n",
       "std       5773.647028     30.75359   1011.951046      0.500013    582.825242   \n",
       "min          1.000000      0.00000      1.000000      0.000000     12.010000   \n",
       "25%       5000.750000     18.00000    857.750000      0.000000    575.270000   \n",
       "50%      10000.500000     44.00000   1736.000000      1.000000   1163.890000   \n",
       "75%      15000.250000     72.00000   2613.000000      1.000000   1635.300000   \n",
       "max      20000.000000    100.00000   5034.000000      1.000000   2091.470000   \n",
       "\n",
       "       standard_cost  product_first_sold_date  \n",
       "count   19803.000000             19803.000000  \n",
       "mean      556.046951             38199.776549  \n",
       "std       405.955660              2875.201110  \n",
       "min         7.210000             33259.000000  \n",
       "25%       215.140000             35667.000000  \n",
       "50%       507.580000             38216.000000  \n",
       "75%       795.100000             40672.000000  \n",
       "max      1759.850000             42710.000000  "
      ]
     },
     "execution_count": 31,
     "metadata": {},
     "output_type": "execute_result"
    }
   ],
   "source": [
    "df.describe()"
   ]
  },
  {
   "cell_type": "code",
   "execution_count": 34,
   "id": "da6c5fed",
   "metadata": {},
   "outputs": [
    {
     "data": {
      "text/plain": [
       "(20000, 13)"
      ]
     },
     "execution_count": 34,
     "metadata": {},
     "output_type": "execute_result"
    }
   ],
   "source": [
    "df.shape"
   ]
  },
  {
   "cell_type": "markdown",
   "id": "a28285c7",
   "metadata": {},
   "source": [
    "# Standard cost of Brands"
   ]
  },
  {
   "cell_type": "code",
   "execution_count": 41,
   "id": "9a71f558",
   "metadata": {},
   "outputs": [
    {
     "data": {
      "image/png": "[encoded data removed]",
      "text/plain": [
       "<Figure size 864x432 with 1 Axes>"
      ]
     },
     "metadata": {
      "needs_background": "light"
     },
     "output_type": "display_data"
    }
   ],
   "source": [
    "plt.style.use('bmh')\n",
    "plt.figure(figsize = (12,6))\n",
    "plt.title('Standard Cost')\n",
    "sns.barplot(x = 'brand', y= 'standard_cost', data =df )\n",
    "plt.show()"
   ]
  },
  {
   "cell_type": "code",
   "execution_count": 43,
   "id": "ec7f1cd6",
   "metadata": {},
   "outputs": [
    {
     "data": {
      "text/plain": [
       "medium    13826\n",
       "high       3013\n",
       "low        2964\n",
       "Name: product_class, dtype: int64"
      ]
     },
     "execution_count": 43,
     "metadata": {},
     "output_type": "execute_result"
    }
   ],
   "source": [
    "df['product_class'].value_counts()"
   ]
  },
  {
   "cell_type": "markdown",
   "id": "542f174b",
   "metadata": {},
   "source": [
    "# Count by Product Class"
   ]
  },
  {
   "cell_type": "code",
   "execution_count": 44,
   "id": "0c8fcc12",
   "metadata": {},
   "outputs": [],
   "source": [
    "product_df = pd.DataFrame(df['product_class'].value_counts())  "
   ]
  },
  {
   "cell_type": "code",
   "execution_count": 45,
   "id": "647596c6",
   "metadata": {},
   "outputs": [
    {
     "data": {
      "text/html": [
       "<div>\n",
       "<style scoped>\n",
       "    .dataframe tbody tr th:only-of-type {\n",
       "        vertical-align: middle;\n",
       "    }\n",
       "\n",
       "    .dataframe tbody tr th {\n",
       "        vertical-align: top;\n",
       "    }\n",
       "\n",
       "    .dataframe thead th {\n",
       "        text-align: right;\n",
       "    }\n",
       "</style>\n",
       "<table border=\"1\" class=\"dataframe\">\n",
       "  <thead>\n",
       "    <tr style=\"text-align: right;\">\n",
       "      <th></th>\n",
       "      <th>product_class</th>\n",
       "    </tr>\n",
       "  </thead>\n",
       "  <tbody>\n",
       "    <tr>\n",
       "      <th>medium</th>\n",
       "      <td>13826</td>\n",
       "    </tr>\n",
       "    <tr>\n",
       "      <th>high</th>\n",
       "      <td>3013</td>\n",
       "    </tr>\n",
       "    <tr>\n",
       "      <th>low</th>\n",
       "      <td>2964</td>\n",
       "    </tr>\n",
       "  </tbody>\n",
       "</table>\n",
       "</div>"
      ],
      "text/plain": [
       "        product_class\n",
       "medium          13826\n",
       "high             3013\n",
       "low              2964"
      ]
     },
     "execution_count": 45,
     "metadata": {},
     "output_type": "execute_result"
    }
   ],
   "source": [
    "product_df"
   ]
  },
  {
   "cell_type": "code",
   "execution_count": 60,
   "id": "08eddafd",
   "metadata": {},
   "outputs": [
    {
     "data": {
      "image/png": "[encoded data removed]",
      "text/plain": [
       "<Figure size 864x432 with 1 Axes>"
      ]
     },
     "metadata": {
      "needs_background": "light"
     },
     "output_type": "display_data"
    }
   ],
   "source": [
    "plt.figure(figsize = (12,6))\n",
    "sns.barplot(x =product_df.index, y = product_df['product_class'])\n",
    "plt.show()"
   ]
  },
  {
   "cell_type": "markdown",
   "id": "de99413b",
   "metadata": {},
   "source": [
    "# Order Status"
   ]
  },
  {
   "cell_type": "code",
   "execution_count": 50,
   "id": "9aa00278",
   "metadata": {},
   "outputs": [
    {
     "data": {
      "text/plain": [
       "Approved     19821\n",
       "Cancelled      179\n",
       "Name: order_status, dtype: int64"
      ]
     },
     "execution_count": 50,
     "metadata": {},
     "output_type": "execute_result"
    }
   ],
   "source": [
    "df['order_status'].value_counts()"
   ]
  },
  {
   "cell_type": "code",
   "execution_count": 51,
   "id": "2c53565f",
   "metadata": {},
   "outputs": [
    {
     "data": {
      "text/html": [
       "<div>\n",
       "<style scoped>\n",
       "    .dataframe tbody tr th:only-of-type {\n",
       "        vertical-align: middle;\n",
       "    }\n",
       "\n",
       "    .dataframe tbody tr th {\n",
       "        vertical-align: top;\n",
       "    }\n",
       "\n",
       "    .dataframe thead th {\n",
       "        text-align: right;\n",
       "    }\n",
       "</style>\n",
       "<table border=\"1\" class=\"dataframe\">\n",
       "  <thead>\n",
       "    <tr style=\"text-align: right;\">\n",
       "      <th></th>\n",
       "      <th>order_status</th>\n",
       "    </tr>\n",
       "  </thead>\n",
       "  <tbody>\n",
       "    <tr>\n",
       "      <th>Approved</th>\n",
       "      <td>19821</td>\n",
       "    </tr>\n",
       "    <tr>\n",
       "      <th>Cancelled</th>\n",
       "      <td>179</td>\n",
       "    </tr>\n",
       "  </tbody>\n",
       "</table>\n",
       "</div>"
      ],
      "text/plain": [
       "           order_status\n",
       "Approved          19821\n",
       "Cancelled           179"
      ]
     },
     "execution_count": 51,
     "metadata": {},
     "output_type": "execute_result"
    }
   ],
   "source": [
    "pd.DataFrame(df['order_status'].value_counts())  "
   ]
  },
  {
   "cell_type": "code",
   "execution_count": 52,
   "id": "a44b3c91",
   "metadata": {},
   "outputs": [],
   "source": [
    "order_status_df = pd.DataFrame(df['order_status'].value_counts())"
   ]
  },
  {
   "cell_type": "code",
   "execution_count": 53,
   "id": "12ebc6c5",
   "metadata": {},
   "outputs": [
    {
     "data": {
      "text/html": [
       "<div>\n",
       "<style scoped>\n",
       "    .dataframe tbody tr th:only-of-type {\n",
       "        vertical-align: middle;\n",
       "    }\n",
       "\n",
       "    .dataframe tbody tr th {\n",
       "        vertical-align: top;\n",
       "    }\n",
       "\n",
       "    .dataframe thead th {\n",
       "        text-align: right;\n",
       "    }\n",
       "</style>\n",
       "<table border=\"1\" class=\"dataframe\">\n",
       "  <thead>\n",
       "    <tr style=\"text-align: right;\">\n",
       "      <th></th>\n",
       "      <th>order_status</th>\n",
       "    </tr>\n",
       "  </thead>\n",
       "  <tbody>\n",
       "    <tr>\n",
       "      <th>Approved</th>\n",
       "      <td>19821</td>\n",
       "    </tr>\n",
       "    <tr>\n",
       "      <th>Cancelled</th>\n",
       "      <td>179</td>\n",
       "    </tr>\n",
       "  </tbody>\n",
       "</table>\n",
       "</div>"
      ],
      "text/plain": [
       "           order_status\n",
       "Approved          19821\n",
       "Cancelled           179"
      ]
     },
     "execution_count": 53,
     "metadata": {},
     "output_type": "execute_result"
    }
   ],
   "source": [
    "order_status_df"
   ]
  },
  {
   "cell_type": "code",
   "execution_count": 59,
   "id": "1131743a",
   "metadata": {},
   "outputs": [
    {
     "data": {
      "image/png": "[encoded data removed]",
      "text/plain": [
       "<Figure size 864x432 with 1 Axes>"
      ]
     },
     "metadata": {
      "needs_background": "light"
     },
     "output_type": "display_data"
    }
   ],
   "source": [
    "plt.figure(figsize = (12,6))\n",
    "sns.barplot(x =order_status_df.index, y = order_status_df['order_status'],log=True)\n",
    "plt.title('ORDER STATUS')\n",
    "plt.show()"
   ]
  },
  {
   "cell_type": "code",
   "execution_count": null,
   "id": "38623a91",
   "metadata": {},
   "outputs": [],
   "source": []
  },
  {
   "cell_type": "code",
   "execution_count": null,
   "id": "9c2b7966",
   "metadata": {},
   "outputs": [],
   "source": []
  }
 ],
 "metadata": {
  "kernelspec": {
   "display_name": "Python 3 (ipykernel)",
   "language": "python",
   "name": "python3"
  },
  "language_info": {
   "codemirror_mode": {
    "name": "ipython",
    "version": 3
   },
   "file_extension": ".py",
   "mimetype": "text/x-python",
   "name": "python",
   "nbconvert_exporter": "python",
   "pygments_lexer": "ipython3",
   "version": "3.9.7"
  }
 },
 "nbformat": 4,
 "nbformat_minor": 5
}
