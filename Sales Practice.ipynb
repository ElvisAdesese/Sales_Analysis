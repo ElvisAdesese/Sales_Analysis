{
 "cells": [
  {
   "cell_type": "code",
   "execution_count": 12,
   "id": "36e1b936",
   "metadata": {},
   "outputs": [],
   "source": [
    "import matplotlib.pyplot as plt\n",
    "\n",
    "import pandas as pd\n",
    "\n",
    "import seaborn as sns\n",
    "\n"
   ]
  },
  {
   "cell_type": "code",
   "execution_count": 23,
   "id": "6632295d",
   "metadata": {},
   "outputs": [],
   "source": [
    "df= pd.read_excel('data_dash.xlsx')"
   ]
  },
  {
   "cell_type": "code",
   "execution_count": 20,
   "id": "018d9d1c",
   "metadata": {},
   "outputs": [
    {
     "data": {
      "text/html": [
       "<div>\n",
       "<style scoped>\n",
       "    .dataframe tbody tr th:only-of-type {\n",
       "        vertical-align: middle;\n",
       "    }\n",
       "\n",
       "    .dataframe tbody tr th {\n",
       "        vertical-align: top;\n",
       "    }\n",
       "\n",
       "    .dataframe thead th {\n",
       "        text-align: right;\n",
       "    }\n",
       "</style>\n",
       "<table border=\"1\" class=\"dataframe\">\n",
       "  <thead>\n",
       "    <tr style=\"text-align: right;\">\n",
       "      <th></th>\n",
       "      <th>Country</th>\n",
       "      <th>Product</th>\n",
       "      <th>Units Sold</th>\n",
       "      <th>Revenue</th>\n",
       "      <th>Cost</th>\n",
       "      <th>Profit</th>\n",
       "      <th>Date</th>\n",
       "    </tr>\n",
       "  </thead>\n",
       "  <tbody>\n",
       "    <tr>\n",
       "      <th>0</th>\n",
       "      <td>India</td>\n",
       "      <td>Chocolate Chip</td>\n",
       "      <td>1725</td>\n",
       "      <td>$8,625.00</td>\n",
       "      <td>$3,450.00</td>\n",
       "      <td>$5,175.00</td>\n",
       "      <td>11/1/2019</td>\n",
       "    </tr>\n",
       "    <tr>\n",
       "      <th>1</th>\n",
       "      <td>India</td>\n",
       "      <td>Chocolate Chip</td>\n",
       "      <td>2152</td>\n",
       "      <td>$10,760.00</td>\n",
       "      <td>$4,304.00</td>\n",
       "      <td>$6,456.00</td>\n",
       "      <td>12/1/2019</td>\n",
       "    </tr>\n",
       "    <tr>\n",
       "      <th>2</th>\n",
       "      <td>India</td>\n",
       "      <td>Chocolate Chip</td>\n",
       "      <td>2349</td>\n",
       "      <td>$11,745.00</td>\n",
       "      <td>$4,698.00</td>\n",
       "      <td>$7,047.00</td>\n",
       "      <td>9/1/2019</td>\n",
       "    </tr>\n",
       "    <tr>\n",
       "      <th>3</th>\n",
       "      <td>India</td>\n",
       "      <td>Chocolate Chip</td>\n",
       "      <td>1228</td>\n",
       "      <td>$6,140.00</td>\n",
       "      <td>$2,456.00</td>\n",
       "      <td>$3,684.00</td>\n",
       "      <td>10/1/2019</td>\n",
       "    </tr>\n",
       "    <tr>\n",
       "      <th>4</th>\n",
       "      <td>India</td>\n",
       "      <td>Chocolate Chip</td>\n",
       "      <td>1389</td>\n",
       "      <td>$6,945.00</td>\n",
       "      <td>$2,778.00</td>\n",
       "      <td>$4,167.00</td>\n",
       "      <td>10/1/2019</td>\n",
       "    </tr>\n",
       "  </tbody>\n",
       "</table>\n",
       "</div>"
      ],
      "text/plain": [
       "  Country          Product  Units Sold      Revenue         Cost   \\\n",
       "0   India   Chocolate Chip        1725    $8,625.00    $3,450.00    \n",
       "1   India   Chocolate Chip        2152   $10,760.00    $4,304.00    \n",
       "2   India   Chocolate Chip        2349   $11,745.00    $4,698.00    \n",
       "3   India   Chocolate Chip        1228    $6,140.00    $2,456.00    \n",
       "4   India   Chocolate Chip        1389    $6,945.00    $2,778.00    \n",
       "\n",
       "       Profit        Date  \n",
       "0   $5,175.00   11/1/2019  \n",
       "1   $6,456.00   12/1/2019  \n",
       "2   $7,047.00    9/1/2019  \n",
       "3   $3,684.00   10/1/2019  \n",
       "4   $4,167.00   10/1/2019  "
      ]
     },
     "execution_count": 20,
     "metadata": {},
     "output_type": "execute_result"
    }
   ],
   "source": [
    "df.head(5)"
   ]
  },
  {
   "cell_type": "code",
   "execution_count": 24,
   "id": "fc62d200",
   "metadata": {},
   "outputs": [
    {
     "name": "stdout",
     "output_type": "stream",
     "text": [
      "<class 'pandas.core.frame.DataFrame'>\n",
      "RangeIndex: 1225 entries, 0 to 1224\n",
      "Data columns (total 7 columns):\n",
      " #   Column      Non-Null Count  Dtype         \n",
      "---  ------      --------------  -----         \n",
      " 0   Country     1225 non-null   object        \n",
      " 1   Product     1225 non-null   object        \n",
      " 2   Units Sold  1225 non-null   float64       \n",
      " 3   Revenue     1225 non-null   float64       \n",
      " 4   Cost        1225 non-null   float64       \n",
      " 5   Profit      1225 non-null   float64       \n",
      " 6   Date        1225 non-null   datetime64[ns]\n",
      "dtypes: datetime64[ns](1), float64(4), object(2)\n",
      "memory usage: 67.1+ KB\n"
     ]
    }
   ],
   "source": [
    "df.info()"
   ]
  },
  {
   "cell_type": "code",
   "execution_count": 25,
   "id": "38028a47",
   "metadata": {},
   "outputs": [
    {
     "data": {
      "text/html": [
       "<div>\n",
       "<style scoped>\n",
       "    .dataframe tbody tr th:only-of-type {\n",
       "        vertical-align: middle;\n",
       "    }\n",
       "\n",
       "    .dataframe tbody tr th {\n",
       "        vertical-align: top;\n",
       "    }\n",
       "\n",
       "    .dataframe thead th {\n",
       "        text-align: right;\n",
       "    }\n",
       "</style>\n",
       "<table border=\"1\" class=\"dataframe\">\n",
       "  <thead>\n",
       "    <tr style=\"text-align: right;\">\n",
       "      <th></th>\n",
       "      <th>Units Sold</th>\n",
       "      <th>Revenue</th>\n",
       "      <th>Cost</th>\n",
       "      <th>Profit</th>\n",
       "    </tr>\n",
       "  </thead>\n",
       "  <tbody>\n",
       "    <tr>\n",
       "      <th>count</th>\n",
       "      <td>1225.000000</td>\n",
       "      <td>1225.000000</td>\n",
       "      <td>1225.000000</td>\n",
       "      <td>1225.000000</td>\n",
       "    </tr>\n",
       "    <tr>\n",
       "      <th>mean</th>\n",
       "      <td>1622.019592</td>\n",
       "      <td>6757.133878</td>\n",
       "      <td>2775.848367</td>\n",
       "      <td>3981.285510</td>\n",
       "    </tr>\n",
       "    <tr>\n",
       "      <th>std</th>\n",
       "      <td>873.003844</td>\n",
       "      <td>4660.467982</td>\n",
       "      <td>2052.363875</td>\n",
       "      <td>2637.221232</td>\n",
       "    </tr>\n",
       "    <tr>\n",
       "      <th>min</th>\n",
       "      <td>200.000000</td>\n",
       "      <td>200.000000</td>\n",
       "      <td>40.000000</td>\n",
       "      <td>160.000000</td>\n",
       "    </tr>\n",
       "    <tr>\n",
       "      <th>25%</th>\n",
       "      <td>914.000000</td>\n",
       "      <td>2895.000000</td>\n",
       "      <td>1180.000000</td>\n",
       "      <td>1857.500000</td>\n",
       "    </tr>\n",
       "    <tr>\n",
       "      <th>50%</th>\n",
       "      <td>1540.000000</td>\n",
       "      <td>5885.000000</td>\n",
       "      <td>2431.250000</td>\n",
       "      <td>3429.000000</td>\n",
       "    </tr>\n",
       "    <tr>\n",
       "      <th>75%</th>\n",
       "      <td>2276.000000</td>\n",
       "      <td>9576.000000</td>\n",
       "      <td>3968.000000</td>\n",
       "      <td>5469.000000</td>\n",
       "    </tr>\n",
       "    <tr>\n",
       "      <th>max</th>\n",
       "      <td>4493.000000</td>\n",
       "      <td>23988.000000</td>\n",
       "      <td>10994.500000</td>\n",
       "      <td>13479.000000</td>\n",
       "    </tr>\n",
       "  </tbody>\n",
       "</table>\n",
       "</div>"
      ],
      "text/plain": [
       "        Units Sold       Revenue          Cost        Profit\n",
       "count  1225.000000   1225.000000   1225.000000   1225.000000\n",
       "mean   1622.019592   6757.133878   2775.848367   3981.285510\n",
       "std     873.003844   4660.467982   2052.363875   2637.221232\n",
       "min     200.000000    200.000000     40.000000    160.000000\n",
       "25%     914.000000   2895.000000   1180.000000   1857.500000\n",
       "50%    1540.000000   5885.000000   2431.250000   3429.000000\n",
       "75%    2276.000000   9576.000000   3968.000000   5469.000000\n",
       "max    4493.000000  23988.000000  10994.500000  13479.000000"
      ]
     },
     "execution_count": 25,
     "metadata": {},
     "output_type": "execute_result"
    }
   ],
   "source": [
    "df.describe()"
   ]
  },
  {
   "cell_type": "code",
   "execution_count": 28,
   "id": "2ed4eaf9",
   "metadata": {},
   "outputs": [
    {
     "data": {
      "text/plain": [
       "Country       0\n",
       "Product       0\n",
       "Units Sold    0\n",
       "Revenue       0\n",
       "Cost          0\n",
       "Profit        0\n",
       "Date          0\n",
       "dtype: int64"
      ]
     },
     "execution_count": 28,
     "metadata": {},
     "output_type": "execute_result"
    }
   ],
   "source": [
    "df.isnull().sum()"
   ]
  },
  {
   "cell_type": "code",
   "execution_count": 29,
   "id": "a70a9365",
   "metadata": {},
   "outputs": [
    {
     "name": "stdout",
     "output_type": "stream",
     "text": [
      "(1225, 7)\n"
     ]
    }
   ],
   "source": [
    "print(df.shape)"
   ]
  },
  {
   "cell_type": "code",
   "execution_count": 33,
   "id": "2ca62058",
   "metadata": {},
   "outputs": [
    {
     "data": {
      "text/plain": [
       "Chocolate Chip                   353\n",
       "White Chocolate Macadamia Nut    191\n",
       "Sugar                            190\n",
       "Oatmeal Raisin                   165\n",
       "Fortune Cookie                   163\n",
       "Snickerdoodle                    163\n",
       "Name: Product, dtype: int64"
      ]
     },
     "execution_count": 33,
     "metadata": {},
     "output_type": "execute_result"
    }
   ],
   "source": [
    "df['Product'].value_counts()"
   ]
  },
  {
   "cell_type": "code",
   "execution_count": 79,
   "id": "421ffe44",
   "metadata": {},
   "outputs": [
    {
     "data": {
      "text/plain": [
       "<AxesSubplot:title={'center':'Revenue by country'}, xlabel='Revenue', ylabel='Country'>"
      ]
     },
     "execution_count": 79,
     "metadata": {},
     "output_type": "execute_result"
    },
    {
     "data": {
      "image/png": "[encoded data removed]",
      "text/plain": [
       "<Figure size 864x432 with 1 Axes>"
      ]
     },
     "metadata": {},
     "output_type": "display_data"
    }
   ],
   "source": [
    "\n",
    "\n",
    "plt.figure(figsize = (12,6))\n",
    "plt.title('Revenue by country')\n",
    "sns.barplot(x ='Revenue', y='Country', data=df )"
   ]
  },
  {
   "cell_type": "code",
   "execution_count": 39,
   "id": "3cc1262f",
   "metadata": {},
   "outputs": [
    {
     "data": {
      "text/plain": [
       "Timestamp('2019-09-01 00:00:00')"
      ]
     },
     "execution_count": 39,
     "metadata": {},
     "output_type": "execute_result"
    }
   ],
   "source": [
    "#What is the over all sales trend\n",
    "df['Date'].min()\n"
   ]
  },
  {
   "cell_type": "code",
   "execution_count": 40,
   "id": "73659112",
   "metadata": {},
   "outputs": [
    {
     "data": {
      "text/plain": [
       "Timestamp('2020-12-01 00:00:00')"
      ]
     },
     "execution_count": 40,
     "metadata": {},
     "output_type": "execute_result"
    }
   ],
   "source": [
    "df['Date'].max()"
   ]
  },
  {
   "cell_type": "code",
   "execution_count": 43,
   "id": "5f12b67c",
   "metadata": {},
   "outputs": [
    {
     "data": {
      "text/plain": [
       "Timestamp('2020-06-01 00:00:00')"
      ]
     },
     "execution_count": 43,
     "metadata": {},
     "output_type": "execute_result"
    }
   ],
   "source": [
    "df['Date'].median()"
   ]
  },
  {
   "cell_type": "code",
   "execution_count": 44,
   "id": "d0c607bd",
   "metadata": {},
   "outputs": [],
   "source": [
    "#getting month year from dataset\n",
    "df['month_year'] = df ['Date'].apply(lambda x: x.strftime('%y-%m'))"
   ]
  },
  {
   "cell_type": "code",
   "execution_count": 45,
   "id": "9936e95e",
   "metadata": {},
   "outputs": [
    {
     "data": {
      "text/html": [
       "<div>\n",
       "<style scoped>\n",
       "    .dataframe tbody tr th:only-of-type {\n",
       "        vertical-align: middle;\n",
       "    }\n",
       "\n",
       "    .dataframe tbody tr th {\n",
       "        vertical-align: top;\n",
       "    }\n",
       "\n",
       "    .dataframe thead th {\n",
       "        text-align: right;\n",
       "    }\n",
       "</style>\n",
       "<table border=\"1\" class=\"dataframe\">\n",
       "  <thead>\n",
       "    <tr style=\"text-align: right;\">\n",
       "      <th></th>\n",
       "      <th>Units Sold</th>\n",
       "      <th>Revenue</th>\n",
       "      <th>Cost</th>\n",
       "      <th>Profit</th>\n",
       "    </tr>\n",
       "    <tr>\n",
       "      <th>month_year</th>\n",
       "      <th></th>\n",
       "      <th></th>\n",
       "      <th></th>\n",
       "      <th></th>\n",
       "    </tr>\n",
       "  </thead>\n",
       "  <tbody>\n",
       "    <tr>\n",
       "      <th>19-09</th>\n",
       "      <td>50601.0</td>\n",
       "      <td>212076.0</td>\n",
       "      <td>87263.45</td>\n",
       "      <td>124812.55</td>\n",
       "    </tr>\n",
       "    <tr>\n",
       "      <th>19-10</th>\n",
       "      <td>95622.0</td>\n",
       "      <td>386395.0</td>\n",
       "      <td>158119.40</td>\n",
       "      <td>228275.60</td>\n",
       "    </tr>\n",
       "    <tr>\n",
       "      <th>19-11</th>\n",
       "      <td>65481.0</td>\n",
       "      <td>272112.0</td>\n",
       "      <td>111883.75</td>\n",
       "      <td>160228.25</td>\n",
       "    </tr>\n",
       "    <tr>\n",
       "      <th>19-12</th>\n",
       "      <td>52970.0</td>\n",
       "      <td>232566.0</td>\n",
       "      <td>96228.25</td>\n",
       "      <td>136337.75</td>\n",
       "    </tr>\n",
       "    <tr>\n",
       "      <th>20-01</th>\n",
       "      <td>135682.0</td>\n",
       "      <td>583706.0</td>\n",
       "      <td>241070.80</td>\n",
       "      <td>342635.20</td>\n",
       "    </tr>\n",
       "    <tr>\n",
       "      <th>20-02</th>\n",
       "      <td>110230.0</td>\n",
       "      <td>463850.0</td>\n",
       "      <td>191913.50</td>\n",
       "      <td>271936.50</td>\n",
       "    </tr>\n",
       "    <tr>\n",
       "      <th>20-03</th>\n",
       "      <td>106840.0</td>\n",
       "      <td>438142.0</td>\n",
       "      <td>179175.90</td>\n",
       "      <td>258966.10</td>\n",
       "    </tr>\n",
       "    <tr>\n",
       "      <th>20-04</th>\n",
       "      <td>157786.0</td>\n",
       "      <td>666760.0</td>\n",
       "      <td>273228.10</td>\n",
       "      <td>393531.90</td>\n",
       "    </tr>\n",
       "    <tr>\n",
       "      <th>20-05</th>\n",
       "      <td>103542.0</td>\n",
       "      <td>431732.0</td>\n",
       "      <td>178018.30</td>\n",
       "      <td>253713.70</td>\n",
       "    </tr>\n",
       "    <tr>\n",
       "      <th>20-06</th>\n",
       "      <td>206604.0</td>\n",
       "      <td>853696.0</td>\n",
       "      <td>352065.10</td>\n",
       "      <td>501630.90</td>\n",
       "    </tr>\n",
       "    <tr>\n",
       "      <th>20-07</th>\n",
       "      <td>138710.0</td>\n",
       "      <td>592342.0</td>\n",
       "      <td>244474.90</td>\n",
       "      <td>347867.10</td>\n",
       "    </tr>\n",
       "    <tr>\n",
       "      <th>20-08</th>\n",
       "      <td>121410.0</td>\n",
       "      <td>523510.0</td>\n",
       "      <td>216795.60</td>\n",
       "      <td>306714.40</td>\n",
       "    </tr>\n",
       "    <tr>\n",
       "      <th>20-09</th>\n",
       "      <td>114560.0</td>\n",
       "      <td>477548.0</td>\n",
       "      <td>195616.90</td>\n",
       "      <td>281931.10</td>\n",
       "    </tr>\n",
       "    <tr>\n",
       "      <th>20-10</th>\n",
       "      <td>210964.0</td>\n",
       "      <td>869274.0</td>\n",
       "      <td>356851.90</td>\n",
       "      <td>512422.10</td>\n",
       "    </tr>\n",
       "    <tr>\n",
       "      <th>20-11</th>\n",
       "      <td>111300.0</td>\n",
       "      <td>435758.0</td>\n",
       "      <td>176540.30</td>\n",
       "      <td>259217.70</td>\n",
       "    </tr>\n",
       "    <tr>\n",
       "      <th>20-12</th>\n",
       "      <td>204672.0</td>\n",
       "      <td>838022.0</td>\n",
       "      <td>341168.10</td>\n",
       "      <td>496853.90</td>\n",
       "    </tr>\n",
       "  </tbody>\n",
       "</table>\n",
       "</div>"
      ],
      "text/plain": [
       "            Units Sold   Revenue       Cost     Profit\n",
       "month_year                                            \n",
       "19-09          50601.0  212076.0   87263.45  124812.55\n",
       "19-10          95622.0  386395.0  158119.40  228275.60\n",
       "19-11          65481.0  272112.0  111883.75  160228.25\n",
       "19-12          52970.0  232566.0   96228.25  136337.75\n",
       "20-01         135682.0  583706.0  241070.80  342635.20\n",
       "20-02         110230.0  463850.0  191913.50  271936.50\n",
       "20-03         106840.0  438142.0  179175.90  258966.10\n",
       "20-04         157786.0  666760.0  273228.10  393531.90\n",
       "20-05         103542.0  431732.0  178018.30  253713.70\n",
       "20-06         206604.0  853696.0  352065.10  501630.90\n",
       "20-07         138710.0  592342.0  244474.90  347867.10\n",
       "20-08         121410.0  523510.0  216795.60  306714.40\n",
       "20-09         114560.0  477548.0  195616.90  281931.10\n",
       "20-10         210964.0  869274.0  356851.90  512422.10\n",
       "20-11         111300.0  435758.0  176540.30  259217.70\n",
       "20-12         204672.0  838022.0  341168.10  496853.90"
      ]
     },
     "execution_count": 45,
     "metadata": {},
     "output_type": "execute_result"
    }
   ],
   "source": [
    "df.groupby('month_year').sum()"
   ]
  },
  {
   "cell_type": "code",
   "execution_count": 46,
   "id": "a1717f85",
   "metadata": {},
   "outputs": [],
   "source": [
    "df_trend = df.groupby('month_year').sum() ['Profit'].reset_index()"
   ]
  },
  {
   "cell_type": "code",
   "execution_count": 78,
   "id": "4b72e299",
   "metadata": {},
   "outputs": [
    {
     "data": {
      "image/png": "[encoded data removed]",
      "text/plain": [
       "<Figure size 1080x432 with 1 Axes>"
      ]
     },
     "metadata": {},
     "output_type": "display_data"
    }
   ],
   "source": [
    "plt.figure(figsize=(15,6))\n",
    "plt.plot(df_trend['month_year'], df_trend['Profit'])\n",
    "plt.xticks(rotation='vertical', size=10)\n",
    "plt.title('Sales Trend')\n",
    "plt.show()"
   ]
  },
  {
   "cell_type": "code",
   "execution_count": 55,
   "id": "bbf78f45",
   "metadata": {},
   "outputs": [
    {
     "ename": "SyntaxError",
     "evalue": "invalid syntax (Temp/ipykernel_12712/2247487536.py, line 1)",
     "output_type": "error",
     "traceback": [
      "\u001b[1;36m  File \u001b[1;32m\"C:\\Users\\USER\\AppData\\Local\\Temp/ipykernel_12712/2247487536.py\"\u001b[1;36m, line \u001b[1;32m1\u001b[0m\n\u001b[1;33m    Chocolate Chip= df.loc[df.Product == 'Chocolate Chip'] ['Units Sold']\u001b[0m\n\u001b[1;37m              ^\u001b[0m\n\u001b[1;31mSyntaxError\u001b[0m\u001b[1;31m:\u001b[0m invalid syntax\n"
     ]
    }
   ],
   "source": []
  },
  {
   "cell_type": "code",
   "execution_count": 59,
   "id": "9fc18180",
   "metadata": {},
   "outputs": [
    {
     "data": {
      "text/plain": [
       "Chocolate Chip                   353\n",
       "White Chocolate Macadamia Nut    191\n",
       "Sugar                            190\n",
       "Oatmeal Raisin                   165\n",
       "Fortune Cookie                   163\n",
       "Snickerdoodle                    163\n",
       "Name: Product, dtype: int64"
      ]
     },
     "execution_count": 59,
     "metadata": {},
     "output_type": "execute_result"
    }
   ],
   "source": [
    "df['Product'].value_counts()"
   ]
  },
  {
   "cell_type": "code",
   "execution_count": 60,
   "id": "e4fca982",
   "metadata": {},
   "outputs": [
    {
     "data": {
      "text/html": [
       "<div>\n",
       "<style scoped>\n",
       "    .dataframe tbody tr th:only-of-type {\n",
       "        vertical-align: middle;\n",
       "    }\n",
       "\n",
       "    .dataframe tbody tr th {\n",
       "        vertical-align: top;\n",
       "    }\n",
       "\n",
       "    .dataframe thead th {\n",
       "        text-align: right;\n",
       "    }\n",
       "</style>\n",
       "<table border=\"1\" class=\"dataframe\">\n",
       "  <thead>\n",
       "    <tr style=\"text-align: right;\">\n",
       "      <th></th>\n",
       "      <th>Product</th>\n",
       "    </tr>\n",
       "  </thead>\n",
       "  <tbody>\n",
       "    <tr>\n",
       "      <th>Chocolate Chip</th>\n",
       "      <td>353</td>\n",
       "    </tr>\n",
       "    <tr>\n",
       "      <th>White Chocolate Macadamia Nut</th>\n",
       "      <td>191</td>\n",
       "    </tr>\n",
       "    <tr>\n",
       "      <th>Sugar</th>\n",
       "      <td>190</td>\n",
       "    </tr>\n",
       "    <tr>\n",
       "      <th>Oatmeal Raisin</th>\n",
       "      <td>165</td>\n",
       "    </tr>\n",
       "    <tr>\n",
       "      <th>Fortune Cookie</th>\n",
       "      <td>163</td>\n",
       "    </tr>\n",
       "    <tr>\n",
       "      <th>Snickerdoodle</th>\n",
       "      <td>163</td>\n",
       "    </tr>\n",
       "  </tbody>\n",
       "</table>\n",
       "</div>"
      ],
      "text/plain": [
       "                               Product\n",
       "Chocolate Chip                     353\n",
       "White Chocolate Macadamia Nut      191\n",
       "Sugar                              190\n",
       "Oatmeal Raisin                     165\n",
       "Fortune Cookie                     163\n",
       "Snickerdoodle                      163"
      ]
     },
     "execution_count": 60,
     "metadata": {},
     "output_type": "execute_result"
    }
   ],
   "source": [
    "\n",
    "#inseted into a dataframe and inserted into a veriabelr for plotting\n",
    "product_df =pd.DataFrame(df['Product'].value_counts())\n",
    "product_df"
   ]
  },
  {
   "cell_type": "code",
   "execution_count": 61,
   "id": "7cdbfa37",
   "metadata": {},
   "outputs": [
    {
     "data": {
      "text/plain": [
       "Chocolate Chip                   353\n",
       "White Chocolate Macadamia Nut    191\n",
       "Sugar                            190\n",
       "Oatmeal Raisin                   165\n",
       "Fortune Cookie                   163\n",
       "Snickerdoodle                    163\n",
       "Name: Product, dtype: int64"
      ]
     },
     "execution_count": 61,
     "metadata": {},
     "output_type": "execute_result"
    }
   ],
   "source": [
    "df['Product'].value_counts()"
   ]
  },
  {
   "cell_type": "code",
   "execution_count": 73,
   "id": "590deb48",
   "metadata": {},
   "outputs": [
    {
     "data": {
      "image/png": "[encoded data removed]",
      "text/plain": [
       "<Figure size 864x432 with 1 Axes>"
      ]
     },
     "metadata": {},
     "output_type": "display_data"
    }
   ],
   "source": [
    "plt.figure(figsize=(12,6))\n",
    "plt.style.use('bmh')\n",
    "slices=[353,191,190,165,163,163]\n",
    "explode= [0.4,0,0,0,0.2,0.2]\n",
    "labels=['Chocolate Chip ','White Chocolate Macadamia Nut','Sugar','Oatmeal Raisin ','Fortune Cookie', 'Snickerdoodle']\n",
    "plt.pie(slices, labels=labels,explode=explode,autopct='%1.1f%%')\n",
    "plt.title('The Most Product Sold')\n",
    "\n",
    "plt.show()\n",
    "\n"
   ]
  },
  {
   "cell_type": "code",
   "execution_count": 81,
   "id": "ba72cc4d",
   "metadata": {},
   "outputs": [
    {
     "ename": "ModuleNotFoundError",
     "evalue": "No module named 'Jupyter_dash'",
     "output_type": "error",
     "traceback": [
      "\u001b[1;31m---------------------------------------------------------------------------\u001b[0m",
      "\u001b[1;31mModuleNotFoundError\u001b[0m                       Traceback (most recent call last)",
      "\u001b[1;32m~\\AppData\\Local\\Temp/ipykernel_12712/2317529580.py\u001b[0m in \u001b[0;36m<module>\u001b[1;34m\u001b[0m\n\u001b[1;32m----> 1\u001b[1;33m \u001b[1;32mfrom\u001b[0m \u001b[0mJupyter_dash\u001b[0m \u001b[1;32mimport\u001b[0m \u001b[0mJupyterDash\u001b[0m\u001b[1;33m\u001b[0m\u001b[1;33m\u001b[0m\u001b[0m\n\u001b[0m\u001b[0;32m      2\u001b[0m \u001b[1;33m\u001b[0m\u001b[0m\n\u001b[0;32m      3\u001b[0m \u001b[1;32mimport\u001b[0m \u001b[0mdash_core_components\u001b[0m \u001b[1;32mas\u001b[0m \u001b[0mdoc\u001b[0m\u001b[1;33m\u001b[0m\u001b[1;33m\u001b[0m\u001b[0m\n\u001b[0;32m      4\u001b[0m \u001b[1;33m\u001b[0m\u001b[0m\n\u001b[0;32m      5\u001b[0m \u001b[1;32mimport\u001b[0m \u001b[0mdash_html_components\u001b[0m \u001b[1;32mas\u001b[0m \u001b[0mhtml\u001b[0m\u001b[1;33m\u001b[0m\u001b[1;33m\u001b[0m\u001b[0m\n",
      "\u001b[1;31mModuleNotFoundError\u001b[0m: No module named 'Jupyter_dash'"
     ]
    }
   ],
   "source": [
    "from Jupyter_dash import JupyterDash\n",
    "\n",
    "import dash_core_components as doc\n",
    "\n",
    "import dash_html_components as html\n",
    "\n",
    "import plotyly.express as px\n",
    "\n",
    "from jupyter_dash import JupyterDash\n",
    "\n",
    "from dash.dependencies import Input, Output"
   ]
  },
  {
   "cell_type": "code",
   "execution_count": 82,
   "id": "c2099171",
   "metadata": {},
   "outputs": [
    {
     "name": "stdout",
     "output_type": "stream",
     "text": [
      "Collecting voila"
     ]
    },
    {
     "name": "stderr",
     "output_type": "stream",
     "text": [
      "ERROR: pip's dependency resolver does not currently take into account all the packages that are installed. This behaviour is the source of the following dependency conflicts.\n",
      "spyder 5.1.5 requires pyqt5<5.13, which is not installed.\n",
      "spyder 5.1.5 requires pyqtwebengine<5.13, which is not installed.\n"
     ]
    },
    {
     "name": "stdout",
     "output_type": "stream",
     "text": [
      "\n",
      "  Downloading voila-0.3.2-py3-none-any.whl (1.7 MB)\n",
      "Requirement already satisfied: jupyter-client<8,>=6.1.3 in c:\\users\\user\\anaconda3\\lib\\site-packages (from voila) (6.1.12)\n",
      "Requirement already satisfied: jupyterlab-server<3,>=2.3.0 in c:\\users\\user\\anaconda3\\lib\\site-packages (from voila) (2.8.2)\n",
      "Requirement already satisfied: jupyter-server<2.0.0,>=0.3.0 in c:\\users\\user\\anaconda3\\lib\\site-packages (from voila) (1.4.1)\n",
      "Collecting websockets>=9.0\n",
      "  Downloading websockets-10.2-cp39-cp39-win_amd64.whl (97 kB)\n",
      "Requirement already satisfied: nbclient<0.6,>=0.4.0 in c:\\users\\user\\anaconda3\\lib\\site-packages (from voila) (0.5.3)\n",
      "Collecting nbconvert<7,>=6.4.2\n",
      "  Downloading nbconvert-6.4.2-py3-none-any.whl (558 kB)\n",
      "Requirement already satisfied: traitlets<6,>=5.0.3 in c:\\users\\user\\anaconda3\\lib\\site-packages (from voila) (5.1.0)\n",
      "Requirement already satisfied: tornado>=4.1 in c:\\users\\user\\anaconda3\\lib\\site-packages (from jupyter-client<8,>=6.1.3->voila) (6.1)\n",
      "Requirement already satisfied: jupyter-core>=4.6.0 in c:\\users\\user\\anaconda3\\lib\\site-packages (from jupyter-client<8,>=6.1.3->voila) (4.8.1)\n",
      "Requirement already satisfied: python-dateutil>=2.1 in c:\\users\\user\\anaconda3\\lib\\site-packages (from jupyter-client<8,>=6.1.3->voila) (2.8.2)\n",
      "Requirement already satisfied: pyzmq>=13 in c:\\users\\user\\anaconda3\\lib\\site-packages (from jupyter-client<8,>=6.1.3->voila) (22.2.1)\n",
      "Requirement already satisfied: pywin32>=1.0 in c:\\users\\user\\anaconda3\\lib\\site-packages (from jupyter-core>=4.6.0->jupyter-client<8,>=6.1.3->voila) (228)\n",
      "Requirement already satisfied: Send2Trash in c:\\users\\user\\anaconda3\\lib\\site-packages (from jupyter-server<2.0.0,>=0.3.0->voila) (1.8.0)\n",
      "Requirement already satisfied: prometheus-client in c:\\users\\user\\anaconda3\\lib\\site-packages (from jupyter-server<2.0.0,>=0.3.0->voila) (0.11.0)\n",
      "Requirement already satisfied: jinja2 in c:\\users\\user\\anaconda3\\lib\\site-packages (from jupyter-server<2.0.0,>=0.3.0->voila) (2.11.3)\n",
      "Requirement already satisfied: nbformat in c:\\users\\user\\anaconda3\\lib\\site-packages (from jupyter-server<2.0.0,>=0.3.0->voila) (5.1.3)\n",
      "Requirement already satisfied: anyio>=2.0.2 in c:\\users\\user\\anaconda3\\lib\\site-packages (from jupyter-server<2.0.0,>=0.3.0->voila) (2.2.0)\n",
      "Requirement already satisfied: ipython-genutils in c:\\users\\user\\anaconda3\\lib\\site-packages (from jupyter-server<2.0.0,>=0.3.0->voila) (0.2.0)\n",
      "Requirement already satisfied: terminado>=0.8.3 in c:\\users\\user\\anaconda3\\lib\\site-packages (from jupyter-server<2.0.0,>=0.3.0->voila) (0.9.4)\n",
      "Requirement already satisfied: idna>=2.8 in c:\\users\\user\\anaconda3\\lib\\site-packages (from anyio>=2.0.2->jupyter-server<2.0.0,>=0.3.0->voila) (3.2)\n",
      "Requirement already satisfied: sniffio>=1.1 in c:\\users\\user\\anaconda3\\lib\\site-packages (from anyio>=2.0.2->jupyter-server<2.0.0,>=0.3.0->voila) (1.2.0)\n",
      "Requirement already satisfied: requests in c:\\users\\user\\anaconda3\\lib\\site-packages (from jupyterlab-server<3,>=2.3.0->voila) (2.26.0)\n",
      "Requirement already satisfied: entrypoints>=0.2.2 in c:\\users\\user\\anaconda3\\lib\\site-packages (from jupyterlab-server<3,>=2.3.0->voila) (0.3)\n",
      "Requirement already satisfied: babel in c:\\users\\user\\anaconda3\\lib\\site-packages (from jupyterlab-server<3,>=2.3.0->voila) (2.9.1)\n",
      "Requirement already satisfied: jsonschema>=3.0.1 in c:\\users\\user\\anaconda3\\lib\\site-packages (from jupyterlab-server<3,>=2.3.0->voila) (3.2.0)\n",
      "Requirement already satisfied: packaging in c:\\users\\user\\anaconda3\\lib\\site-packages (from jupyterlab-server<3,>=2.3.0->voila) (21.0)\n",
      "Requirement already satisfied: json5 in c:\\users\\user\\anaconda3\\lib\\site-packages (from jupyterlab-server<3,>=2.3.0->voila) (0.9.6)\n",
      "Requirement already satisfied: MarkupSafe>=0.23 in c:\\users\\user\\anaconda3\\lib\\site-packages (from jinja2->jupyter-server<2.0.0,>=0.3.0->voila) (1.1.1)\n",
      "Requirement already satisfied: attrs>=17.4.0 in c:\\users\\user\\anaconda3\\lib\\site-packages (from jsonschema>=3.0.1->jupyterlab-server<3,>=2.3.0->voila) (21.2.0)\n",
      "Requirement already satisfied: setuptools in c:\\users\\user\\anaconda3\\lib\\site-packages (from jsonschema>=3.0.1->jupyterlab-server<3,>=2.3.0->voila) (58.0.4)\n",
      "Requirement already satisfied: pyrsistent>=0.14.0 in c:\\users\\user\\anaconda3\\lib\\site-packages (from jsonschema>=3.0.1->jupyterlab-server<3,>=2.3.0->voila) (0.18.0)\n",
      "Requirement already satisfied: six>=1.11.0 in c:\\users\\user\\anaconda3\\lib\\site-packages (from jsonschema>=3.0.1->jupyterlab-server<3,>=2.3.0->voila) (1.16.0)\n",
      "Requirement already satisfied: async-generator in c:\\users\\user\\anaconda3\\lib\\site-packages (from nbclient<0.6,>=0.4.0->voila) (1.10)\n",
      "Requirement already satisfied: nest-asyncio in c:\\users\\user\\anaconda3\\lib\\site-packages (from nbclient<0.6,>=0.4.0->voila) (1.5.1)\n",
      "Requirement already satisfied: pygments>=2.4.1 in c:\\users\\user\\anaconda3\\lib\\site-packages (from nbconvert<7,>=6.4.2->voila) (2.10.0)\n",
      "Requirement already satisfied: mistune<2,>=0.8.1 in c:\\users\\user\\anaconda3\\lib\\site-packages (from nbconvert<7,>=6.4.2->voila) (0.8.4)\n",
      "Requirement already satisfied: testpath in c:\\users\\user\\anaconda3\\lib\\site-packages (from nbconvert<7,>=6.4.2->voila) (0.5.0)\n",
      "Requirement already satisfied: bleach in c:\\users\\user\\anaconda3\\lib\\site-packages (from nbconvert<7,>=6.4.2->voila) (4.0.0)\n",
      "Requirement already satisfied: defusedxml in c:\\users\\user\\anaconda3\\lib\\site-packages (from nbconvert<7,>=6.4.2->voila) (0.7.1)\n",
      "Requirement already satisfied: jupyterlab-pygments in c:\\users\\user\\anaconda3\\lib\\site-packages (from nbconvert<7,>=6.4.2->voila) (0.1.2)\n",
      "Requirement already satisfied: pandocfilters>=1.4.1 in c:\\users\\user\\anaconda3\\lib\\site-packages (from nbconvert<7,>=6.4.2->voila) (1.4.3)\n",
      "Requirement already satisfied: pywinpty>=0.5 in c:\\users\\user\\anaconda3\\lib\\site-packages (from terminado>=0.8.3->jupyter-server<2.0.0,>=0.3.0->voila) (0.5.7)\n",
      "Requirement already satisfied: pytz>=2015.7 in c:\\users\\user\\anaconda3\\lib\\site-packages (from babel->jupyterlab-server<3,>=2.3.0->voila) (2021.3)\n",
      "Requirement already satisfied: webencodings in c:\\users\\user\\anaconda3\\lib\\site-packages (from bleach->nbconvert<7,>=6.4.2->voila) (0.5.1)\n",
      "Requirement already satisfied: pyparsing>=2.0.2 in c:\\users\\user\\anaconda3\\lib\\site-packages (from packaging->jupyterlab-server<3,>=2.3.0->voila) (3.0.4)\n",
      "Requirement already satisfied: charset-normalizer~=2.0.0 in c:\\users\\user\\anaconda3\\lib\\site-packages (from requests->jupyterlab-server<3,>=2.3.0->voila) (2.0.4)\n",
      "Requirement already satisfied: urllib3<1.27,>=1.21.1 in c:\\users\\user\\anaconda3\\lib\\site-packages (from requests->jupyterlab-server<3,>=2.3.0->voila) (1.26.7)\n",
      "Requirement already satisfied: certifi>=2017.4.17 in c:\\users\\user\\anaconda3\\lib\\site-packages (from requests->jupyterlab-server<3,>=2.3.0->voila) (2021.10.8)\n",
      "Installing collected packages: nbconvert, websockets, voila\n",
      "  Attempting uninstall: nbconvert\n",
      "    Found existing installation: nbconvert 6.1.0\n",
      "    Uninstalling nbconvert-6.1.0:\n",
      "      Successfully uninstalled nbconvert-6.1.0\n",
      "Successfully installed nbconvert-6.4.2 voila-0.3.2 websockets-10.2\n"
     ]
    }
   ],
   "source": [
    "!pip install voila"
   ]
  },
  {
   "cell_type": "code",
   "execution_count": null,
   "id": "c28600e8",
   "metadata": {},
   "outputs": [],
   "source": []
  }
 ],
 "metadata": {
  "kernelspec": {
   "display_name": "Python 3 (ipykernel)",
   "language": "python",
   "name": "python3"
  },
  "language_info": {
   "codemirror_mode": {
    "name": "ipython",
    "version": 3
   },
   "file_extension": ".py",
   "mimetype": "text/x-python",
   "name": "python",
   "nbconvert_exporter": "python",
   "pygments_lexer": "ipython3",
   "version": "3.9.7"
  }
 },
 "nbformat": 4,
 "nbformat_minor": 5
}
