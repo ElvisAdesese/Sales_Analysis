{
 "cells": [
  {
   "cell_type": "code",
   "execution_count": 56,
   "id": "e4af86a6",
   "metadata": {},
   "outputs": [],
   "source": [
    "import matplotlib.pyplot as plt\n",
    "\n",
    "import pandas as pd\n",
    "\n",
    "import seaborn as sns \n",
    "\n",
    "import numpy as np"
   ]
  },
  {
   "cell_type": "code",
   "execution_count": 19,
   "id": "5ed63b1f",
   "metadata": {},
   "outputs": [
    {
     "data": {
      "text/html": [
       "<div>\n",
       "<style scoped>\n",
       "    .dataframe tbody tr th:only-of-type {\n",
       "        vertical-align: middle;\n",
       "    }\n",
       "\n",
       "    .dataframe tbody tr th {\n",
       "        vertical-align: top;\n",
       "    }\n",
       "\n",
       "    .dataframe thead th {\n",
       "        text-align: right;\n",
       "    }\n",
       "</style>\n",
       "<table border=\"1\" class=\"dataframe\">\n",
       "  <thead>\n",
       "    <tr style=\"text-align: right;\">\n",
       "      <th></th>\n",
       "      <th>Order_ID</th>\n",
       "      <th>Order_Date</th>\n",
       "      <th>Customer_ID</th>\n",
       "      <th>Customer_Name</th>\n",
       "      <th>Address</th>\n",
       "      <th>City</th>\n",
       "      <th>State</th>\n",
       "      <th>ZIP/Postal Code</th>\n",
       "      <th>Country/Region</th>\n",
       "      <th>Salesperson</th>\n",
       "      <th>...</th>\n",
       "      <th>Ship_City</th>\n",
       "      <th>ShipZIP/PostalCode</th>\n",
       "      <th>Ship_Country/Region</th>\n",
       "      <th>Payment_Type</th>\n",
       "      <th>Product_Name</th>\n",
       "      <th>Category</th>\n",
       "      <th>Unit_Price</th>\n",
       "      <th>Quantity</th>\n",
       "      <th>Revenue</th>\n",
       "      <th>Shipping_Fee</th>\n",
       "    </tr>\n",
       "  </thead>\n",
       "  <tbody>\n",
       "    <tr>\n",
       "      <th>364</th>\n",
       "      <td>1428</td>\n",
       "      <td>2014-12-29</td>\n",
       "      <td>29</td>\n",
       "      <td>Company CC</td>\n",
       "      <td>789 29th Street</td>\n",
       "      <td>Denver</td>\n",
       "      <td>CO</td>\n",
       "      <td>99999</td>\n",
       "      <td>USA</td>\n",
       "      <td>Jan Kotas</td>\n",
       "      <td>...</td>\n",
       "      <td>Denver</td>\n",
       "      <td>99999</td>\n",
       "      <td>USA</td>\n",
       "      <td>Check</td>\n",
       "      <td>Fruit Cocktail</td>\n",
       "      <td>Fruit &amp; Veg</td>\n",
       "      <td>39.00</td>\n",
       "      <td>54.0</td>\n",
       "      <td>2106.00</td>\n",
       "      <td>214.81200</td>\n",
       "    </tr>\n",
       "    <tr>\n",
       "      <th>365</th>\n",
       "      <td>1429</td>\n",
       "      <td>2014-12-06</td>\n",
       "      <td>6</td>\n",
       "      <td>Company F</td>\n",
       "      <td>123 6th Street</td>\n",
       "      <td>Milwaukee</td>\n",
       "      <td>WI</td>\n",
       "      <td>99999</td>\n",
       "      <td>USA</td>\n",
       "      <td>Michael Neipper</td>\n",
       "      <td>...</td>\n",
       "      <td>Milwaukee</td>\n",
       "      <td>99999</td>\n",
       "      <td>USA</td>\n",
       "      <td>Check</td>\n",
       "      <td>Dried Pears</td>\n",
       "      <td>Dried Fruit &amp; Nuts</td>\n",
       "      <td>30.00</td>\n",
       "      <td>33.0</td>\n",
       "      <td>990.00</td>\n",
       "      <td>95.04000</td>\n",
       "    </tr>\n",
       "    <tr>\n",
       "      <th>366</th>\n",
       "      <td>1430</td>\n",
       "      <td>2014-12-06</td>\n",
       "      <td>6</td>\n",
       "      <td>Company F</td>\n",
       "      <td>123 6th Street</td>\n",
       "      <td>Milwaukee</td>\n",
       "      <td>WI</td>\n",
       "      <td>99999</td>\n",
       "      <td>USA</td>\n",
       "      <td>Michael Neipper</td>\n",
       "      <td>...</td>\n",
       "      <td>Milwaukee</td>\n",
       "      <td>99999</td>\n",
       "      <td>USA</td>\n",
       "      <td>Check</td>\n",
       "      <td>Dried Apples</td>\n",
       "      <td>Dried Fruit &amp; Nuts</td>\n",
       "      <td>53.00</td>\n",
       "      <td>34.0</td>\n",
       "      <td>1802.00</td>\n",
       "      <td>185.60600</td>\n",
       "    </tr>\n",
       "    <tr>\n",
       "      <th>367</th>\n",
       "      <td>1431</td>\n",
       "      <td>2014-12-04</td>\n",
       "      <td>4</td>\n",
       "      <td>Company D</td>\n",
       "      <td>123 4th Street</td>\n",
       "      <td>New York</td>\n",
       "      <td>NY</td>\n",
       "      <td>99999</td>\n",
       "      <td>USA</td>\n",
       "      <td>Andrew Cencini</td>\n",
       "      <td>...</td>\n",
       "      <td>New York</td>\n",
       "      <td>99999</td>\n",
       "      <td>USA</td>\n",
       "      <td>Check</td>\n",
       "      <td>Gnocchi</td>\n",
       "      <td>Pasta</td>\n",
       "      <td>38.00</td>\n",
       "      <td>59.0</td>\n",
       "      <td>2242.00</td>\n",
       "      <td>226.44200</td>\n",
       "    </tr>\n",
       "    <tr>\n",
       "      <th>368</th>\n",
       "      <td>1432</td>\n",
       "      <td>2014-12-03</td>\n",
       "      <td>3</td>\n",
       "      <td>Company C</td>\n",
       "      <td>123 3rd Street</td>\n",
       "      <td>Los Angelas</td>\n",
       "      <td>CA</td>\n",
       "      <td>99999</td>\n",
       "      <td>USA</td>\n",
       "      <td>Mariya Sergienko</td>\n",
       "      <td>...</td>\n",
       "      <td>Los Angelas</td>\n",
       "      <td>99999</td>\n",
       "      <td>USA</td>\n",
       "      <td>Check</td>\n",
       "      <td>Green Tea</td>\n",
       "      <td>Beverages</td>\n",
       "      <td>2.99</td>\n",
       "      <td>24.0</td>\n",
       "      <td>71.76</td>\n",
       "      <td>7.10424</td>\n",
       "    </tr>\n",
       "  </tbody>\n",
       "</table>\n",
       "<p>5 rows × 23 columns</p>\n",
       "</div>"
      ],
      "text/plain": [
       "     Order_ID Order_Date  Customer_ID Customer_Name          Address  \\\n",
       "364      1428 2014-12-29           29    Company CC  789 29th Street   \n",
       "365      1429 2014-12-06            6     Company F   123 6th Street   \n",
       "366      1430 2014-12-06            6     Company F   123 6th Street   \n",
       "367      1431 2014-12-04            4     Company D   123 4th Street   \n",
       "368      1432 2014-12-03            3     Company C   123 3rd Street   \n",
       "\n",
       "            City State  ZIP/Postal Code Country/Region       Salesperson  ...  \\\n",
       "364       Denver    CO            99999            USA         Jan Kotas  ...   \n",
       "365    Milwaukee    WI            99999            USA   Michael Neipper  ...   \n",
       "366    Milwaukee    WI            99999            USA   Michael Neipper  ...   \n",
       "367     New York    NY            99999            USA    Andrew Cencini  ...   \n",
       "368  Los Angelas    CA            99999            USA  Mariya Sergienko  ...   \n",
       "\n",
       "       Ship_City ShipZIP/PostalCode Ship_Country/Region Payment_Type  \\\n",
       "364       Denver              99999                 USA        Check   \n",
       "365    Milwaukee              99999                 USA        Check   \n",
       "366    Milwaukee              99999                 USA        Check   \n",
       "367     New York              99999                 USA        Check   \n",
       "368  Los Angelas              99999                 USA        Check   \n",
       "\n",
       "       Product_Name            Category Unit_Price Quantity  Revenue  \\\n",
       "364  Fruit Cocktail         Fruit & Veg      39.00     54.0  2106.00   \n",
       "365     Dried Pears  Dried Fruit & Nuts      30.00     33.0   990.00   \n",
       "366    Dried Apples  Dried Fruit & Nuts      53.00     34.0  1802.00   \n",
       "367         Gnocchi               Pasta      38.00     59.0  2242.00   \n",
       "368       Green Tea           Beverages       2.99     24.0    71.76   \n",
       "\n",
       "     Shipping_Fee  \n",
       "364     214.81200  \n",
       "365      95.04000  \n",
       "366     185.60600  \n",
       "367     226.44200  \n",
       "368       7.10424  \n",
       "\n",
       "[5 rows x 23 columns]"
      ]
     },
     "execution_count": 19,
     "metadata": {},
     "output_type": "execute_result"
    }
   ],
   "source": [
    "df.tail()"
   ]
  },
  {
   "cell_type": "code",
   "execution_count": 7,
   "id": "3e6dfdfc",
   "metadata": {},
   "outputs": [
    {
     "name": "stdout",
     "output_type": "stream",
     "text": [
      "<class 'pandas.core.frame.DataFrame'>\n",
      "RangeIndex: 369 entries, 0 to 368\n",
      "Data columns (total 23 columns):\n",
      " #   Column               Non-Null Count  Dtype         \n",
      "---  ------               --------------  -----         \n",
      " 0   Order_ID             369 non-null    int64         \n",
      " 1   Order_Date           369 non-null    datetime64[ns]\n",
      " 2   Customer_ID          369 non-null    int64         \n",
      " 3   Customer_Name        369 non-null    object        \n",
      " 4   Address              369 non-null    object        \n",
      " 5   City                 369 non-null    object        \n",
      " 6   State                369 non-null    object        \n",
      " 7   ZIP/Postal Code      369 non-null    int64         \n",
      " 8   Country/Region       369 non-null    object        \n",
      " 9   Salesperson          369 non-null    object        \n",
      " 10  Region               369 non-null    object        \n",
      " 11  Ship_Name            369 non-null    object        \n",
      " 12  Ship_Address         369 non-null    object        \n",
      " 13  Ship_City            369 non-null    object        \n",
      " 14  ShipZIP/PostalCode   369 non-null    int64         \n",
      " 15  Ship_Country/Region  369 non-null    object        \n",
      " 16  Payment_Type         369 non-null    object        \n",
      " 17  Product_Name         366 non-null    object        \n",
      " 18  Category             366 non-null    object        \n",
      " 19  Unit_Price           366 non-null    float64       \n",
      " 20  Quantity             366 non-null    float64       \n",
      " 21  Revenue              369 non-null    float64       \n",
      " 22  Shipping_Fee         369 non-null    float64       \n",
      "dtypes: datetime64[ns](1), float64(4), int64(4), object(14)\n",
      "memory usage: 66.4+ KB\n"
     ]
    }
   ],
   "source": [
    "df.info()"
   ]
  },
  {
   "cell_type": "code",
   "execution_count": 8,
   "id": "0bc8e946",
   "metadata": {},
   "outputs": [
    {
     "data": {
      "text/html": [
       "<div>\n",
       "<style scoped>\n",
       "    .dataframe tbody tr th:only-of-type {\n",
       "        vertical-align: middle;\n",
       "    }\n",
       "\n",
       "    .dataframe tbody tr th {\n",
       "        vertical-align: top;\n",
       "    }\n",
       "\n",
       "    .dataframe thead th {\n",
       "        text-align: right;\n",
       "    }\n",
       "</style>\n",
       "<table border=\"1\" class=\"dataframe\">\n",
       "  <thead>\n",
       "    <tr style=\"text-align: right;\">\n",
       "      <th></th>\n",
       "      <th>Order_ID</th>\n",
       "      <th>Customer_ID</th>\n",
       "      <th>ZIP/Postal Code</th>\n",
       "      <th>ShipZIP/PostalCode</th>\n",
       "      <th>Unit_Price</th>\n",
       "      <th>Quantity</th>\n",
       "      <th>Revenue</th>\n",
       "      <th>Shipping_Fee</th>\n",
       "    </tr>\n",
       "  </thead>\n",
       "  <tbody>\n",
       "    <tr>\n",
       "      <th>count</th>\n",
       "      <td>369.000000</td>\n",
       "      <td>369.000000</td>\n",
       "      <td>369.0</td>\n",
       "      <td>369.0</td>\n",
       "      <td>366.000000</td>\n",
       "      <td>366.000000</td>\n",
       "      <td>369.000000</td>\n",
       "      <td>369.000000</td>\n",
       "    </tr>\n",
       "    <tr>\n",
       "      <th>mean</th>\n",
       "      <td>1212.151762</td>\n",
       "      <td>11.934959</td>\n",
       "      <td>99999.0</td>\n",
       "      <td>99999.0</td>\n",
       "      <td>21.425628</td>\n",
       "      <td>56.262295</td>\n",
       "      <td>1178.959783</td>\n",
       "      <td>118.328177</td>\n",
       "    </tr>\n",
       "    <tr>\n",
       "      <th>std</th>\n",
       "      <td>126.400067</td>\n",
       "      <td>9.352755</td>\n",
       "      <td>0.0</td>\n",
       "      <td>0.0</td>\n",
       "      <td>16.891737</td>\n",
       "      <td>26.729329</td>\n",
       "      <td>1164.676660</td>\n",
       "      <td>116.471099</td>\n",
       "    </tr>\n",
       "    <tr>\n",
       "      <th>min</th>\n",
       "      <td>1001.000000</td>\n",
       "      <td>1.000000</td>\n",
       "      <td>99999.0</td>\n",
       "      <td>99999.0</td>\n",
       "      <td>2.990000</td>\n",
       "      <td>10.000000</td>\n",
       "      <td>0.000000</td>\n",
       "      <td>3.734500</td>\n",
       "    </tr>\n",
       "    <tr>\n",
       "      <th>25%</th>\n",
       "      <td>1102.000000</td>\n",
       "      <td>6.000000</td>\n",
       "      <td>99999.0</td>\n",
       "      <td>99999.0</td>\n",
       "      <td>9.650000</td>\n",
       "      <td>33.250000</td>\n",
       "      <td>368.000000</td>\n",
       "      <td>38.016000</td>\n",
       "    </tr>\n",
       "    <tr>\n",
       "      <th>50%</th>\n",
       "      <td>1216.000000</td>\n",
       "      <td>9.000000</td>\n",
       "      <td>99999.0</td>\n",
       "      <td>99999.0</td>\n",
       "      <td>14.000000</td>\n",
       "      <td>55.000000</td>\n",
       "      <td>848.000000</td>\n",
       "      <td>85.470000</td>\n",
       "    </tr>\n",
       "    <tr>\n",
       "      <th>75%</th>\n",
       "      <td>1324.000000</td>\n",
       "      <td>25.000000</td>\n",
       "      <td>99999.0</td>\n",
       "      <td>99999.0</td>\n",
       "      <td>34.800000</td>\n",
       "      <td>80.000000</td>\n",
       "      <td>1458.000000</td>\n",
       "      <td>144.035200</td>\n",
       "    </tr>\n",
       "    <tr>\n",
       "      <th>max</th>\n",
       "      <td>1432.000000</td>\n",
       "      <td>29.000000</td>\n",
       "      <td>99999.0</td>\n",
       "      <td>99999.0</td>\n",
       "      <td>81.000000</td>\n",
       "      <td>100.000000</td>\n",
       "      <td>7938.000000</td>\n",
       "      <td>769.986000</td>\n",
       "    </tr>\n",
       "  </tbody>\n",
       "</table>\n",
       "</div>"
      ],
      "text/plain": [
       "          Order_ID  Customer_ID  ZIP/Postal Code  ShipZIP/PostalCode  \\\n",
       "count   369.000000   369.000000            369.0               369.0   \n",
       "mean   1212.151762    11.934959          99999.0             99999.0   \n",
       "std     126.400067     9.352755              0.0                 0.0   \n",
       "min    1001.000000     1.000000          99999.0             99999.0   \n",
       "25%    1102.000000     6.000000          99999.0             99999.0   \n",
       "50%    1216.000000     9.000000          99999.0             99999.0   \n",
       "75%    1324.000000    25.000000          99999.0             99999.0   \n",
       "max    1432.000000    29.000000          99999.0             99999.0   \n",
       "\n",
       "       Unit_Price    Quantity      Revenue  Shipping_Fee  \n",
       "count  366.000000  366.000000   369.000000    369.000000  \n",
       "mean    21.425628   56.262295  1178.959783    118.328177  \n",
       "std     16.891737   26.729329  1164.676660    116.471099  \n",
       "min      2.990000   10.000000     0.000000      3.734500  \n",
       "25%      9.650000   33.250000   368.000000     38.016000  \n",
       "50%     14.000000   55.000000   848.000000     85.470000  \n",
       "75%     34.800000   80.000000  1458.000000    144.035200  \n",
       "max     81.000000  100.000000  7938.000000    769.986000  "
      ]
     },
     "execution_count": 8,
     "metadata": {},
     "output_type": "execute_result"
    }
   ],
   "source": [
    "df.describe()"
   ]
  },
  {
   "cell_type": "code",
   "execution_count": 10,
   "id": "cce6a948",
   "metadata": {},
   "outputs": [
    {
     "data": {
      "text/plain": [
       "(369, 23)"
      ]
     },
     "execution_count": 10,
     "metadata": {},
     "output_type": "execute_result"
    }
   ],
   "source": [
    "df.shape"
   ]
  },
  {
   "cell_type": "code",
   "execution_count": 28,
   "id": "b6a57e3c",
   "metadata": {},
   "outputs": [
    {
     "data": {
      "text/plain": [
       "<AxesSubplot:title={'center':'Sales by Rep'}, xlabel='Salesperson', ylabel='Revenue'>"
      ]
     },
     "execution_count": 28,
     "metadata": {},
     "output_type": "execute_result"
    },
    {
     "data": {
      "image/png": "[encoded data removed]",
      "text/plain": [
       "<Figure size 864x432 with 1 Axes>"
      ]
     },
     "metadata": {
      "needs_background": "light"
     },
     "output_type": "display_data"
    }
   ],
   "source": [
    "plt.style.use('bmh')\n",
    "plt.figure(figsize = (12,6))\n",
    "plt.title('Sales by Rep')\n",
    "sns.barplot(x = 'Salesperson', y= 'Revenue', data =df )"
   ]
  },
  {
   "cell_type": "code",
   "execution_count": 32,
   "id": "0385dfb9",
   "metadata": {},
   "outputs": [
    {
     "data": {
      "text/plain": [
       "Company J     45\n",
       "Company H     41\n",
       "Company F     36\n",
       "Company A     33\n",
       "Company BB    32\n",
       "Company D     31\n",
       "Company Z     30\n",
       "Company I     26\n",
       "Company C     25\n",
       "Company K     25\n",
       "Company CC    16\n",
       "Company Y     12\n",
       "Company G      7\n",
       "Company L      6\n",
       "Company AA     4\n",
       "Name: Customer_Name, dtype: int64"
      ]
     },
     "execution_count": 32,
     "metadata": {},
     "output_type": "execute_result"
    }
   ],
   "source": [
    "df['Customer_Name'].value_counts()"
   ]
  },
  {
   "cell_type": "code",
   "execution_count": 34,
   "id": "13317ca7",
   "metadata": {},
   "outputs": [
    {
     "data": {
      "image/png": "[encoded data removed]",
      "text/plain": [
       "<Figure size 864x432 with 1 Axes>"
      ]
     },
     "metadata": {},
     "output_type": "display_data"
    }
   ],
   "source": [
    "plt.figure(figsize=(12,6))\n",
    "plt.style.use('bmh')\n",
    "slices=[45,41,36,33,32]\n",
    "explode= [0.4,0,0,0,0.2]\n",
    "labels=['Company J','Company H','Company F','Company A','Company BB']\n",
    "plt.pie(slices, labels=labels,explode=explode,autopct='%1.1f%%')\n",
    "plt.title('Top 5 Customers for 2014')\n",
    "\n",
    "plt.show()"
   ]
  },
  {
   "cell_type": "code",
   "execution_count": 36,
   "id": "869be0b5",
   "metadata": {},
   "outputs": [
    {
     "data": {
      "text/plain": [
       "North    117\n",
       "East      88\n",
       "South     87\n",
       "West      77\n",
       "Name: Region, dtype: int64"
      ]
     },
     "execution_count": 36,
     "metadata": {},
     "output_type": "execute_result"
    }
   ],
   "source": [
    "df['Region'].value_counts()"
   ]
  },
  {
   "cell_type": "code",
   "execution_count": 37,
   "id": "70443338",
   "metadata": {},
   "outputs": [],
   "source": [
    "region_df = pd.DataFrame(df['Region'].value_counts()) "
   ]
  },
  {
   "cell_type": "code",
   "execution_count": 38,
   "id": "d603ad8e",
   "metadata": {},
   "outputs": [
    {
     "data": {
      "text/html": [
       "<div>\n",
       "<style scoped>\n",
       "    .dataframe tbody tr th:only-of-type {\n",
       "        vertical-align: middle;\n",
       "    }\n",
       "\n",
       "    .dataframe tbody tr th {\n",
       "        vertical-align: top;\n",
       "    }\n",
       "\n",
       "    .dataframe thead th {\n",
       "        text-align: right;\n",
       "    }\n",
       "</style>\n",
       "<table border=\"1\" class=\"dataframe\">\n",
       "  <thead>\n",
       "    <tr style=\"text-align: right;\">\n",
       "      <th></th>\n",
       "      <th>Region</th>\n",
       "    </tr>\n",
       "  </thead>\n",
       "  <tbody>\n",
       "    <tr>\n",
       "      <th>North</th>\n",
       "      <td>117</td>\n",
       "    </tr>\n",
       "    <tr>\n",
       "      <th>East</th>\n",
       "      <td>88</td>\n",
       "    </tr>\n",
       "    <tr>\n",
       "      <th>South</th>\n",
       "      <td>87</td>\n",
       "    </tr>\n",
       "    <tr>\n",
       "      <th>West</th>\n",
       "      <td>77</td>\n",
       "    </tr>\n",
       "  </tbody>\n",
       "</table>\n",
       "</div>"
      ],
      "text/plain": [
       "       Region\n",
       "North     117\n",
       "East       88\n",
       "South      87\n",
       "West       77"
      ]
     },
     "execution_count": 38,
     "metadata": {},
     "output_type": "execute_result"
    }
   ],
   "source": [
    "region_df "
   ]
  },
  {
   "cell_type": "code",
   "execution_count": 40,
   "id": "70616f13",
   "metadata": {},
   "outputs": [
    {
     "data": {
      "text/plain": [
       "<AxesSubplot:ylabel='Region'>"
      ]
     },
     "execution_count": 40,
     "metadata": {},
     "output_type": "execute_result"
    },
    {
     "data": {
      "image/png": "[encoded data removed]",
      "text/plain": [
       "<Figure size 864x432 with 1 Axes>"
      ]
     },
     "metadata": {
      "needs_background": "light"
     },
     "output_type": "display_data"
    }
   ],
   "source": [
    "plt.figure(figsize = (12,6))\n",
    "sns.barplot(x =region_df.index , y = region_df['Region'])"
   ]
  },
  {
   "cell_type": "code",
   "execution_count": 41,
   "id": "745180ce",
   "metadata": {},
   "outputs": [
    {
     "data": {
      "text/html": [
       "<div>\n",
       "<style scoped>\n",
       "    .dataframe tbody tr th:only-of-type {\n",
       "        vertical-align: middle;\n",
       "    }\n",
       "\n",
       "    .dataframe tbody tr th {\n",
       "        vertical-align: top;\n",
       "    }\n",
       "\n",
       "    .dataframe thead th {\n",
       "        text-align: right;\n",
       "    }\n",
       "</style>\n",
       "<table border=\"1\" class=\"dataframe\">\n",
       "  <thead>\n",
       "    <tr style=\"text-align: right;\">\n",
       "      <th></th>\n",
       "      <th>Payment_Type</th>\n",
       "    </tr>\n",
       "  </thead>\n",
       "  <tbody>\n",
       "    <tr>\n",
       "      <th>Credit Card</th>\n",
       "      <td>162</td>\n",
       "    </tr>\n",
       "    <tr>\n",
       "      <th>Check</th>\n",
       "      <td>134</td>\n",
       "    </tr>\n",
       "    <tr>\n",
       "      <th>Cash</th>\n",
       "      <td>73</td>\n",
       "    </tr>\n",
       "  </tbody>\n",
       "</table>\n",
       "</div>"
      ],
      "text/plain": [
       "             Payment_Type\n",
       "Credit Card           162\n",
       "Check                 134\n",
       "Cash                   73"
      ]
     },
     "execution_count": 41,
     "metadata": {},
     "output_type": "execute_result"
    }
   ],
   "source": [
    "payment_df = pd.DataFrame(df['Payment_Type'].value_counts())\n",
    "payment_df"
   ]
  },
  {
   "cell_type": "code",
   "execution_count": 45,
   "id": "1a11819f",
   "metadata": {},
   "outputs": [
    {
     "data": {
      "text/plain": [
       "<AxesSubplot:ylabel='Payment_Type'>"
      ]
     },
     "execution_count": 45,
     "metadata": {},
     "output_type": "execute_result"
    },
    {
     "data": {
      "image/png": "[encoded data removed]",
      "text/plain": [
       "<Figure size 864x432 with 1 Axes>"
      ]
     },
     "metadata": {
      "needs_background": "light"
     },
     "output_type": "display_data"
    }
   ],
   "source": [
    "plt.figure(figsize = (12,6))\n",
    "sns.barplot(x =payment_df.index , y = payment_df['Payment_Type'], palette = 'hot')"
   ]
  },
  {
   "cell_type": "code",
   "execution_count": 50,
   "id": "6aff4806",
   "metadata": {},
   "outputs": [
    {
     "data": {
      "text/plain": [
       "Timestamp('2014-01-01 00:00:00')"
      ]
     },
     "execution_count": 50,
     "metadata": {},
     "output_type": "execute_result"
    }
   ],
   "source": [
    "df['Order_Date'].min()\n",
    "\n"
   ]
  },
  {
   "cell_type": "code",
   "execution_count": 51,
   "id": "b9b7a3aa",
   "metadata": {},
   "outputs": [
    {
     "data": {
      "text/plain": [
       "Timestamp('2014-12-29 00:00:00')"
      ]
     },
     "execution_count": 51,
     "metadata": {},
     "output_type": "execute_result"
    }
   ],
   "source": [
    "df['Order_Date'].max()"
   ]
  },
  {
   "cell_type": "code",
   "execution_count": 54,
   "id": "c619267d",
   "metadata": {},
   "outputs": [],
   "source": [
    "df['month_year'] = df ['Order_Date'].apply(lambda x: x.strftime('%y-%m'))"
   ]
  },
  {
   "cell_type": "code",
   "execution_count": 55,
   "id": "94f45b9c",
   "metadata": {},
   "outputs": [
    {
     "data": {
      "text/html": [
       "<div>\n",
       "<style scoped>\n",
       "    .dataframe tbody tr th:only-of-type {\n",
       "        vertical-align: middle;\n",
       "    }\n",
       "\n",
       "    .dataframe tbody tr th {\n",
       "        vertical-align: top;\n",
       "    }\n",
       "\n",
       "    .dataframe thead th {\n",
       "        text-align: right;\n",
       "    }\n",
       "</style>\n",
       "<table border=\"1\" class=\"dataframe\">\n",
       "  <thead>\n",
       "    <tr style=\"text-align: right;\">\n",
       "      <th></th>\n",
       "      <th>Order_ID</th>\n",
       "      <th>Customer_ID</th>\n",
       "      <th>ZIP/Postal Code</th>\n",
       "      <th>ShipZIP/PostalCode</th>\n",
       "      <th>Unit_Price</th>\n",
       "      <th>Quantity</th>\n",
       "      <th>Revenue</th>\n",
       "      <th>Shipping_Fee</th>\n",
       "    </tr>\n",
       "    <tr>\n",
       "      <th>month_year</th>\n",
       "      <th></th>\n",
       "      <th></th>\n",
       "      <th></th>\n",
       "      <th></th>\n",
       "      <th></th>\n",
       "      <th></th>\n",
       "      <th></th>\n",
       "      <th></th>\n",
       "    </tr>\n",
       "  </thead>\n",
       "  <tbody>\n",
       "    <tr>\n",
       "      <th>14-01</th>\n",
       "      <td>29435</td>\n",
       "      <td>328</td>\n",
       "      <td>2899971</td>\n",
       "      <td>2899971</td>\n",
       "      <td>582.57</td>\n",
       "      <td>1713.0</td>\n",
       "      <td>32907.84</td>\n",
       "      <td>3265.51293</td>\n",
       "    </tr>\n",
       "    <tr>\n",
       "      <th>14-02</th>\n",
       "      <td>20807</td>\n",
       "      <td>209</td>\n",
       "      <td>1999980</td>\n",
       "      <td>1999980</td>\n",
       "      <td>414.04</td>\n",
       "      <td>851.0</td>\n",
       "      <td>19955.50</td>\n",
       "      <td>2102.40530</td>\n",
       "    </tr>\n",
       "    <tr>\n",
       "      <th>14-03</th>\n",
       "      <td>23400</td>\n",
       "      <td>289</td>\n",
       "      <td>2199978</td>\n",
       "      <td>2199978</td>\n",
       "      <td>533.35</td>\n",
       "      <td>1251.0</td>\n",
       "      <td>30852.60</td>\n",
       "      <td>3133.40105</td>\n",
       "    </tr>\n",
       "    <tr>\n",
       "      <th>14-04</th>\n",
       "      <td>19611</td>\n",
       "      <td>184</td>\n",
       "      <td>1799982</td>\n",
       "      <td>1799982</td>\n",
       "      <td>336.73</td>\n",
       "      <td>1118.0</td>\n",
       "      <td>20771.79</td>\n",
       "      <td>2106.12766</td>\n",
       "    </tr>\n",
       "    <tr>\n",
       "      <th>14-05</th>\n",
       "      <td>36807</td>\n",
       "      <td>402</td>\n",
       "      <td>3299967</td>\n",
       "      <td>3299967</td>\n",
       "      <td>704.32</td>\n",
       "      <td>1702.0</td>\n",
       "      <td>34307.05</td>\n",
       "      <td>3453.22205</td>\n",
       "    </tr>\n",
       "    <tr>\n",
       "      <th>14-06</th>\n",
       "      <td>48788</td>\n",
       "      <td>500</td>\n",
       "      <td>4199958</td>\n",
       "      <td>4199958</td>\n",
       "      <td>943.22</td>\n",
       "      <td>2523.0</td>\n",
       "      <td>55601.61</td>\n",
       "      <td>5525.32046</td>\n",
       "    </tr>\n",
       "    <tr>\n",
       "      <th>14-07</th>\n",
       "      <td>31280</td>\n",
       "      <td>332</td>\n",
       "      <td>2599974</td>\n",
       "      <td>2599974</td>\n",
       "      <td>547.79</td>\n",
       "      <td>1309.0</td>\n",
       "      <td>27318.54</td>\n",
       "      <td>2719.93306</td>\n",
       "    </tr>\n",
       "    <tr>\n",
       "      <th>14-08</th>\n",
       "      <td>33347</td>\n",
       "      <td>350</td>\n",
       "      <td>2699973</td>\n",
       "      <td>2699973</td>\n",
       "      <td>557.12</td>\n",
       "      <td>1547.0</td>\n",
       "      <td>29921.46</td>\n",
       "      <td>3005.04304</td>\n",
       "    </tr>\n",
       "    <tr>\n",
       "      <th>14-09</th>\n",
       "      <td>31569</td>\n",
       "      <td>301</td>\n",
       "      <td>2499975</td>\n",
       "      <td>2499975</td>\n",
       "      <td>497.18</td>\n",
       "      <td>1586.0</td>\n",
       "      <td>31949.97</td>\n",
       "      <td>3242.82301</td>\n",
       "    </tr>\n",
       "    <tr>\n",
       "      <th>14-10</th>\n",
       "      <td>50814</td>\n",
       "      <td>453</td>\n",
       "      <td>3899961</td>\n",
       "      <td>3899961</td>\n",
       "      <td>834.97</td>\n",
       "      <td>2261.0</td>\n",
       "      <td>53033.59</td>\n",
       "      <td>5298.37431</td>\n",
       "    </tr>\n",
       "    <tr>\n",
       "      <th>14-11</th>\n",
       "      <td>41723</td>\n",
       "      <td>370</td>\n",
       "      <td>3099969</td>\n",
       "      <td>3099969</td>\n",
       "      <td>636.73</td>\n",
       "      <td>1526.0</td>\n",
       "      <td>31773.43</td>\n",
       "      <td>3197.87876</td>\n",
       "    </tr>\n",
       "    <tr>\n",
       "      <th>14-12</th>\n",
       "      <td>79703</td>\n",
       "      <td>686</td>\n",
       "      <td>5699943</td>\n",
       "      <td>5699943</td>\n",
       "      <td>1253.76</td>\n",
       "      <td>3205.0</td>\n",
       "      <td>66642.78</td>\n",
       "      <td>6613.05553</td>\n",
       "    </tr>\n",
       "  </tbody>\n",
       "</table>\n",
       "</div>"
      ],
      "text/plain": [
       "            Order_ID  Customer_ID  ZIP/Postal Code  ShipZIP/PostalCode  \\\n",
       "month_year                                                               \n",
       "14-01          29435          328          2899971             2899971   \n",
       "14-02          20807          209          1999980             1999980   \n",
       "14-03          23400          289          2199978             2199978   \n",
       "14-04          19611          184          1799982             1799982   \n",
       "14-05          36807          402          3299967             3299967   \n",
       "14-06          48788          500          4199958             4199958   \n",
       "14-07          31280          332          2599974             2599974   \n",
       "14-08          33347          350          2699973             2699973   \n",
       "14-09          31569          301          2499975             2499975   \n",
       "14-10          50814          453          3899961             3899961   \n",
       "14-11          41723          370          3099969             3099969   \n",
       "14-12          79703          686          5699943             5699943   \n",
       "\n",
       "            Unit_Price  Quantity   Revenue  Shipping_Fee  \n",
       "month_year                                                \n",
       "14-01           582.57    1713.0  32907.84    3265.51293  \n",
       "14-02           414.04     851.0  19955.50    2102.40530  \n",
       "14-03           533.35    1251.0  30852.60    3133.40105  \n",
       "14-04           336.73    1118.0  20771.79    2106.12766  \n",
       "14-05           704.32    1702.0  34307.05    3453.22205  \n",
       "14-06           943.22    2523.0  55601.61    5525.32046  \n",
       "14-07           547.79    1309.0  27318.54    2719.93306  \n",
       "14-08           557.12    1547.0  29921.46    3005.04304  \n",
       "14-09           497.18    1586.0  31949.97    3242.82301  \n",
       "14-10           834.97    2261.0  53033.59    5298.37431  \n",
       "14-11           636.73    1526.0  31773.43    3197.87876  \n",
       "14-12          1253.76    3205.0  66642.78    6613.05553  "
      ]
     },
     "execution_count": 55,
     "metadata": {},
     "output_type": "execute_result"
    }
   ],
   "source": [
    "df.groupby('month_year').sum()"
   ]
  },
  {
   "cell_type": "code",
   "execution_count": 58,
   "id": "150cfea6",
   "metadata": {},
   "outputs": [],
   "source": [
    "df_trend =df.groupby('month_year').sum() ['Revenue'].reset_index()"
   ]
  },
  {
   "cell_type": "code",
   "execution_count": 77,
   "id": "27863b1c",
   "metadata": {},
   "outputs": [
    {
     "data": {
      "image/png": "[encoded data removed]",
      "text/plain": [
       "<Figure size 1080x432 with 1 Axes>"
      ]
     },
     "metadata": {},
     "output_type": "display_data"
    }
   ],
   "source": [
    "plt.style.use('bmh')\n",
    "plt.figure(figsize=(15,6))\n",
    "plt.plot(df_trend['month_year'], df_trend['Revenue'] )\n",
    "plt.xticks(rotation='vertical', size=14)\n",
    "plt.xlabel('Year(2014)')\n",
    "plt.ylabel('Revenue')\n",
    "plt.title('Sales Trend')\n",
    "plt.show()"
   ]
  },
  {
   "cell_type": "code",
   "execution_count": null,
   "id": "ab728b4c",
   "metadata": {},
   "outputs": [],
   "source": []
  }
 ],
 "metadata": {
  "kernelspec": {
   "display_name": "Python 3 (ipykernel)",
   "language": "python",
   "name": "python3"
  },
  "language_info": {
   "codemirror_mode": {
    "name": "ipython",
    "version": 3
   },
   "file_extension": ".py",
   "mimetype": "text/x-python",
   "name": "python",
   "nbconvert_exporter": "python",
   "pygments_lexer": "ipython3",
   "version": "3.9.7"
  }
 },
 "nbformat": 4,
 "nbformat_minor": 5
}
