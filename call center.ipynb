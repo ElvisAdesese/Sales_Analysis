{
 "cells": [
  {
   "cell_type": "code",
   "execution_count": 1,
   "id": "d6dd8743",
   "metadata": {},
   "outputs": [],
   "source": [
    "import matplotlib.pyplot as plt\n",
    "import pandas as pd\n",
    "import numpy as np\n",
    "import seaborn as sns \n"
   ]
  },
  {
   "cell_type": "code",
   "execution_count": 2,
   "id": "67ac8909",
   "metadata": {},
   "outputs": [],
   "source": [
    "df = pd.read_excel('Call_Center.xlsx')"
   ]
  },
  {
   "cell_type": "code",
   "execution_count": 3,
   "id": "c42e4edb",
   "metadata": {},
   "outputs": [
    {
     "data": {
      "text/html": [
       "<div>\n",
       "<style scoped>\n",
       "    .dataframe tbody tr th:only-of-type {\n",
       "        vertical-align: middle;\n",
       "    }\n",
       "\n",
       "    .dataframe tbody tr th {\n",
       "        vertical-align: top;\n",
       "    }\n",
       "\n",
       "    .dataframe thead th {\n",
       "        text-align: right;\n",
       "    }\n",
       "</style>\n",
       "<table border=\"1\" class=\"dataframe\">\n",
       "  <thead>\n",
       "    <tr style=\"text-align: right;\">\n",
       "      <th></th>\n",
       "      <th>id</th>\n",
       "      <th>customer_name</th>\n",
       "      <th>sentiment</th>\n",
       "      <th>csat_score</th>\n",
       "      <th>call_timestamp</th>\n",
       "      <th>reason</th>\n",
       "      <th>city</th>\n",
       "      <th>state</th>\n",
       "      <th>channel</th>\n",
       "      <th>response_time</th>\n",
       "      <th>call_Call_duration in minutes</th>\n",
       "      <th>call_center</th>\n",
       "    </tr>\n",
       "  </thead>\n",
       "  <tbody>\n",
       "    <tr>\n",
       "      <th>0</th>\n",
       "      <td>DKK-57076809-w-055481-fU</td>\n",
       "      <td>Analise Gairdner</td>\n",
       "      <td>Neutral</td>\n",
       "      <td>7.0</td>\n",
       "      <td>44133</td>\n",
       "      <td>Billing Question</td>\n",
       "      <td>Detroit</td>\n",
       "      <td>Michigan</td>\n",
       "      <td>Call-Center</td>\n",
       "      <td>Within SLA</td>\n",
       "      <td>17</td>\n",
       "      <td>Los Angeles/CA</td>\n",
       "    </tr>\n",
       "    <tr>\n",
       "      <th>1</th>\n",
       "      <td>QGK-72219678-w-102139-KY</td>\n",
       "      <td>Crichton Kidsley</td>\n",
       "      <td>Very Positive</td>\n",
       "      <td>NaN</td>\n",
       "      <td>44109</td>\n",
       "      <td>Service Outage</td>\n",
       "      <td>Spartanburg</td>\n",
       "      <td>South Carolina</td>\n",
       "      <td>Chatbot</td>\n",
       "      <td>Within SLA</td>\n",
       "      <td>23</td>\n",
       "      <td>Baltimore/MD</td>\n",
       "    </tr>\n",
       "    <tr>\n",
       "      <th>2</th>\n",
       "      <td>GYJ-30025932-A-023015-LD</td>\n",
       "      <td>Averill Brundrett</td>\n",
       "      <td>Negative</td>\n",
       "      <td>NaN</td>\n",
       "      <td>44108</td>\n",
       "      <td>Billing Question</td>\n",
       "      <td>Gainesville</td>\n",
       "      <td>Florida</td>\n",
       "      <td>Call-Center</td>\n",
       "      <td>Above SLA</td>\n",
       "      <td>45</td>\n",
       "      <td>Los Angeles/CA</td>\n",
       "    </tr>\n",
       "    <tr>\n",
       "      <th>3</th>\n",
       "      <td>ZJI-96807559-i-620008-m7</td>\n",
       "      <td>Noreen Lafflina</td>\n",
       "      <td>Very Negative</td>\n",
       "      <td>1.0</td>\n",
       "      <td>44121</td>\n",
       "      <td>Billing Question</td>\n",
       "      <td>Portland</td>\n",
       "      <td>Oregon</td>\n",
       "      <td>Chatbot</td>\n",
       "      <td>Within SLA</td>\n",
       "      <td>12</td>\n",
       "      <td>Los Angeles/CA</td>\n",
       "    </tr>\n",
       "    <tr>\n",
       "      <th>4</th>\n",
       "      <td>DDU-69451719-O-176482-Fm</td>\n",
       "      <td>Toma Van der Beken</td>\n",
       "      <td>Very Positive</td>\n",
       "      <td>NaN</td>\n",
       "      <td>44121</td>\n",
       "      <td>Payments</td>\n",
       "      <td>Fort Wayne</td>\n",
       "      <td>Indiana</td>\n",
       "      <td>Call-Center</td>\n",
       "      <td>Within SLA</td>\n",
       "      <td>23</td>\n",
       "      <td>Los Angeles/CA</td>\n",
       "    </tr>\n",
       "    <tr>\n",
       "      <th>...</th>\n",
       "      <td>...</td>\n",
       "      <td>...</td>\n",
       "      <td>...</td>\n",
       "      <td>...</td>\n",
       "      <td>...</td>\n",
       "      <td>...</td>\n",
       "      <td>...</td>\n",
       "      <td>...</td>\n",
       "      <td>...</td>\n",
       "      <td>...</td>\n",
       "      <td>...</td>\n",
       "      <td>...</td>\n",
       "    </tr>\n",
       "    <tr>\n",
       "      <th>32936</th>\n",
       "      <td>BRM-96715111-h-155613-wO</td>\n",
       "      <td>Othelia Ouldcott</td>\n",
       "      <td>Neutral</td>\n",
       "      <td>NaN</td>\n",
       "      <td>44134</td>\n",
       "      <td>Billing Question</td>\n",
       "      <td>Oklahoma City</td>\n",
       "      <td>Oklahoma</td>\n",
       "      <td>Web</td>\n",
       "      <td>Within SLA</td>\n",
       "      <td>13</td>\n",
       "      <td>Denver/CO</td>\n",
       "    </tr>\n",
       "    <tr>\n",
       "      <th>32937</th>\n",
       "      <td>UJH-96531654-y-074703-H4</td>\n",
       "      <td>Tasha Cubbinelli</td>\n",
       "      <td>Negative</td>\n",
       "      <td>NaN</td>\n",
       "      <td>44111</td>\n",
       "      <td>Billing Question</td>\n",
       "      <td>Crawfordsville</td>\n",
       "      <td>Indiana</td>\n",
       "      <td>Chatbot</td>\n",
       "      <td>Within SLA</td>\n",
       "      <td>42</td>\n",
       "      <td>Baltimore/MD</td>\n",
       "    </tr>\n",
       "    <tr>\n",
       "      <th>32938</th>\n",
       "      <td>WDS-58440679-I-064360-TT</td>\n",
       "      <td>Margaux Slaten</td>\n",
       "      <td>Negative</td>\n",
       "      <td>NaN</td>\n",
       "      <td>44108</td>\n",
       "      <td>Billing Question</td>\n",
       "      <td>Lehigh Acres</td>\n",
       "      <td>Florida</td>\n",
       "      <td>Chatbot</td>\n",
       "      <td>Within SLA</td>\n",
       "      <td>30</td>\n",
       "      <td>Baltimore/MD</td>\n",
       "    </tr>\n",
       "    <tr>\n",
       "      <th>32939</th>\n",
       "      <td>FTZ-87704815-T-824288-iC</td>\n",
       "      <td>Odey Seed</td>\n",
       "      <td>Positive</td>\n",
       "      <td>8.0</td>\n",
       "      <td>44131</td>\n",
       "      <td>Payments</td>\n",
       "      <td>Salt Lake City</td>\n",
       "      <td>Utah</td>\n",
       "      <td>Call-Center</td>\n",
       "      <td>Within SLA</td>\n",
       "      <td>38</td>\n",
       "      <td>Baltimore/MD</td>\n",
       "    </tr>\n",
       "    <tr>\n",
       "      <th>32940</th>\n",
       "      <td>OOR-17971494-i-311571-PR</td>\n",
       "      <td>Mozelle Berlin</td>\n",
       "      <td>Negative</td>\n",
       "      <td>NaN</td>\n",
       "      <td>44134</td>\n",
       "      <td>Billing Question</td>\n",
       "      <td>Phoenix</td>\n",
       "      <td>Arizona</td>\n",
       "      <td>Call-Center</td>\n",
       "      <td>Within SLA</td>\n",
       "      <td>23</td>\n",
       "      <td>Baltimore/MD</td>\n",
       "    </tr>\n",
       "  </tbody>\n",
       "</table>\n",
       "<p>32941 rows × 12 columns</p>\n",
       "</div>"
      ],
      "text/plain": [
       "                             id       customer_name      sentiment  \\\n",
       "0      DKK-57076809-w-055481-fU    Analise Gairdner        Neutral   \n",
       "1      QGK-72219678-w-102139-KY    Crichton Kidsley  Very Positive   \n",
       "2      GYJ-30025932-A-023015-LD   Averill Brundrett       Negative   \n",
       "3      ZJI-96807559-i-620008-m7     Noreen Lafflina  Very Negative   \n",
       "4      DDU-69451719-O-176482-Fm  Toma Van der Beken  Very Positive   \n",
       "...                         ...                 ...            ...   \n",
       "32936  BRM-96715111-h-155613-wO    Othelia Ouldcott        Neutral   \n",
       "32937  UJH-96531654-y-074703-H4    Tasha Cubbinelli       Negative   \n",
       "32938  WDS-58440679-I-064360-TT      Margaux Slaten       Negative   \n",
       "32939  FTZ-87704815-T-824288-iC           Odey Seed       Positive   \n",
       "32940  OOR-17971494-i-311571-PR      Mozelle Berlin       Negative   \n",
       "\n",
       "       csat_score  call_timestamp            reason            city  \\\n",
       "0             7.0           44133  Billing Question         Detroit   \n",
       "1             NaN           44109    Service Outage     Spartanburg   \n",
       "2             NaN           44108  Billing Question     Gainesville   \n",
       "3             1.0           44121  Billing Question        Portland   \n",
       "4             NaN           44121          Payments      Fort Wayne   \n",
       "...           ...             ...               ...             ...   \n",
       "32936         NaN           44134  Billing Question   Oklahoma City   \n",
       "32937         NaN           44111  Billing Question  Crawfordsville   \n",
       "32938         NaN           44108  Billing Question    Lehigh Acres   \n",
       "32939         8.0           44131          Payments  Salt Lake City   \n",
       "32940         NaN           44134  Billing Question         Phoenix   \n",
       "\n",
       "                state      channel response_time  \\\n",
       "0            Michigan  Call-Center    Within SLA   \n",
       "1      South Carolina      Chatbot    Within SLA   \n",
       "2             Florida  Call-Center     Above SLA   \n",
       "3              Oregon      Chatbot    Within SLA   \n",
       "4             Indiana  Call-Center    Within SLA   \n",
       "...               ...          ...           ...   \n",
       "32936        Oklahoma          Web    Within SLA   \n",
       "32937         Indiana      Chatbot    Within SLA   \n",
       "32938         Florida      Chatbot    Within SLA   \n",
       "32939            Utah  Call-Center    Within SLA   \n",
       "32940         Arizona  Call-Center    Within SLA   \n",
       "\n",
       "       call_Call_duration in minutes     call_center  \n",
       "0                                 17  Los Angeles/CA  \n",
       "1                                 23    Baltimore/MD  \n",
       "2                                 45  Los Angeles/CA  \n",
       "3                                 12  Los Angeles/CA  \n",
       "4                                 23  Los Angeles/CA  \n",
       "...                              ...             ...  \n",
       "32936                             13       Denver/CO  \n",
       "32937                             42    Baltimore/MD  \n",
       "32938                             30    Baltimore/MD  \n",
       "32939                             38    Baltimore/MD  \n",
       "32940                             23    Baltimore/MD  \n",
       "\n",
       "[32941 rows x 12 columns]"
      ]
     },
     "execution_count": 3,
     "metadata": {},
     "output_type": "execute_result"
    }
   ],
   "source": [
    "df"
   ]
  },
  {
   "cell_type": "code",
   "execution_count": 4,
   "id": "57407396",
   "metadata": {},
   "outputs": [
    {
     "name": "stdout",
     "output_type": "stream",
     "text": [
      "<class 'pandas.core.frame.DataFrame'>\n",
      "RangeIndex: 32941 entries, 0 to 32940\n",
      "Data columns (total 12 columns):\n",
      " #   Column                         Non-Null Count  Dtype  \n",
      "---  ------                         --------------  -----  \n",
      " 0   id                             32941 non-null  object \n",
      " 1   customer_name                  32941 non-null  object \n",
      " 2   sentiment                      32941 non-null  object \n",
      " 3   csat_score                     12271 non-null  float64\n",
      " 4   call_timestamp                 32941 non-null  int64  \n",
      " 5   reason                         32941 non-null  object \n",
      " 6   city                           32941 non-null  object \n",
      " 7   state                          32941 non-null  object \n",
      " 8   channel                        32941 non-null  object \n",
      " 9   response_time                  32941 non-null  object \n",
      " 10  call_Call_duration in minutes  32941 non-null  int64  \n",
      " 11  call_center                    32941 non-null  object \n",
      "dtypes: float64(1), int64(2), object(9)\n",
      "memory usage: 3.0+ MB\n"
     ]
    }
   ],
   "source": [
    "df.info()"
   ]
  },
  {
   "cell_type": "code",
   "execution_count": 5,
   "id": "57f5eae3",
   "metadata": {},
   "outputs": [
    {
     "data": {
      "text/html": [
       "<div>\n",
       "<style scoped>\n",
       "    .dataframe tbody tr th:only-of-type {\n",
       "        vertical-align: middle;\n",
       "    }\n",
       "\n",
       "    .dataframe tbody tr th {\n",
       "        vertical-align: top;\n",
       "    }\n",
       "\n",
       "    .dataframe thead th {\n",
       "        text-align: right;\n",
       "    }\n",
       "</style>\n",
       "<table border=\"1\" class=\"dataframe\">\n",
       "  <thead>\n",
       "    <tr style=\"text-align: right;\">\n",
       "      <th></th>\n",
       "      <th>csat_score</th>\n",
       "      <th>call_timestamp</th>\n",
       "      <th>call_Call_duration in minutes</th>\n",
       "    </tr>\n",
       "  </thead>\n",
       "  <tbody>\n",
       "    <tr>\n",
       "      <th>count</th>\n",
       "      <td>12271.000000</td>\n",
       "      <td>32941.000000</td>\n",
       "      <td>32941.000000</td>\n",
       "    </tr>\n",
       "    <tr>\n",
       "      <th>mean</th>\n",
       "      <td>5.548448</td>\n",
       "      <td>44119.535594</td>\n",
       "      <td>25.021159</td>\n",
       "    </tr>\n",
       "    <tr>\n",
       "      <th>std</th>\n",
       "      <td>2.371059</td>\n",
       "      <td>8.626046</td>\n",
       "      <td>11.816218</td>\n",
       "    </tr>\n",
       "    <tr>\n",
       "      <th>min</th>\n",
       "      <td>1.000000</td>\n",
       "      <td>44105.000000</td>\n",
       "      <td>5.000000</td>\n",
       "    </tr>\n",
       "    <tr>\n",
       "      <th>25%</th>\n",
       "      <td>4.000000</td>\n",
       "      <td>44112.000000</td>\n",
       "      <td>15.000000</td>\n",
       "    </tr>\n",
       "    <tr>\n",
       "      <th>50%</th>\n",
       "      <td>5.000000</td>\n",
       "      <td>44120.000000</td>\n",
       "      <td>25.000000</td>\n",
       "    </tr>\n",
       "    <tr>\n",
       "      <th>75%</th>\n",
       "      <td>7.000000</td>\n",
       "      <td>44127.000000</td>\n",
       "      <td>35.000000</td>\n",
       "    </tr>\n",
       "    <tr>\n",
       "      <th>max</th>\n",
       "      <td>10.000000</td>\n",
       "      <td>44135.000000</td>\n",
       "      <td>45.000000</td>\n",
       "    </tr>\n",
       "  </tbody>\n",
       "</table>\n",
       "</div>"
      ],
      "text/plain": [
       "         csat_score  call_timestamp  call_Call_duration in minutes\n",
       "count  12271.000000    32941.000000                   32941.000000\n",
       "mean       5.548448    44119.535594                      25.021159\n",
       "std        2.371059        8.626046                      11.816218\n",
       "min        1.000000    44105.000000                       5.000000\n",
       "25%        4.000000    44112.000000                      15.000000\n",
       "50%        5.000000    44120.000000                      25.000000\n",
       "75%        7.000000    44127.000000                      35.000000\n",
       "max       10.000000    44135.000000                      45.000000"
      ]
     },
     "execution_count": 5,
     "metadata": {},
     "output_type": "execute_result"
    }
   ],
   "source": [
    "df.describe()"
   ]
  },
  {
   "cell_type": "code",
   "execution_count": 6,
   "id": "fa9111ca",
   "metadata": {},
   "outputs": [
    {
     "data": {
      "text/plain": [
       "Index(['id', 'customer_name', 'sentiment', 'csat_score', 'call_timestamp',\n",
       "       'reason', 'city', 'state', 'channel', 'response_time',\n",
       "       'call_Call_duration in minutes', 'call_center'],\n",
       "      dtype='object')"
      ]
     },
     "execution_count": 6,
     "metadata": {},
     "output_type": "execute_result"
    }
   ],
   "source": [
    "df.columns "
   ]
  },
  {
   "cell_type": "code",
   "execution_count": 7,
   "id": "71fd2c87",
   "metadata": {},
   "outputs": [
    {
     "data": {
      "text/plain": [
       "id                                   0\n",
       "customer_name                        0\n",
       "sentiment                            0\n",
       "csat_score                       20670\n",
       "call_timestamp                       0\n",
       "reason                               0\n",
       "city                                 0\n",
       "state                                0\n",
       "channel                              0\n",
       "response_time                        0\n",
       "call_Call_duration in minutes        0\n",
       "call_center                          0\n",
       "dtype: int64"
      ]
     },
     "execution_count": 7,
     "metadata": {},
     "output_type": "execute_result"
    }
   ],
   "source": [
    "df.isnull().sum()"
   ]
  },
  {
   "cell_type": "markdown",
   "id": "2aeaf266",
   "metadata": {},
   "source": [
    "# Data Exploration"
   ]
  },
  {
   "cell_type": "code",
   "execution_count": 9,
   "id": "4b35ce77",
   "metadata": {},
   "outputs": [
    {
     "data": {
      "text/plain": [
       "Billing Question    23462\n",
       "Payments             4749\n",
       "Service Outage       4730\n",
       "Name: reason, dtype: int64"
      ]
     },
     "execution_count": 9,
     "metadata": {},
     "output_type": "execute_result"
    }
   ],
   "source": [
    "df['reason'].value_counts()"
   ]
  },
  {
   "cell_type": "code",
   "execution_count": 15,
   "id": "879a4d39",
   "metadata": {},
   "outputs": [
    {
     "name": "stderr",
     "output_type": "stream",
     "text": [
      "C:\\Users\\USER\\anaconda3\\lib\\site-packages\\seaborn\\_decorators.py:36: FutureWarning: Pass the following variable as a keyword arg: x. From version 0.12, the only valid positional argument will be `data`, and passing other arguments without an explicit keyword will result in an error or misinterpretation.\n",
      "  warnings.warn(\n"
     ]
    },
    {
     "data": {
      "text/plain": [
       "Text(0.5, 1.0, 'Reasons for Contacting the CRs')"
      ]
     },
     "execution_count": 15,
     "metadata": {},
     "output_type": "execute_result"
    },
    {
     "data": {
      "image/png": "[encoded data removed]",
      "text/plain": [
       "<Figure size 864x324 with 1 Axes>"
      ]
     },
     "metadata": {
      "needs_background": "light"
     },
     "output_type": "display_data"
    }
   ],
   "source": [
    "plt.figure(figsize=(12,4.5))\n",
    "sns.countplot('reason', data=df)\n",
    "plt.xticks(rotation=45,size=14)\n",
    "plt.title('Reasons for Contacting the CRs')"
   ]
  },
  {
   "cell_type": "code",
   "execution_count": 16,
   "id": "d6b65cc7",
   "metadata": {},
   "outputs": [
    {
     "data": {
      "text/plain": [
       "Negative         11063\n",
       "Neutral           8754\n",
       "Very Negative     6026\n",
       "Positive          3928\n",
       "Very Positive     3170\n",
       "Name: sentiment, dtype: int64"
      ]
     },
     "execution_count": 16,
     "metadata": {},
     "output_type": "execute_result"
    }
   ],
   "source": [
    "df['sentiment'].value_counts()"
   ]
  },
  {
   "cell_type": "code",
   "execution_count": 20,
   "id": "40a0fc42",
   "metadata": {},
   "outputs": [
    {
     "name": "stderr",
     "output_type": "stream",
     "text": [
      "C:\\Users\\USER\\anaconda3\\lib\\site-packages\\seaborn\\_decorators.py:36: FutureWarning: Pass the following variable as a keyword arg: x. From version 0.12, the only valid positional argument will be `data`, and passing other arguments without an explicit keyword will result in an error or misinterpretation.\n",
      "  warnings.warn(\n"
     ]
    },
    {
     "data": {
      "text/plain": [
       "Text(0.5, 1.0, 'Customers Feed Back')"
      ]
     },
     "execution_count": 20,
     "metadata": {},
     "output_type": "execute_result"
    },
    {
     "data": {
      "image/png": "[encoded data removed]",
      "text/plain": [
       "<Figure size 864x324 with 1 Axes>"
      ]
     },
     "metadata": {
      "needs_background": "light"
     },
     "output_type": "display_data"
    }
   ],
   "source": [
    "plt.figure(figsize=(12,4.5))\n",
    "sns.countplot('sentiment', data=df)\n",
    "plt.xticks(size=14)\n",
    "plt.title('Customers Feed Back')"
   ]
  },
  {
   "cell_type": "code",
   "execution_count": 59,
   "id": "5c3ee09e",
   "metadata": {},
   "outputs": [
    {
     "data": {
      "image/png": "[encoded data removed]",
      "text/plain": [
       "<Figure size 864x432 with 1 Axes>"
      ]
     },
     "metadata": {},
     "output_type": "display_data"
    }
   ],
   "source": [
    "plt.figure(figsize=(12,6))\n",
    "plt.style.use('bmh')\n",
    "slices=[11063,8754,6026,3928,3170]\n",
    "explode= [0.3,0,0,0,0.2]\n",
    "labels=['Negative ','Neutral','Very Negative','Positive','Very Positive']\n",
    "plt.pie(slices, labels=labels,explode=explode,radius= 1.1, shadow=True,autopct='%1.1f%%')\n",
    "plt.title('Customers Feed Back')\n",
    "plt.xticks(size=14)\n",
    "plt.show()"
   ]
  },
  {
   "cell_type": "code",
   "execution_count": 24,
   "id": "95f82b35",
   "metadata": {},
   "outputs": [
    {
     "data": {
      "text/plain": [
       "Call-Center    10639\n",
       "Chatbot         8256\n",
       "Email           7470\n",
       "Web             6576\n",
       "Name: channel, dtype: int64"
      ]
     },
     "execution_count": 24,
     "metadata": {},
     "output_type": "execute_result"
    }
   ],
   "source": [
    "df['channel'].value_counts()"
   ]
  },
  {
   "cell_type": "code",
   "execution_count": 26,
   "id": "bcaec8e4",
   "metadata": {},
   "outputs": [],
   "source": [
    "channel_df = pd.DataFrame(df['channel'].value_counts()) "
   ]
  },
  {
   "cell_type": "code",
   "execution_count": 27,
   "id": "e55369aa",
   "metadata": {},
   "outputs": [
    {
     "data": {
      "text/html": [
       "<div>\n",
       "<style scoped>\n",
       "    .dataframe tbody tr th:only-of-type {\n",
       "        vertical-align: middle;\n",
       "    }\n",
       "\n",
       "    .dataframe tbody tr th {\n",
       "        vertical-align: top;\n",
       "    }\n",
       "\n",
       "    .dataframe thead th {\n",
       "        text-align: right;\n",
       "    }\n",
       "</style>\n",
       "<table border=\"1\" class=\"dataframe\">\n",
       "  <thead>\n",
       "    <tr style=\"text-align: right;\">\n",
       "      <th></th>\n",
       "      <th>channel</th>\n",
       "    </tr>\n",
       "  </thead>\n",
       "  <tbody>\n",
       "    <tr>\n",
       "      <th>Call-Center</th>\n",
       "      <td>10639</td>\n",
       "    </tr>\n",
       "    <tr>\n",
       "      <th>Chatbot</th>\n",
       "      <td>8256</td>\n",
       "    </tr>\n",
       "    <tr>\n",
       "      <th>Email</th>\n",
       "      <td>7470</td>\n",
       "    </tr>\n",
       "    <tr>\n",
       "      <th>Web</th>\n",
       "      <td>6576</td>\n",
       "    </tr>\n",
       "  </tbody>\n",
       "</table>\n",
       "</div>"
      ],
      "text/plain": [
       "             channel\n",
       "Call-Center    10639\n",
       "Chatbot         8256\n",
       "Email           7470\n",
       "Web             6576"
      ]
     },
     "execution_count": 27,
     "metadata": {},
     "output_type": "execute_result"
    }
   ],
   "source": [
    "channel_df"
   ]
  },
  {
   "cell_type": "code",
   "execution_count": 45,
   "id": "89f412af",
   "metadata": {},
   "outputs": [
    {
     "data": {
      "text/plain": [
       "Text(0.5, 1.0, 'Most used Contact Channel')"
      ]
     },
     "execution_count": 45,
     "metadata": {},
     "output_type": "execute_result"
    },
    {
     "data": {
      "text/plain": [
       "<Figure size 864x432 with 0 Axes>"
      ]
     },
     "metadata": {},
     "output_type": "display_data"
    },
    {
     "data": {
      "image/png": "[encoded data removed]",
      "text/plain": [
       "<Figure size 864x432 with 1 Axes>"
      ]
     },
     "metadata": {},
     "output_type": "display_data"
    }
   ],
   "source": [
    "plt.figure(figsize=(12,6))\n",
    "plt.style.use('bmh')\n",
    "plt.figure(figsize = (12,6))\n",
    "sns.barplot(x =channel_df.index , y = channel_df['channel'])\n",
    "plt.xticks(size=14)\n",
    "plt.title('Most used Contact Channel')"
   ]
  },
  {
   "cell_type": "code",
   "execution_count": 35,
   "id": "fd231763",
   "metadata": {},
   "outputs": [
    {
     "data": {
      "text/plain": [
       "Los Angeles/CA    13734\n",
       "Baltimore/MD      11012\n",
       "Chicago/IL         5419\n",
       "Denver/CO          2776\n",
       "Name: call_center, dtype: int64"
      ]
     },
     "execution_count": 35,
     "metadata": {},
     "output_type": "execute_result"
    }
   ],
   "source": [
    "df['call_center'].value_counts()"
   ]
  },
  {
   "cell_type": "code",
   "execution_count": 36,
   "id": "406e5911",
   "metadata": {},
   "outputs": [
    {
     "data": {
      "text/html": [
       "<div>\n",
       "<style scoped>\n",
       "    .dataframe tbody tr th:only-of-type {\n",
       "        vertical-align: middle;\n",
       "    }\n",
       "\n",
       "    .dataframe tbody tr th {\n",
       "        vertical-align: top;\n",
       "    }\n",
       "\n",
       "    .dataframe thead th {\n",
       "        text-align: right;\n",
       "    }\n",
       "</style>\n",
       "<table border=\"1\" class=\"dataframe\">\n",
       "  <thead>\n",
       "    <tr style=\"text-align: right;\">\n",
       "      <th></th>\n",
       "      <th>call_center</th>\n",
       "    </tr>\n",
       "  </thead>\n",
       "  <tbody>\n",
       "    <tr>\n",
       "      <th>Los Angeles/CA</th>\n",
       "      <td>13734</td>\n",
       "    </tr>\n",
       "    <tr>\n",
       "      <th>Baltimore/MD</th>\n",
       "      <td>11012</td>\n",
       "    </tr>\n",
       "    <tr>\n",
       "      <th>Chicago/IL</th>\n",
       "      <td>5419</td>\n",
       "    </tr>\n",
       "    <tr>\n",
       "      <th>Denver/CO</th>\n",
       "      <td>2776</td>\n",
       "    </tr>\n",
       "  </tbody>\n",
       "</table>\n",
       "</div>"
      ],
      "text/plain": [
       "                call_center\n",
       "Los Angeles/CA        13734\n",
       "Baltimore/MD          11012\n",
       "Chicago/IL             5419\n",
       "Denver/CO              2776"
      ]
     },
     "execution_count": 36,
     "metadata": {},
     "output_type": "execute_result"
    }
   ],
   "source": [
    "call_center_df = pd.DataFrame(df['call_center'].value_counts())\n",
    "call_center_df"
   ]
  },
  {
   "cell_type": "code",
   "execution_count": 47,
   "id": "5203a299",
   "metadata": {
    "scrolled": true
   },
   "outputs": [
    {
     "data": {
      "text/plain": [
       "Text(0.5, 1.0, 'Location of Call Centers with the most Calls')"
      ]
     },
     "execution_count": 47,
     "metadata": {},
     "output_type": "execute_result"
    },
    {
     "data": {
      "image/png": "[encoded data removed]",
      "text/plain": [
       "<Figure size 864x432 with 1 Axes>"
      ]
     },
     "metadata": {},
     "output_type": "display_data"
    }
   ],
   "source": [
    "plt.figure(figsize = (12,6))\n",
    "sns.barplot(x =call_center_df.index , y = call_center_df['call_center'], palette = 'hot')\n",
    "plt.xticks(size=14)\n",
    "plt.title('Location of Call Centers with the most Calls')"
   ]
  },
  {
   "cell_type": "code",
   "execution_count": 49,
   "id": "735fa3af",
   "metadata": {},
   "outputs": [],
   "source": [
    "df['call_timestamp'] = pd.to_datetime(df['call_timestamp'])"
   ]
  },
  {
   "cell_type": "code",
   "execution_count": 50,
   "id": "d7195046",
   "metadata": {},
   "outputs": [
    {
     "data": {
      "text/plain": [
       "id                                       object\n",
       "customer_name                            object\n",
       "sentiment                                object\n",
       "csat_score                              float64\n",
       "call_timestamp                   datetime64[ns]\n",
       "reason                                   object\n",
       "city                                     object\n",
       "state                                    object\n",
       "channel                                  object\n",
       "response_time                            object\n",
       "call_Call_duration in minutes             int64\n",
       "call_center                              object\n",
       "dtype: object"
      ]
     },
     "execution_count": 50,
     "metadata": {},
     "output_type": "execute_result"
    }
   ],
   "source": [
    "df.dtypes"
   ]
  },
  {
   "cell_type": "code",
   "execution_count": null,
   "id": "174adb4b",
   "metadata": {},
   "outputs": [],
   "source": []
  }
 ],
 "metadata": {
  "kernelspec": {
   "display_name": "Python 3 (ipykernel)",
   "language": "python",
   "name": "python3"
  },
  "language_info": {
   "codemirror_mode": {
    "name": "ipython",
    "version": 3
   },
   "file_extension": ".py",
   "mimetype": "text/x-python",
   "name": "python",
   "nbconvert_exporter": "python",
   "pygments_lexer": "ipython3",
   "version": "3.9.7"
  }
 },
 "nbformat": 4,
 "nbformat_minor": 5
}
