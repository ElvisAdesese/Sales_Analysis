{
 "cells": [
  {
   "cell_type": "code",
   "execution_count": 49,
   "id": "a02ade52",
   "metadata": {},
   "outputs": [],
   "source": [
    "import pandas as pd\n",
    "import matplotlib.pyplot as plt\n",
    "%matplotlib inline\n",
    "import numpy as np\n",
    "import warnings \n",
    "import seaborn as sns"
   ]
  },
  {
   "cell_type": "code",
   "execution_count": 2,
   "id": "90db00c0",
   "metadata": {},
   "outputs": [],
   "source": [
    "df = pd.read_csv('Call.csv')"
   ]
  },
  {
   "cell_type": "code",
   "execution_count": 3,
   "id": "caae4f07",
   "metadata": {},
   "outputs": [
    {
     "data": {
      "text/html": [
       "<div>\n",
       "<style scoped>\n",
       "    .dataframe tbody tr th:only-of-type {\n",
       "        vertical-align: middle;\n",
       "    }\n",
       "\n",
       "    .dataframe tbody tr th {\n",
       "        vertical-align: top;\n",
       "    }\n",
       "\n",
       "    .dataframe thead th {\n",
       "        text-align: right;\n",
       "    }\n",
       "</style>\n",
       "<table border=\"1\" class=\"dataframe\">\n",
       "  <thead>\n",
       "    <tr style=\"text-align: right;\">\n",
       "      <th></th>\n",
       "      <th>id</th>\n",
       "      <th>customer_name</th>\n",
       "      <th>sentiment</th>\n",
       "      <th>csat_score</th>\n",
       "      <th>call_timestamp</th>\n",
       "      <th>reason</th>\n",
       "      <th>city</th>\n",
       "      <th>state</th>\n",
       "      <th>channel</th>\n",
       "      <th>response_time</th>\n",
       "      <th>call_Call_duration in minutes</th>\n",
       "      <th>call_center</th>\n",
       "    </tr>\n",
       "  </thead>\n",
       "  <tbody>\n",
       "    <tr>\n",
       "      <th>0</th>\n",
       "      <td>DKK-57076809-w-055481-fU</td>\n",
       "      <td>Analise Gairdner</td>\n",
       "      <td>Neutral</td>\n",
       "      <td>7.0</td>\n",
       "      <td>10/29/2020</td>\n",
       "      <td>Billing Question</td>\n",
       "      <td>Detroit</td>\n",
       "      <td>Michigan</td>\n",
       "      <td>Call-Center</td>\n",
       "      <td>Within SLA</td>\n",
       "      <td>17</td>\n",
       "      <td>Los Angeles/CA</td>\n",
       "    </tr>\n",
       "    <tr>\n",
       "      <th>1</th>\n",
       "      <td>QGK-72219678-w-102139-KY</td>\n",
       "      <td>Crichton Kidsley</td>\n",
       "      <td>Very Positive</td>\n",
       "      <td>NaN</td>\n",
       "      <td>10/5/2020</td>\n",
       "      <td>Service Outage</td>\n",
       "      <td>Spartanburg</td>\n",
       "      <td>South Carolina</td>\n",
       "      <td>Chatbot</td>\n",
       "      <td>Within SLA</td>\n",
       "      <td>23</td>\n",
       "      <td>Baltimore/MD</td>\n",
       "    </tr>\n",
       "    <tr>\n",
       "      <th>2</th>\n",
       "      <td>GYJ-30025932-A-023015-LD</td>\n",
       "      <td>Averill Brundrett</td>\n",
       "      <td>Negative</td>\n",
       "      <td>NaN</td>\n",
       "      <td>10/4/2020</td>\n",
       "      <td>Billing Question</td>\n",
       "      <td>Gainesville</td>\n",
       "      <td>Florida</td>\n",
       "      <td>Call-Center</td>\n",
       "      <td>Above SLA</td>\n",
       "      <td>45</td>\n",
       "      <td>Los Angeles/CA</td>\n",
       "    </tr>\n",
       "    <tr>\n",
       "      <th>3</th>\n",
       "      <td>ZJI-96807559-i-620008-m7</td>\n",
       "      <td>Noreen Lafflina</td>\n",
       "      <td>Very Negative</td>\n",
       "      <td>1.0</td>\n",
       "      <td>10/17/2020</td>\n",
       "      <td>Billing Question</td>\n",
       "      <td>Portland</td>\n",
       "      <td>Oregon</td>\n",
       "      <td>Chatbot</td>\n",
       "      <td>Within SLA</td>\n",
       "      <td>12</td>\n",
       "      <td>Los Angeles/CA</td>\n",
       "    </tr>\n",
       "    <tr>\n",
       "      <th>4</th>\n",
       "      <td>DDU-69451719-O-176482-Fm</td>\n",
       "      <td>Toma Van der Beken</td>\n",
       "      <td>Very Positive</td>\n",
       "      <td>NaN</td>\n",
       "      <td>10/17/2020</td>\n",
       "      <td>Payments</td>\n",
       "      <td>Fort Wayne</td>\n",
       "      <td>Indiana</td>\n",
       "      <td>Call-Center</td>\n",
       "      <td>Within SLA</td>\n",
       "      <td>23</td>\n",
       "      <td>Los Angeles/CA</td>\n",
       "    </tr>\n",
       "  </tbody>\n",
       "</table>\n",
       "</div>"
      ],
      "text/plain": [
       "                         id       customer_name      sentiment  csat_score  \\\n",
       "0  DKK-57076809-w-055481-fU    Analise Gairdner        Neutral         7.0   \n",
       "1  QGK-72219678-w-102139-KY    Crichton Kidsley  Very Positive         NaN   \n",
       "2  GYJ-30025932-A-023015-LD   Averill Brundrett       Negative         NaN   \n",
       "3  ZJI-96807559-i-620008-m7     Noreen Lafflina  Very Negative         1.0   \n",
       "4  DDU-69451719-O-176482-Fm  Toma Van der Beken  Very Positive         NaN   \n",
       "\n",
       "  call_timestamp            reason         city           state      channel  \\\n",
       "0     10/29/2020  Billing Question      Detroit        Michigan  Call-Center   \n",
       "1      10/5/2020    Service Outage  Spartanburg  South Carolina      Chatbot   \n",
       "2      10/4/2020  Billing Question  Gainesville         Florida  Call-Center   \n",
       "3     10/17/2020  Billing Question     Portland          Oregon      Chatbot   \n",
       "4     10/17/2020          Payments   Fort Wayne         Indiana  Call-Center   \n",
       "\n",
       "  response_time  call_Call_duration in minutes     call_center  \n",
       "0    Within SLA                             17  Los Angeles/CA  \n",
       "1    Within SLA                             23    Baltimore/MD  \n",
       "2     Above SLA                             45  Los Angeles/CA  \n",
       "3    Within SLA                             12  Los Angeles/CA  \n",
       "4    Within SLA                             23  Los Angeles/CA  "
      ]
     },
     "execution_count": 3,
     "metadata": {},
     "output_type": "execute_result"
    }
   ],
   "source": [
    "df.head()"
   ]
  },
  {
   "cell_type": "code",
   "execution_count": 4,
   "id": "2c33162b",
   "metadata": {},
   "outputs": [
    {
     "data": {
      "text/plain": [
       "0        7.0\n",
       "1        NaN\n",
       "2        NaN\n",
       "3        1.0\n",
       "4        NaN\n",
       "        ... \n",
       "32936    NaN\n",
       "32937    NaN\n",
       "32938    NaN\n",
       "32939    8.0\n",
       "32940    NaN\n",
       "Name: csat_score, Length: 32941, dtype: float64"
      ]
     },
     "execution_count": 4,
     "metadata": {},
     "output_type": "execute_result"
    }
   ],
   "source": [
    "df.csat_score"
   ]
  },
  {
   "cell_type": "code",
   "execution_count": 5,
   "id": "182c6f7b",
   "metadata": {},
   "outputs": [
    {
     "data": {
      "text/plain": [
       "5.0"
      ]
     },
     "execution_count": 5,
     "metadata": {},
     "output_type": "execute_result"
    }
   ],
   "source": [
    "\n",
    "df.csat_score.median()"
   ]
  },
  {
   "cell_type": "code",
   "execution_count": 6,
   "id": "fb701926",
   "metadata": {},
   "outputs": [
    {
     "data": {
      "text/html": [
       "<div>\n",
       "<style scoped>\n",
       "    .dataframe tbody tr th:only-of-type {\n",
       "        vertical-align: middle;\n",
       "    }\n",
       "\n",
       "    .dataframe tbody tr th {\n",
       "        vertical-align: top;\n",
       "    }\n",
       "\n",
       "    .dataframe thead th {\n",
       "        text-align: right;\n",
       "    }\n",
       "</style>\n",
       "<table border=\"1\" class=\"dataframe\">\n",
       "  <thead>\n",
       "    <tr style=\"text-align: right;\">\n",
       "      <th></th>\n",
       "      <th>id</th>\n",
       "      <th>customer_name</th>\n",
       "      <th>sentiment</th>\n",
       "      <th>csat_score</th>\n",
       "      <th>call_timestamp</th>\n",
       "      <th>reason</th>\n",
       "      <th>city</th>\n",
       "      <th>state</th>\n",
       "      <th>channel</th>\n",
       "      <th>response_time</th>\n",
       "      <th>call_Call_duration in minutes</th>\n",
       "      <th>call_center</th>\n",
       "    </tr>\n",
       "  </thead>\n",
       "  <tbody>\n",
       "    <tr>\n",
       "      <th>0</th>\n",
       "      <td>DKK-57076809-w-055481-fU</td>\n",
       "      <td>Analise Gairdner</td>\n",
       "      <td>Neutral</td>\n",
       "      <td>7.0</td>\n",
       "      <td>10/29/2020</td>\n",
       "      <td>Billing Question</td>\n",
       "      <td>Detroit</td>\n",
       "      <td>Michigan</td>\n",
       "      <td>Call-Center</td>\n",
       "      <td>Within SLA</td>\n",
       "      <td>17</td>\n",
       "      <td>Los Angeles/CA</td>\n",
       "    </tr>\n",
       "    <tr>\n",
       "      <th>1</th>\n",
       "      <td>QGK-72219678-w-102139-KY</td>\n",
       "      <td>Crichton Kidsley</td>\n",
       "      <td>Very Positive</td>\n",
       "      <td>5.0</td>\n",
       "      <td>10/5/2020</td>\n",
       "      <td>Service Outage</td>\n",
       "      <td>Spartanburg</td>\n",
       "      <td>South Carolina</td>\n",
       "      <td>Chatbot</td>\n",
       "      <td>Within SLA</td>\n",
       "      <td>23</td>\n",
       "      <td>Baltimore/MD</td>\n",
       "    </tr>\n",
       "    <tr>\n",
       "      <th>2</th>\n",
       "      <td>GYJ-30025932-A-023015-LD</td>\n",
       "      <td>Averill Brundrett</td>\n",
       "      <td>Negative</td>\n",
       "      <td>5.0</td>\n",
       "      <td>10/4/2020</td>\n",
       "      <td>Billing Question</td>\n",
       "      <td>Gainesville</td>\n",
       "      <td>Florida</td>\n",
       "      <td>Call-Center</td>\n",
       "      <td>Above SLA</td>\n",
       "      <td>45</td>\n",
       "      <td>Los Angeles/CA</td>\n",
       "    </tr>\n",
       "    <tr>\n",
       "      <th>3</th>\n",
       "      <td>ZJI-96807559-i-620008-m7</td>\n",
       "      <td>Noreen Lafflina</td>\n",
       "      <td>Very Negative</td>\n",
       "      <td>1.0</td>\n",
       "      <td>10/17/2020</td>\n",
       "      <td>Billing Question</td>\n",
       "      <td>Portland</td>\n",
       "      <td>Oregon</td>\n",
       "      <td>Chatbot</td>\n",
       "      <td>Within SLA</td>\n",
       "      <td>12</td>\n",
       "      <td>Los Angeles/CA</td>\n",
       "    </tr>\n",
       "    <tr>\n",
       "      <th>4</th>\n",
       "      <td>DDU-69451719-O-176482-Fm</td>\n",
       "      <td>Toma Van der Beken</td>\n",
       "      <td>Very Positive</td>\n",
       "      <td>5.0</td>\n",
       "      <td>10/17/2020</td>\n",
       "      <td>Payments</td>\n",
       "      <td>Fort Wayne</td>\n",
       "      <td>Indiana</td>\n",
       "      <td>Call-Center</td>\n",
       "      <td>Within SLA</td>\n",
       "      <td>23</td>\n",
       "      <td>Los Angeles/CA</td>\n",
       "    </tr>\n",
       "  </tbody>\n",
       "</table>\n",
       "</div>"
      ],
      "text/plain": [
       "                         id       customer_name      sentiment  csat_score  \\\n",
       "0  DKK-57076809-w-055481-fU    Analise Gairdner        Neutral         7.0   \n",
       "1  QGK-72219678-w-102139-KY    Crichton Kidsley  Very Positive         5.0   \n",
       "2  GYJ-30025932-A-023015-LD   Averill Brundrett       Negative         5.0   \n",
       "3  ZJI-96807559-i-620008-m7     Noreen Lafflina  Very Negative         1.0   \n",
       "4  DDU-69451719-O-176482-Fm  Toma Van der Beken  Very Positive         5.0   \n",
       "\n",
       "  call_timestamp            reason         city           state      channel  \\\n",
       "0     10/29/2020  Billing Question      Detroit        Michigan  Call-Center   \n",
       "1      10/5/2020    Service Outage  Spartanburg  South Carolina      Chatbot   \n",
       "2      10/4/2020  Billing Question  Gainesville         Florida  Call-Center   \n",
       "3     10/17/2020  Billing Question     Portland          Oregon      Chatbot   \n",
       "4     10/17/2020          Payments   Fort Wayne         Indiana  Call-Center   \n",
       "\n",
       "  response_time  call_Call_duration in minutes     call_center  \n",
       "0    Within SLA                             17  Los Angeles/CA  \n",
       "1    Within SLA                             23    Baltimore/MD  \n",
       "2     Above SLA                             45  Los Angeles/CA  \n",
       "3    Within SLA                             12  Los Angeles/CA  \n",
       "4    Within SLA                             23  Los Angeles/CA  "
      ]
     },
     "execution_count": 6,
     "metadata": {},
     "output_type": "execute_result"
    }
   ],
   "source": [
    "#Data Preprocessing filling in nan with median values\n",
    "df.csat_score = df.csat_score.fillna(df.csat_score.median())\n",
    "df.head()"
   ]
  },
  {
   "cell_type": "code",
   "execution_count": 7,
   "id": "6280d7f5",
   "metadata": {},
   "outputs": [
    {
     "name": "stdout",
     "output_type": "stream",
     "text": [
      "<class 'pandas.core.frame.DataFrame'>\n",
      "RangeIndex: 32941 entries, 0 to 32940\n",
      "Data columns (total 12 columns):\n",
      " #   Column                         Non-Null Count  Dtype  \n",
      "---  ------                         --------------  -----  \n",
      " 0   id                             32941 non-null  object \n",
      " 1   customer_name                  32941 non-null  object \n",
      " 2   sentiment                      32941 non-null  object \n",
      " 3   csat_score                     32941 non-null  float64\n",
      " 4   call_timestamp                 32941 non-null  object \n",
      " 5   reason                         32941 non-null  object \n",
      " 6   city                           32941 non-null  object \n",
      " 7   state                          32941 non-null  object \n",
      " 8   channel                        32941 non-null  object \n",
      " 9   response_time                  32941 non-null  object \n",
      " 10  call_Call_duration in minutes  32941 non-null  int64  \n",
      " 11  call_center                    32941 non-null  object \n",
      "dtypes: float64(1), int64(1), object(10)\n",
      "memory usage: 3.0+ MB\n"
     ]
    }
   ],
   "source": [
    "df.info()"
   ]
  },
  {
   "cell_type": "code",
   "execution_count": 8,
   "id": "3644cb3e",
   "metadata": {},
   "outputs": [
    {
     "data": {
      "text/plain": [
       "Index(['id', 'customer_name', 'sentiment', 'csat_score', 'call_timestamp',\n",
       "       'reason', 'city', 'state', 'channel', 'response_time',\n",
       "       'call_Call_duration in minutes', 'call_center'],\n",
       "      dtype='object')"
      ]
     },
     "execution_count": 8,
     "metadata": {},
     "output_type": "execute_result"
    }
   ],
   "source": [
    "df.columns"
   ]
  },
  {
   "cell_type": "code",
   "execution_count": 9,
   "id": "4685d09e",
   "metadata": {},
   "outputs": [
    {
     "data": {
      "text/html": [
       "<div>\n",
       "<style scoped>\n",
       "    .dataframe tbody tr th:only-of-type {\n",
       "        vertical-align: middle;\n",
       "    }\n",
       "\n",
       "    .dataframe tbody tr th {\n",
       "        vertical-align: top;\n",
       "    }\n",
       "\n",
       "    .dataframe thead th {\n",
       "        text-align: right;\n",
       "    }\n",
       "</style>\n",
       "<table border=\"1\" class=\"dataframe\">\n",
       "  <thead>\n",
       "    <tr style=\"text-align: right;\">\n",
       "      <th></th>\n",
       "      <th>csat_score</th>\n",
       "      <th>call_Call_duration in minutes</th>\n",
       "    </tr>\n",
       "  </thead>\n",
       "  <tbody>\n",
       "    <tr>\n",
       "      <th>count</th>\n",
       "      <td>32941.000000</td>\n",
       "      <td>32941.000000</td>\n",
       "    </tr>\n",
       "    <tr>\n",
       "      <th>mean</th>\n",
       "      <td>5.204305</td>\n",
       "      <td>25.021159</td>\n",
       "    </tr>\n",
       "    <tr>\n",
       "      <th>std</th>\n",
       "      <td>1.471207</td>\n",
       "      <td>11.816218</td>\n",
       "    </tr>\n",
       "    <tr>\n",
       "      <th>min</th>\n",
       "      <td>1.000000</td>\n",
       "      <td>5.000000</td>\n",
       "    </tr>\n",
       "    <tr>\n",
       "      <th>25%</th>\n",
       "      <td>5.000000</td>\n",
       "      <td>15.000000</td>\n",
       "    </tr>\n",
       "    <tr>\n",
       "      <th>50%</th>\n",
       "      <td>5.000000</td>\n",
       "      <td>25.000000</td>\n",
       "    </tr>\n",
       "    <tr>\n",
       "      <th>75%</th>\n",
       "      <td>5.000000</td>\n",
       "      <td>35.000000</td>\n",
       "    </tr>\n",
       "    <tr>\n",
       "      <th>max</th>\n",
       "      <td>10.000000</td>\n",
       "      <td>45.000000</td>\n",
       "    </tr>\n",
       "  </tbody>\n",
       "</table>\n",
       "</div>"
      ],
      "text/plain": [
       "         csat_score  call_Call_duration in minutes\n",
       "count  32941.000000                   32941.000000\n",
       "mean       5.204305                      25.021159\n",
       "std        1.471207                      11.816218\n",
       "min        1.000000                       5.000000\n",
       "25%        5.000000                      15.000000\n",
       "50%        5.000000                      25.000000\n",
       "75%        5.000000                      35.000000\n",
       "max       10.000000                      45.000000"
      ]
     },
     "execution_count": 9,
     "metadata": {},
     "output_type": "execute_result"
    }
   ],
   "source": [
    "#Checking the stats\n",
    "df.describe()"
   ]
  },
  {
   "cell_type": "code",
   "execution_count": 10,
   "id": "5cfcb8ac",
   "metadata": {},
   "outputs": [
    {
     "data": {
      "text/plain": [
       "(32941, 12)"
      ]
     },
     "execution_count": 10,
     "metadata": {},
     "output_type": "execute_result"
    }
   ],
   "source": [
    "df.shape"
   ]
  },
  {
   "cell_type": "code",
   "execution_count": 11,
   "id": "02ac4e40",
   "metadata": {},
   "outputs": [
    {
     "data": {
      "text/plain": [
       "id                               0\n",
       "customer_name                    0\n",
       "sentiment                        0\n",
       "csat_score                       0\n",
       "call_timestamp                   0\n",
       "reason                           0\n",
       "city                             0\n",
       "state                            0\n",
       "channel                          0\n",
       "response_time                    0\n",
       "call_Call_duration in minutes    0\n",
       "call_center                      0\n",
       "dtype: int64"
      ]
     },
     "execution_count": 11,
     "metadata": {},
     "output_type": "execute_result"
    }
   ],
   "source": [
    "df.isnull().sum()"
   ]
  },
  {
   "cell_type": "markdown",
   "id": "43ebacad",
   "metadata": {},
   "source": [
    "# * The major reason for reaching out to the customer service team\n",
    "*Billing questions were the major reasons"
   ]
  },
  {
   "cell_type": "code",
   "execution_count": 50,
   "id": "89aa5a0c",
   "metadata": {},
   "outputs": [
    {
     "data": {
      "text/html": [
       "<style type=\"text/css\">\n",
       "#T_779d4_row0_col0, #T_779d4_row0_col1, #T_779d4_row0_col2, #T_779d4_row0_col3, #T_779d4_row0_col4 {\n",
       "  background-color: #00441b;\n",
       "  color: #f1f1f1;\n",
       "}\n",
       "#T_779d4_row1_col0, #T_779d4_row1_col1, #T_779d4_row1_col2, #T_779d4_row2_col0, #T_779d4_row2_col3, #T_779d4_row2_col4 {\n",
       "  background-color: #f7fcf5;\n",
       "  color: #000000;\n",
       "}\n",
       "#T_779d4_row1_col3, #T_779d4_row2_col2 {\n",
       "  background-color: #f4fbf2;\n",
       "  color: #000000;\n",
       "}\n",
       "#T_779d4_row1_col4 {\n",
       "  background-color: #f3faf0;\n",
       "  color: #000000;\n",
       "}\n",
       "#T_779d4_row2_col1 {\n",
       "  background-color: #f6fcf4;\n",
       "  color: #000000;\n",
       "}\n",
       "</style>\n",
       "<table id=\"T_779d4_\">\n",
       "  <thead>\n",
       "    <tr>\n",
       "      <th class=\"index_name level0\" >sentiment</th>\n",
       "      <th class=\"col_heading level0 col0\" >Negative</th>\n",
       "      <th class=\"col_heading level0 col1\" >Neutral</th>\n",
       "      <th class=\"col_heading level0 col2\" >Positive</th>\n",
       "      <th class=\"col_heading level0 col3\" >Very Negative</th>\n",
       "      <th class=\"col_heading level0 col4\" >Very Positive</th>\n",
       "    </tr>\n",
       "    <tr>\n",
       "      <th class=\"index_name level0\" >reason</th>\n",
       "      <th class=\"blank col0\" >&nbsp;</th>\n",
       "      <th class=\"blank col1\" >&nbsp;</th>\n",
       "      <th class=\"blank col2\" >&nbsp;</th>\n",
       "      <th class=\"blank col3\" >&nbsp;</th>\n",
       "      <th class=\"blank col4\" >&nbsp;</th>\n",
       "    </tr>\n",
       "  </thead>\n",
       "  <tbody>\n",
       "    <tr>\n",
       "      <th id=\"T_779d4_level0_row0\" class=\"row_heading level0 row0\" >Billing Question</th>\n",
       "      <td id=\"T_779d4_row0_col0\" class=\"data row0 col0\" >7868</td>\n",
       "      <td id=\"T_779d4_row0_col1\" class=\"data row0 col1\" >6232</td>\n",
       "      <td id=\"T_779d4_row0_col2\" class=\"data row0 col2\" >2775</td>\n",
       "      <td id=\"T_779d4_row0_col3\" class=\"data row0 col3\" >4300</td>\n",
       "      <td id=\"T_779d4_row0_col4\" class=\"data row0 col4\" >2287</td>\n",
       "    </tr>\n",
       "    <tr>\n",
       "      <th id=\"T_779d4_level0_row1\" class=\"row_heading level0 row1\" >Payments</th>\n",
       "      <td id=\"T_779d4_row1_col0\" class=\"data row1 col0\" >1593</td>\n",
       "      <td id=\"T_779d4_row1_col1\" class=\"data row1 col1\" >1238</td>\n",
       "      <td id=\"T_779d4_row1_col2\" class=\"data row1 col2\" >552</td>\n",
       "      <td id=\"T_779d4_row1_col3\" class=\"data row1 col3\" >897</td>\n",
       "      <td id=\"T_779d4_row1_col4\" class=\"data row1 col4\" >469</td>\n",
       "    </tr>\n",
       "    <tr>\n",
       "      <th id=\"T_779d4_level0_row2\" class=\"row_heading level0 row2\" >Service Outage</th>\n",
       "      <td id=\"T_779d4_row2_col0\" class=\"data row2 col0\" >1602</td>\n",
       "      <td id=\"T_779d4_row2_col1\" class=\"data row2 col1\" >1284</td>\n",
       "      <td id=\"T_779d4_row2_col2\" class=\"data row2 col2\" >601</td>\n",
       "      <td id=\"T_779d4_row2_col3\" class=\"data row2 col3\" >829</td>\n",
       "      <td id=\"T_779d4_row2_col4\" class=\"data row2 col4\" >414</td>\n",
       "    </tr>\n",
       "  </tbody>\n",
       "</table>\n"
      ],
      "text/plain": [
       "<pandas.io.formats.style.Styler at 0x23e774b57f0>"
      ]
     },
     "execution_count": 50,
     "metadata": {},
     "output_type": "execute_result"
    }
   ],
   "source": [
    "df_1= df.pivot_table(index='reason', columns='sentiment', aggfunc='size')\n",
    "df_1.style.background_gradient('Greens')"
   ]
  },
  {
   "cell_type": "markdown",
   "id": "43d83972",
   "metadata": {},
   "source": [
    "# Does Response Time Influnce the Customers satisfaction Score?"
   ]
  },
  {
   "cell_type": "code",
   "execution_count": 14,
   "id": "2dff2efc",
   "metadata": {},
   "outputs": [
    {
     "data": {
      "image/png": "[encoded data removed]",
      "text/plain": [
       "<Figure size 489.6x525.6 with 1 Axes>"
      ]
     },
     "metadata": {},
     "output_type": "display_data"
    }
   ],
   "source": [
    "#How many subscriber per level?\n",
    "plt.figure(figsize = (6.8,7.3))\n",
    "\n",
    "#df.groupby('level')['num_subscribers'].sum().plot(kind='pie', autopct='%1.1f%%')\n",
    "#plt.show()\n",
    "df.groupby('response_time')['csat_score'].sum().plot(kind='pie', autopct='%1.1f%%', title='Does Response Time Influnce the Customers satisfaction Score')\n",
    "plt.show()"
   ]
  },
  {
   "cell_type": "markdown",
   "id": "1edeecb0",
   "metadata": {},
   "source": [
    "# Does the Customer's sentiment influence the customer's satisfacton score ?*\n",
    "\n",
    "* From the csat score, it shows that customers with Nagative Sentiment gave a higher rating than those with [Positive] and [Very Positive] Sentiment.\n",
    "* Probably the reason for the high rating in the neagtive sentiment was due to the effectivness of the Customer Service team"
   ]
  },
  {
   "cell_type": "code",
   "execution_count": 15,
   "id": "0fc8d751",
   "metadata": {},
   "outputs": [
    {
     "data": {
      "text/html": [
       "<div>\n",
       "<style scoped>\n",
       "    .dataframe tbody tr th:only-of-type {\n",
       "        vertical-align: middle;\n",
       "    }\n",
       "\n",
       "    .dataframe tbody tr th {\n",
       "        vertical-align: top;\n",
       "    }\n",
       "\n",
       "    .dataframe thead th {\n",
       "        text-align: right;\n",
       "    }\n",
       "</style>\n",
       "<table border=\"1\" class=\"dataframe\">\n",
       "  <thead>\n",
       "    <tr style=\"text-align: right;\">\n",
       "      <th></th>\n",
       "      <th>csat_score</th>\n",
       "    </tr>\n",
       "    <tr>\n",
       "      <th>sentiment</th>\n",
       "      <th></th>\n",
       "    </tr>\n",
       "  </thead>\n",
       "  <tbody>\n",
       "    <tr>\n",
       "      <th>Negative</th>\n",
       "      <td>53386.0</td>\n",
       "    </tr>\n",
       "    <tr>\n",
       "      <th>Neutral</th>\n",
       "      <td>48578.0</td>\n",
       "    </tr>\n",
       "    <tr>\n",
       "      <th>Very Negative</th>\n",
       "      <td>24343.0</td>\n",
       "    </tr>\n",
       "    <tr>\n",
       "      <th>Positive</th>\n",
       "      <td>24106.0</td>\n",
       "    </tr>\n",
       "    <tr>\n",
       "      <th>Very Positive</th>\n",
       "      <td>21022.0</td>\n",
       "    </tr>\n",
       "  </tbody>\n",
       "</table>\n",
       "</div>"
      ],
      "text/plain": [
       "               csat_score\n",
       "sentiment                \n",
       "Negative          53386.0\n",
       "Neutral           48578.0\n",
       "Very Negative     24343.0\n",
       "Positive          24106.0\n",
       "Very Positive     21022.0"
      ]
     },
     "execution_count": 15,
     "metadata": {},
     "output_type": "execute_result"
    }
   ],
   "source": [
    "#From the csat score, it shows that customers with Nagative Sentiment gave a higher rating than those with \n",
    "#[Positive] and [Very Positive] Sentiment.\n",
    "\n",
    "#Probably the reason for the high rating in the neagtive sentiment was due to the effectivness of the Customer Service team\n",
    "sentiment_score_df = pd.DataFrame(df.groupby('sentiment').sum()['csat_score'])\n",
    "sentiment_score_df.sort_values ('csat_score', ascending=False) "
   ]
  },
  {
   "cell_type": "code",
   "execution_count": 16,
   "id": "44aa9cc4",
   "metadata": {},
   "outputs": [
    {
     "data": {
      "text/html": [
       "<div>\n",
       "<style scoped>\n",
       "    .dataframe tbody tr th:only-of-type {\n",
       "        vertical-align: middle;\n",
       "    }\n",
       "\n",
       "    .dataframe tbody tr th {\n",
       "        vertical-align: top;\n",
       "    }\n",
       "\n",
       "    .dataframe thead th {\n",
       "        text-align: right;\n",
       "    }\n",
       "</style>\n",
       "<table border=\"1\" class=\"dataframe\">\n",
       "  <thead>\n",
       "    <tr style=\"text-align: right;\">\n",
       "      <th></th>\n",
       "      <th>csat_score</th>\n",
       "    </tr>\n",
       "    <tr>\n",
       "      <th>sentiment</th>\n",
       "      <th></th>\n",
       "    </tr>\n",
       "  </thead>\n",
       "  <tbody>\n",
       "    <tr>\n",
       "      <th>Negative</th>\n",
       "      <td>53386.0</td>\n",
       "    </tr>\n",
       "    <tr>\n",
       "      <th>Neutral</th>\n",
       "      <td>48578.0</td>\n",
       "    </tr>\n",
       "    <tr>\n",
       "      <th>Very Negative</th>\n",
       "      <td>24343.0</td>\n",
       "    </tr>\n",
       "    <tr>\n",
       "      <th>Positive</th>\n",
       "      <td>24106.0</td>\n",
       "    </tr>\n",
       "    <tr>\n",
       "      <th>Very Positive</th>\n",
       "      <td>21022.0</td>\n",
       "    </tr>\n",
       "  </tbody>\n",
       "</table>\n",
       "</div>"
      ],
      "text/plain": [
       "               csat_score\n",
       "sentiment                \n",
       "Negative          53386.0\n",
       "Neutral           48578.0\n",
       "Very Negative     24343.0\n",
       "Positive          24106.0\n",
       "Very Positive     21022.0"
      ]
     },
     "execution_count": 16,
     "metadata": {},
     "output_type": "execute_result"
    }
   ],
   "source": [
    "#From the csat score, it shows that customers with Nagative Sentiment gave a higher rating than those with \n",
    "#[Positive] and [Very Positive] Sentiment.\n",
    "\n",
    "#Probably the reason for the high rating in the neagtive sentiment was due to the effectivness of the Customer Service team\n",
    "sentiment_score_df = pd.DataFrame(df.groupby('sentiment').sum()['csat_score'])\n",
    "sentiment_score_df.sort_values ('csat_score', ascending=False) "
   ]
  },
  {
   "cell_type": "code",
   "execution_count": 18,
   "id": "1210b0cb",
   "metadata": {},
   "outputs": [
    {
     "data": {
      "text/plain": [
       "[]"
      ]
     },
     "execution_count": 18,
     "metadata": {},
     "output_type": "execute_result"
    },
    {
     "data": {
      "image/png": "[encoded data removed]",
      "text/plain": [
       "<Figure size 432x288 with 1 Axes>"
      ]
     },
     "metadata": {
      "needs_background": "light"
     },
     "output_type": "display_data"
    }
   ],
   "source": [
    "sentiment_score_df = pd.DataFrame(df.groupby('sentiment').sum()['csat_score'])\n",
    "sentiment_score_df.sort_values ('csat_score', ascending=False) .plot(kind='barh', title='Does the Customers sentiment influence the satisfacton score', color='#453f37')\n",
    "plt.plot()"
   ]
  },
  {
   "cell_type": "markdown",
   "id": "c7104c9c",
   "metadata": {},
   "source": [
    "# Does Sentiments Trigger call Duration?\n"
   ]
  },
  {
   "cell_type": "code",
   "execution_count": 19,
   "id": "5c79a8a1",
   "metadata": {},
   "outputs": [
    {
     "data": {
      "text/html": [
       "<div>\n",
       "<style scoped>\n",
       "    .dataframe tbody tr th:only-of-type {\n",
       "        vertical-align: middle;\n",
       "    }\n",
       "\n",
       "    .dataframe tbody tr th {\n",
       "        vertical-align: top;\n",
       "    }\n",
       "\n",
       "    .dataframe thead th {\n",
       "        text-align: right;\n",
       "    }\n",
       "</style>\n",
       "<table border=\"1\" class=\"dataframe\">\n",
       "  <thead>\n",
       "    <tr style=\"text-align: right;\">\n",
       "      <th></th>\n",
       "      <th>call_Call_duration in minutes</th>\n",
       "    </tr>\n",
       "    <tr>\n",
       "      <th>sentiment</th>\n",
       "      <th></th>\n",
       "    </tr>\n",
       "  </thead>\n",
       "  <tbody>\n",
       "    <tr>\n",
       "      <th>Negative</th>\n",
       "      <td>279471</td>\n",
       "    </tr>\n",
       "    <tr>\n",
       "      <th>Neutral</th>\n",
       "      <td>218323</td>\n",
       "    </tr>\n",
       "    <tr>\n",
       "      <th>Very Negative</th>\n",
       "      <td>150283</td>\n",
       "    </tr>\n",
       "    <tr>\n",
       "      <th>Positive</th>\n",
       "      <td>97658</td>\n",
       "    </tr>\n",
       "    <tr>\n",
       "      <th>Very Positive</th>\n",
       "      <td>78487</td>\n",
       "    </tr>\n",
       "  </tbody>\n",
       "</table>\n",
       "</div>"
      ],
      "text/plain": [
       "               call_Call_duration in minutes\n",
       "sentiment                                   \n",
       "Negative                              279471\n",
       "Neutral                               218323\n",
       "Very Negative                         150283\n",
       "Positive                               97658\n",
       "Very Positive                          78487"
      ]
     },
     "execution_count": 19,
     "metadata": {},
     "output_type": "execute_result"
    }
   ],
   "source": [
    "#Looking at the progression below, it shows that customers with [Negative] \n",
    "#sentiment had a higher call duration than people with [postive] and [very postive] sentiment.\n",
    "sentiment_call_df = pd.DataFrame(df.groupby('sentiment').sum()['call_Call_duration in minutes'])\n",
    "sentiment_call_df.sort_values ('call_Call_duration in minutes', ascending=False)"
   ]
  },
  {
   "cell_type": "code",
   "execution_count": 20,
   "id": "9c0ca5d0",
   "metadata": {},
   "outputs": [
    {
     "data": {
      "image/png": "[encoded data removed]",
      "text/plain": [
       "<Figure size 432x288 with 1 Axes>"
      ]
     },
     "metadata": {
      "needs_background": "light"
     },
     "output_type": "display_data"
    }
   ],
   "source": [
    "sentiment_call_df = pd.DataFrame(df.groupby('sentiment').sum()['call_Call_duration in minutes'])\n",
    "sentiment_call_df.sort_values ('call_Call_duration in minutes', ascending=False).plot(kind='bar', title='Does Sentiments Trigger call Duration?', color='#2e6660')\n",
    "plt.show()"
   ]
  },
  {
   "cell_type": "markdown",
   "id": "c59956e4",
   "metadata": {},
   "source": [
    "# Location of Contact centers that received the most negative sentiment from customers \n",
    "* Los Angeles /CA was the Highest"
   ]
  },
  {
   "cell_type": "code",
   "execution_count": 21,
   "id": "1feec739",
   "metadata": {},
   "outputs": [
    {
     "data": {
      "image/png": "[encoded data removed]",
      "text/plain": [
       "<Figure size 432x288 with 1 Axes>"
      ]
     },
     "metadata": {
      "needs_background": "light"
     },
     "output_type": "display_data"
    }
   ],
   "source": [
    "#Location of Contact centers that received the most negative sentiment from customers \n",
    "df[df['sentiment']== 'Negative'].call_center.value_counts().plot(kind='barh', color='#413b5c')\n",
    "plt.xticks(rotation='vertical', size=10)\n",
    "plt.show()"
   ]
  },
  {
   "cell_type": "markdown",
   "id": "6b137180",
   "metadata": {},
   "source": [
    "#  Channels through which Customers reached out to the Contact center Team*\n",
    "* Calls from the Call-Centre had the highest Traffic\n",
    "* The least was the web"
   ]
  },
  {
   "cell_type": "code",
   "execution_count": 22,
   "id": "d1ab0ce5",
   "metadata": {},
   "outputs": [
    {
     "data": {
      "text/plain": [
       "Call-Center    0.322971\n",
       "Chatbot        0.250630\n",
       "Email          0.226769\n",
       "Web            0.199630\n",
       "Name: channel, dtype: float64"
      ]
     },
     "execution_count": 22,
     "metadata": {},
     "output_type": "execute_result"
    }
   ],
   "source": [
    "df['channel'].value_counts(normalize='True')"
   ]
  },
  {
   "cell_type": "markdown",
   "id": "769aa66e",
   "metadata": {},
   "source": [
    "# Does Duration of calls have an effect on Customer Staisfaction Rating"
   ]
  },
  {
   "cell_type": "code",
   "execution_count": 26,
   "id": "6b3522aa",
   "metadata": {},
   "outputs": [
    {
     "data": {
      "image/png": "[encoded data removed]",
      "text/plain": [
       "<Figure size 864x432 with 1 Axes>"
      ]
     },
     "metadata": {
      "needs_background": "light"
     },
     "output_type": "display_data"
    }
   ],
   "source": [
    "## Does Duration of calls have an effect on Customer Staisfaction Survey\n",
    "duration_call_df =pd.DataFrame(df.groupby('call_Call_duration in minutes').sum()['csat_score']).plot(figsize = [12,6])\n",
    "plt.xlabel('Call Duration')\n",
    "plt.ylabel('Customer Satisfaction Score')\n",
    "plt.title('Does Duration of calls have an effect on Customer Staisfaction Rating')\n",
    "plt.xticks(rotation='vertical', size=10)\n",
    "plt.show()\n"
   ]
  },
  {
   "cell_type": "code",
   "execution_count": 27,
   "id": "b522ead7",
   "metadata": {},
   "outputs": [
    {
     "data": {
      "text/html": [
       "<div>\n",
       "<style scoped>\n",
       "    .dataframe tbody tr th:only-of-type {\n",
       "        vertical-align: middle;\n",
       "    }\n",
       "\n",
       "    .dataframe tbody tr th {\n",
       "        vertical-align: top;\n",
       "    }\n",
       "\n",
       "    .dataframe thead th {\n",
       "        text-align: right;\n",
       "    }\n",
       "</style>\n",
       "<table border=\"1\" class=\"dataframe\">\n",
       "  <thead>\n",
       "    <tr style=\"text-align: right;\">\n",
       "      <th></th>\n",
       "      <th>csat_score</th>\n",
       "    </tr>\n",
       "    <tr>\n",
       "      <th>call_Call_duration in minutes</th>\n",
       "      <th></th>\n",
       "    </tr>\n",
       "  </thead>\n",
       "  <tbody>\n",
       "    <tr>\n",
       "      <th>5</th>\n",
       "      <td>4207.0</td>\n",
       "    </tr>\n",
       "    <tr>\n",
       "      <th>6</th>\n",
       "      <td>4235.0</td>\n",
       "    </tr>\n",
       "    <tr>\n",
       "      <th>7</th>\n",
       "      <td>4202.0</td>\n",
       "    </tr>\n",
       "    <tr>\n",
       "      <th>8</th>\n",
       "      <td>4068.0</td>\n",
       "    </tr>\n",
       "    <tr>\n",
       "      <th>9</th>\n",
       "      <td>4052.0</td>\n",
       "    </tr>\n",
       "  </tbody>\n",
       "</table>\n",
       "</div>"
      ],
      "text/plain": [
       "                               csat_score\n",
       "call_Call_duration in minutes            \n",
       "5                                  4207.0\n",
       "6                                  4235.0\n",
       "7                                  4202.0\n",
       "8                                  4068.0\n",
       "9                                  4052.0"
      ]
     },
     "execution_count": 27,
     "metadata": {},
     "output_type": "execute_result"
    }
   ],
   "source": [
    "pd.DataFrame(df.groupby('call_Call_duration in minutes').sum()['csat_score']).head()"
   ]
  },
  {
   "cell_type": "markdown",
   "id": "00a07518",
   "metadata": {},
   "source": [
    "# filter that dataframe and create seperate tables of customers that that experessed different sentiements  "
   ]
  },
  {
   "cell_type": "code",
   "execution_count": 30,
   "id": "2cf184cf",
   "metadata": {},
   "outputs": [],
   "source": [
    "#Customer #Customer Who had negative Sentiments\n",
    "Negative =df[(df.sentiment== 'Negative')]"
   ]
  },
  {
   "cell_type": "code",
   "execution_count": 32,
   "id": "fd329d07",
   "metadata": {},
   "outputs": [],
   "source": [
    "Negative=Negative[['customer_name','sentiment','reason']]"
   ]
  },
  {
   "cell_type": "code",
   "execution_count": 33,
   "id": "a4d01de2",
   "metadata": {},
   "outputs": [
    {
     "data": {
      "text/html": [
       "<div>\n",
       "<style scoped>\n",
       "    .dataframe tbody tr th:only-of-type {\n",
       "        vertical-align: middle;\n",
       "    }\n",
       "\n",
       "    .dataframe tbody tr th {\n",
       "        vertical-align: top;\n",
       "    }\n",
       "\n",
       "    .dataframe thead th {\n",
       "        text-align: right;\n",
       "    }\n",
       "</style>\n",
       "<table border=\"1\" class=\"dataframe\">\n",
       "  <thead>\n",
       "    <tr style=\"text-align: right;\">\n",
       "      <th></th>\n",
       "      <th>customer_name</th>\n",
       "      <th>sentiment</th>\n",
       "      <th>reason</th>\n",
       "    </tr>\n",
       "  </thead>\n",
       "  <tbody>\n",
       "    <tr>\n",
       "      <th>2</th>\n",
       "      <td>Averill Brundrett</td>\n",
       "      <td>Negative</td>\n",
       "      <td>Billing Question</td>\n",
       "    </tr>\n",
       "    <tr>\n",
       "      <th>10</th>\n",
       "      <td>Ella Cristoforo</td>\n",
       "      <td>Negative</td>\n",
       "      <td>Billing Question</td>\n",
       "    </tr>\n",
       "    <tr>\n",
       "      <th>11</th>\n",
       "      <td>Aubrey Surcombe</td>\n",
       "      <td>Negative</td>\n",
       "      <td>Billing Question</td>\n",
       "    </tr>\n",
       "    <tr>\n",
       "      <th>15</th>\n",
       "      <td>Dani Stanfield</td>\n",
       "      <td>Negative</td>\n",
       "      <td>Billing Question</td>\n",
       "    </tr>\n",
       "    <tr>\n",
       "      <th>16</th>\n",
       "      <td>Margarette Jehaes</td>\n",
       "      <td>Negative</td>\n",
       "      <td>Billing Question</td>\n",
       "    </tr>\n",
       "  </tbody>\n",
       "</table>\n",
       "</div>"
      ],
      "text/plain": [
       "        customer_name sentiment            reason\n",
       "2   Averill Brundrett  Negative  Billing Question\n",
       "10    Ella Cristoforo  Negative  Billing Question\n",
       "11    Aubrey Surcombe  Negative  Billing Question\n",
       "15     Dani Stanfield  Negative  Billing Question\n",
       "16  Margarette Jehaes  Negative  Billing Question"
      ]
     },
     "execution_count": 33,
     "metadata": {},
     "output_type": "execute_result"
    }
   ],
   "source": [
    "Negative.head()"
   ]
  },
  {
   "cell_type": "code",
   "execution_count": 34,
   "id": "ec85a2f9",
   "metadata": {},
   "outputs": [],
   "source": [
    "#Customer Who had a Neutral Sentiments\n",
    "Neutral =df[(df.sentiment== 'Neutral')]"
   ]
  },
  {
   "cell_type": "code",
   "execution_count": 35,
   "id": "00c0c88c",
   "metadata": {},
   "outputs": [],
   "source": [
    "Neutral=Neutral[['customer_name','sentiment','reason']]"
   ]
  },
  {
   "cell_type": "code",
   "execution_count": 36,
   "id": "a5d8ac58",
   "metadata": {},
   "outputs": [
    {
     "data": {
      "text/html": [
       "<div>\n",
       "<style scoped>\n",
       "    .dataframe tbody tr th:only-of-type {\n",
       "        vertical-align: middle;\n",
       "    }\n",
       "\n",
       "    .dataframe tbody tr th {\n",
       "        vertical-align: top;\n",
       "    }\n",
       "\n",
       "    .dataframe thead th {\n",
       "        text-align: right;\n",
       "    }\n",
       "</style>\n",
       "<table border=\"1\" class=\"dataframe\">\n",
       "  <thead>\n",
       "    <tr style=\"text-align: right;\">\n",
       "      <th></th>\n",
       "      <th>customer_name</th>\n",
       "      <th>sentiment</th>\n",
       "      <th>reason</th>\n",
       "    </tr>\n",
       "  </thead>\n",
       "  <tbody>\n",
       "    <tr>\n",
       "      <th>0</th>\n",
       "      <td>Analise Gairdner</td>\n",
       "      <td>Neutral</td>\n",
       "      <td>Billing Question</td>\n",
       "    </tr>\n",
       "    <tr>\n",
       "      <th>5</th>\n",
       "      <td>Kaylyn Emlen</td>\n",
       "      <td>Neutral</td>\n",
       "      <td>Billing Question</td>\n",
       "    </tr>\n",
       "    <tr>\n",
       "      <th>6</th>\n",
       "      <td>Phillipe Bowring</td>\n",
       "      <td>Neutral</td>\n",
       "      <td>Billing Question</td>\n",
       "    </tr>\n",
       "    <tr>\n",
       "      <th>9</th>\n",
       "      <td>Port Inggall</td>\n",
       "      <td>Neutral</td>\n",
       "      <td>Billing Question</td>\n",
       "    </tr>\n",
       "    <tr>\n",
       "      <th>17</th>\n",
       "      <td>Noni Greatrakes</td>\n",
       "      <td>Neutral</td>\n",
       "      <td>Billing Question</td>\n",
       "    </tr>\n",
       "  </tbody>\n",
       "</table>\n",
       "</div>"
      ],
      "text/plain": [
       "       customer_name sentiment            reason\n",
       "0   Analise Gairdner   Neutral  Billing Question\n",
       "5       Kaylyn Emlen   Neutral  Billing Question\n",
       "6   Phillipe Bowring   Neutral  Billing Question\n",
       "9       Port Inggall   Neutral  Billing Question\n",
       "17   Noni Greatrakes   Neutral  Billing Question"
      ]
     },
     "execution_count": 36,
     "metadata": {},
     "output_type": "execute_result"
    }
   ],
   "source": [
    "Neutral.head()"
   ]
  },
  {
   "cell_type": "code",
   "execution_count": 37,
   "id": "b392b083",
   "metadata": {},
   "outputs": [],
   "source": [
    "#Customer Who had a Very Negative Sentiments\n",
    "Very_Negative =df[(df.sentiment== 'Very Negative')]"
   ]
  },
  {
   "cell_type": "code",
   "execution_count": 38,
   "id": "7185b8f1",
   "metadata": {},
   "outputs": [],
   "source": [
    "Very_Negative=Very_Negative[['customer_name','sentiment','reason']]"
   ]
  },
  {
   "cell_type": "code",
   "execution_count": 39,
   "id": "db013131",
   "metadata": {},
   "outputs": [
    {
     "data": {
      "text/html": [
       "<div>\n",
       "<style scoped>\n",
       "    .dataframe tbody tr th:only-of-type {\n",
       "        vertical-align: middle;\n",
       "    }\n",
       "\n",
       "    .dataframe tbody tr th {\n",
       "        vertical-align: top;\n",
       "    }\n",
       "\n",
       "    .dataframe thead th {\n",
       "        text-align: right;\n",
       "    }\n",
       "</style>\n",
       "<table border=\"1\" class=\"dataframe\">\n",
       "  <thead>\n",
       "    <tr style=\"text-align: right;\">\n",
       "      <th></th>\n",
       "      <th>customer_name</th>\n",
       "      <th>sentiment</th>\n",
       "      <th>reason</th>\n",
       "    </tr>\n",
       "  </thead>\n",
       "  <tbody>\n",
       "    <tr>\n",
       "      <th>3</th>\n",
       "      <td>Noreen Lafflina</td>\n",
       "      <td>Very Negative</td>\n",
       "      <td>Billing Question</td>\n",
       "    </tr>\n",
       "    <tr>\n",
       "      <th>8</th>\n",
       "      <td>Oran Lifsey</td>\n",
       "      <td>Very Negative</td>\n",
       "      <td>Billing Question</td>\n",
       "    </tr>\n",
       "    <tr>\n",
       "      <th>14</th>\n",
       "      <td>Odell Cathesyed</td>\n",
       "      <td>Very Negative</td>\n",
       "      <td>Payments</td>\n",
       "    </tr>\n",
       "    <tr>\n",
       "      <th>19</th>\n",
       "      <td>Tammie Bettinson</td>\n",
       "      <td>Very Negative</td>\n",
       "      <td>Payments</td>\n",
       "    </tr>\n",
       "    <tr>\n",
       "      <th>22</th>\n",
       "      <td>Sophie Kleinerman</td>\n",
       "      <td>Very Negative</td>\n",
       "      <td>Billing Question</td>\n",
       "    </tr>\n",
       "  </tbody>\n",
       "</table>\n",
       "</div>"
      ],
      "text/plain": [
       "        customer_name      sentiment            reason\n",
       "3     Noreen Lafflina  Very Negative  Billing Question\n",
       "8         Oran Lifsey  Very Negative  Billing Question\n",
       "14    Odell Cathesyed  Very Negative          Payments\n",
       "19   Tammie Bettinson  Very Negative          Payments\n",
       "22  Sophie Kleinerman  Very Negative  Billing Question"
      ]
     },
     "execution_count": 39,
     "metadata": {},
     "output_type": "execute_result"
    }
   ],
   "source": [
    "Very_Negative.head()"
   ]
  },
  {
   "cell_type": "code",
   "execution_count": 40,
   "id": "0bd00608",
   "metadata": {},
   "outputs": [],
   "source": [
    "#Customer Who had a Positive Sentiments\n",
    "Positive =df[(df.sentiment== 'Positive')]"
   ]
  },
  {
   "cell_type": "code",
   "execution_count": 41,
   "id": "0bd5efc2",
   "metadata": {},
   "outputs": [],
   "source": [
    "Positive=Positive[['customer_name','sentiment','reason']]"
   ]
  },
  {
   "cell_type": "code",
   "execution_count": 42,
   "id": "7eb26cce",
   "metadata": {},
   "outputs": [
    {
     "data": {
      "text/html": [
       "<div>\n",
       "<style scoped>\n",
       "    .dataframe tbody tr th:only-of-type {\n",
       "        vertical-align: middle;\n",
       "    }\n",
       "\n",
       "    .dataframe tbody tr th {\n",
       "        vertical-align: top;\n",
       "    }\n",
       "\n",
       "    .dataframe thead th {\n",
       "        text-align: right;\n",
       "    }\n",
       "</style>\n",
       "<table border=\"1\" class=\"dataframe\">\n",
       "  <thead>\n",
       "    <tr style=\"text-align: right;\">\n",
       "      <th></th>\n",
       "      <th>customer_name</th>\n",
       "      <th>sentiment</th>\n",
       "      <th>reason</th>\n",
       "    </tr>\n",
       "  </thead>\n",
       "  <tbody>\n",
       "    <tr>\n",
       "      <th>7</th>\n",
       "      <td>Krysta de Tocqueville</td>\n",
       "      <td>Positive</td>\n",
       "      <td>Billing Question</td>\n",
       "    </tr>\n",
       "    <tr>\n",
       "      <th>13</th>\n",
       "      <td>Melesa Ricardot</td>\n",
       "      <td>Positive</td>\n",
       "      <td>Billing Question</td>\n",
       "    </tr>\n",
       "    <tr>\n",
       "      <th>25</th>\n",
       "      <td>Bethina Fazzioli</td>\n",
       "      <td>Positive</td>\n",
       "      <td>Billing Question</td>\n",
       "    </tr>\n",
       "    <tr>\n",
       "      <th>34</th>\n",
       "      <td>Quinton Marchelli</td>\n",
       "      <td>Positive</td>\n",
       "      <td>Payments</td>\n",
       "    </tr>\n",
       "    <tr>\n",
       "      <th>47</th>\n",
       "      <td>Luca Castel</td>\n",
       "      <td>Positive</td>\n",
       "      <td>Payments</td>\n",
       "    </tr>\n",
       "  </tbody>\n",
       "</table>\n",
       "</div>"
      ],
      "text/plain": [
       "            customer_name sentiment            reason\n",
       "7   Krysta de Tocqueville  Positive  Billing Question\n",
       "13        Melesa Ricardot  Positive  Billing Question\n",
       "25       Bethina Fazzioli  Positive  Billing Question\n",
       "34      Quinton Marchelli  Positive          Payments\n",
       "47            Luca Castel  Positive          Payments"
      ]
     },
     "execution_count": 42,
     "metadata": {},
     "output_type": "execute_result"
    }
   ],
   "source": [
    "Positive.head()"
   ]
  },
  {
   "cell_type": "code",
   "execution_count": 43,
   "id": "b699f56c",
   "metadata": {},
   "outputs": [],
   "source": [
    "\n",
    "# #Customer Who had a Very Positive Sentiments\n",
    "Very_Positive =df[(df.sentiment== 'Very Positive')]"
   ]
  },
  {
   "cell_type": "code",
   "execution_count": 44,
   "id": "0ea469ad",
   "metadata": {},
   "outputs": [],
   "source": [
    "Very_Positive=Very_Positive[['customer_name','sentiment','reason']]"
   ]
  },
  {
   "cell_type": "code",
   "execution_count": 45,
   "id": "277917db",
   "metadata": {},
   "outputs": [
    {
     "data": {
      "text/html": [
       "<div>\n",
       "<style scoped>\n",
       "    .dataframe tbody tr th:only-of-type {\n",
       "        vertical-align: middle;\n",
       "    }\n",
       "\n",
       "    .dataframe tbody tr th {\n",
       "        vertical-align: top;\n",
       "    }\n",
       "\n",
       "    .dataframe thead th {\n",
       "        text-align: right;\n",
       "    }\n",
       "</style>\n",
       "<table border=\"1\" class=\"dataframe\">\n",
       "  <thead>\n",
       "    <tr style=\"text-align: right;\">\n",
       "      <th></th>\n",
       "      <th>customer_name</th>\n",
       "      <th>sentiment</th>\n",
       "      <th>reason</th>\n",
       "    </tr>\n",
       "  </thead>\n",
       "  <tbody>\n",
       "    <tr>\n",
       "      <th>1</th>\n",
       "      <td>Crichton Kidsley</td>\n",
       "      <td>Very Positive</td>\n",
       "      <td>Service Outage</td>\n",
       "    </tr>\n",
       "    <tr>\n",
       "      <th>4</th>\n",
       "      <td>Toma Van der Beken</td>\n",
       "      <td>Very Positive</td>\n",
       "      <td>Payments</td>\n",
       "    </tr>\n",
       "    <tr>\n",
       "      <th>12</th>\n",
       "      <td>Nicolle Fareweather</td>\n",
       "      <td>Very Positive</td>\n",
       "      <td>Billing Question</td>\n",
       "    </tr>\n",
       "    <tr>\n",
       "      <th>27</th>\n",
       "      <td>Anissa Kinrade</td>\n",
       "      <td>Very Positive</td>\n",
       "      <td>Payments</td>\n",
       "    </tr>\n",
       "    <tr>\n",
       "      <th>28</th>\n",
       "      <td>Bradly Dinkin</td>\n",
       "      <td>Very Positive</td>\n",
       "      <td>Billing Question</td>\n",
       "    </tr>\n",
       "  </tbody>\n",
       "</table>\n",
       "</div>"
      ],
      "text/plain": [
       "          customer_name      sentiment            reason\n",
       "1      Crichton Kidsley  Very Positive    Service Outage\n",
       "4    Toma Van der Beken  Very Positive          Payments\n",
       "12  Nicolle Fareweather  Very Positive  Billing Question\n",
       "27       Anissa Kinrade  Very Positive          Payments\n",
       "28        Bradly Dinkin  Very Positive  Billing Question"
      ]
     },
     "execution_count": 45,
     "metadata": {},
     "output_type": "execute_result"
    }
   ],
   "source": [
    "Very_Positive.head()"
   ]
  },
  {
   "cell_type": "code",
   "execution_count": null,
   "id": "1025cffc",
   "metadata": {},
   "outputs": [],
   "source": []
  }
 ],
 "metadata": {
  "kernelspec": {
   "display_name": "Python 3 (ipykernel)",
   "language": "python",
   "name": "python3"
  },
  "language_info": {
   "codemirror_mode": {
    "name": "ipython",
    "version": 3
   },
   "file_extension": ".py",
   "mimetype": "text/x-python",
   "name": "python",
   "nbconvert_exporter": "python",
   "pygments_lexer": "ipython3",
   "version": "3.9.7"
  }
 },
 "nbformat": 4,
 "nbformat_minor": 5
}
