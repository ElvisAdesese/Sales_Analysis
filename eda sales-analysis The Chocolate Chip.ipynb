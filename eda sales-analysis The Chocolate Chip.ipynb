{
 "cells": [
  {
   "cell_type": "code",
   "execution_count": 1,
   "id": "10e601b4",
   "metadata": {},
   "outputs": [],
   "source": [
    "import matplotlib.pyplot as plt\n",
    "import pandas as pd\n",
    "import seaborn as sns\n",
    "import matplotlib.pyplot as plt"
   ]
  },
  {
   "cell_type": "code",
   "execution_count": 2,
   "id": "f274333b",
   "metadata": {},
   "outputs": [],
   "source": [
    "df=df= pd.read_excel('data_dash.xlsx')"
   ]
  },
  {
   "cell_type": "code",
   "execution_count": 3,
   "id": "29e45086",
   "metadata": {},
   "outputs": [
    {
     "data": {
      "text/html": [
       "<div>\n",
       "<style scoped>\n",
       "    .dataframe tbody tr th:only-of-type {\n",
       "        vertical-align: middle;\n",
       "    }\n",
       "\n",
       "    .dataframe tbody tr th {\n",
       "        vertical-align: top;\n",
       "    }\n",
       "\n",
       "    .dataframe thead th {\n",
       "        text-align: right;\n",
       "    }\n",
       "</style>\n",
       "<table border=\"1\" class=\"dataframe\">\n",
       "  <thead>\n",
       "    <tr style=\"text-align: right;\">\n",
       "      <th></th>\n",
       "      <th>Country</th>\n",
       "      <th>Product</th>\n",
       "      <th>Units Sold</th>\n",
       "      <th>Revenue</th>\n",
       "      <th>Cost</th>\n",
       "      <th>Profit</th>\n",
       "      <th>Date</th>\n",
       "    </tr>\n",
       "  </thead>\n",
       "  <tbody>\n",
       "    <tr>\n",
       "      <th>0</th>\n",
       "      <td>India</td>\n",
       "      <td>Chocolate Chip</td>\n",
       "      <td>1725.0</td>\n",
       "      <td>8625.0</td>\n",
       "      <td>3450.0</td>\n",
       "      <td>5175.0</td>\n",
       "      <td>2019-11-01</td>\n",
       "    </tr>\n",
       "    <tr>\n",
       "      <th>1</th>\n",
       "      <td>India</td>\n",
       "      <td>Chocolate Chip</td>\n",
       "      <td>2152.0</td>\n",
       "      <td>10760.0</td>\n",
       "      <td>4304.0</td>\n",
       "      <td>6456.0</td>\n",
       "      <td>2019-12-01</td>\n",
       "    </tr>\n",
       "    <tr>\n",
       "      <th>2</th>\n",
       "      <td>India</td>\n",
       "      <td>Chocolate Chip</td>\n",
       "      <td>2349.0</td>\n",
       "      <td>11745.0</td>\n",
       "      <td>4698.0</td>\n",
       "      <td>7047.0</td>\n",
       "      <td>2019-09-01</td>\n",
       "    </tr>\n",
       "    <tr>\n",
       "      <th>3</th>\n",
       "      <td>India</td>\n",
       "      <td>Chocolate Chip</td>\n",
       "      <td>1228.0</td>\n",
       "      <td>6140.0</td>\n",
       "      <td>2456.0</td>\n",
       "      <td>3684.0</td>\n",
       "      <td>2019-10-01</td>\n",
       "    </tr>\n",
       "    <tr>\n",
       "      <th>4</th>\n",
       "      <td>India</td>\n",
       "      <td>Chocolate Chip</td>\n",
       "      <td>1389.0</td>\n",
       "      <td>6945.0</td>\n",
       "      <td>2778.0</td>\n",
       "      <td>4167.0</td>\n",
       "      <td>2019-10-01</td>\n",
       "    </tr>\n",
       "  </tbody>\n",
       "</table>\n",
       "</div>"
      ],
      "text/plain": [
       "  Country         Product  Units Sold  Revenue    Cost  Profit       Date\n",
       "0   India  Chocolate Chip      1725.0   8625.0  3450.0  5175.0 2019-11-01\n",
       "1   India  Chocolate Chip      2152.0  10760.0  4304.0  6456.0 2019-12-01\n",
       "2   India  Chocolate Chip      2349.0  11745.0  4698.0  7047.0 2019-09-01\n",
       "3   India  Chocolate Chip      1228.0   6140.0  2456.0  3684.0 2019-10-01\n",
       "4   India  Chocolate Chip      1389.0   6945.0  2778.0  4167.0 2019-10-01"
      ]
     },
     "execution_count": 3,
     "metadata": {},
     "output_type": "execute_result"
    }
   ],
   "source": [
    "df.head(5)"
   ]
  },
  {
   "cell_type": "code",
   "execution_count": 4,
   "id": "7f73ca5f",
   "metadata": {},
   "outputs": [
    {
     "data": {
      "text/html": [
       "<div>\n",
       "<style scoped>\n",
       "    .dataframe tbody tr th:only-of-type {\n",
       "        vertical-align: middle;\n",
       "    }\n",
       "\n",
       "    .dataframe tbody tr th {\n",
       "        vertical-align: top;\n",
       "    }\n",
       "\n",
       "    .dataframe thead th {\n",
       "        text-align: right;\n",
       "    }\n",
       "</style>\n",
       "<table border=\"1\" class=\"dataframe\">\n",
       "  <thead>\n",
       "    <tr style=\"text-align: right;\">\n",
       "      <th></th>\n",
       "      <th>Units Sold</th>\n",
       "      <th>Revenue</th>\n",
       "      <th>Cost</th>\n",
       "      <th>Profit</th>\n",
       "    </tr>\n",
       "  </thead>\n",
       "  <tbody>\n",
       "    <tr>\n",
       "      <th>count</th>\n",
       "      <td>1225.000000</td>\n",
       "      <td>1225.000000</td>\n",
       "      <td>1225.000000</td>\n",
       "      <td>1225.000000</td>\n",
       "    </tr>\n",
       "    <tr>\n",
       "      <th>mean</th>\n",
       "      <td>1622.019592</td>\n",
       "      <td>6757.133878</td>\n",
       "      <td>2775.848367</td>\n",
       "      <td>3981.285510</td>\n",
       "    </tr>\n",
       "    <tr>\n",
       "      <th>std</th>\n",
       "      <td>873.003844</td>\n",
       "      <td>4660.467982</td>\n",
       "      <td>2052.363875</td>\n",
       "      <td>2637.221232</td>\n",
       "    </tr>\n",
       "    <tr>\n",
       "      <th>min</th>\n",
       "      <td>200.000000</td>\n",
       "      <td>200.000000</td>\n",
       "      <td>40.000000</td>\n",
       "      <td>160.000000</td>\n",
       "    </tr>\n",
       "    <tr>\n",
       "      <th>25%</th>\n",
       "      <td>914.000000</td>\n",
       "      <td>2895.000000</td>\n",
       "      <td>1180.000000</td>\n",
       "      <td>1857.500000</td>\n",
       "    </tr>\n",
       "    <tr>\n",
       "      <th>50%</th>\n",
       "      <td>1540.000000</td>\n",
       "      <td>5885.000000</td>\n",
       "      <td>2431.250000</td>\n",
       "      <td>3429.000000</td>\n",
       "    </tr>\n",
       "    <tr>\n",
       "      <th>75%</th>\n",
       "      <td>2276.000000</td>\n",
       "      <td>9576.000000</td>\n",
       "      <td>3968.000000</td>\n",
       "      <td>5469.000000</td>\n",
       "    </tr>\n",
       "    <tr>\n",
       "      <th>max</th>\n",
       "      <td>4493.000000</td>\n",
       "      <td>23988.000000</td>\n",
       "      <td>10994.500000</td>\n",
       "      <td>13479.000000</td>\n",
       "    </tr>\n",
       "  </tbody>\n",
       "</table>\n",
       "</div>"
      ],
      "text/plain": [
       "        Units Sold       Revenue          Cost        Profit\n",
       "count  1225.000000   1225.000000   1225.000000   1225.000000\n",
       "mean   1622.019592   6757.133878   2775.848367   3981.285510\n",
       "std     873.003844   4660.467982   2052.363875   2637.221232\n",
       "min     200.000000    200.000000     40.000000    160.000000\n",
       "25%     914.000000   2895.000000   1180.000000   1857.500000\n",
       "50%    1540.000000   5885.000000   2431.250000   3429.000000\n",
       "75%    2276.000000   9576.000000   3968.000000   5469.000000\n",
       "max    4493.000000  23988.000000  10994.500000  13479.000000"
      ]
     },
     "execution_count": 4,
     "metadata": {},
     "output_type": "execute_result"
    }
   ],
   "source": [
    "df.describe()"
   ]
  },
  {
   "cell_type": "code",
   "execution_count": 5,
   "id": "905d5f5f",
   "metadata": {},
   "outputs": [
    {
     "data": {
      "text/plain": [
       "Country       0\n",
       "Product       0\n",
       "Units Sold    0\n",
       "Revenue       0\n",
       "Cost          0\n",
       "Profit        0\n",
       "Date          0\n",
       "dtype: int64"
      ]
     },
     "execution_count": 5,
     "metadata": {},
     "output_type": "execute_result"
    }
   ],
   "source": [
    "df.isnull().sum()"
   ]
  },
  {
   "cell_type": "code",
   "execution_count": 6,
   "id": "77a3e211",
   "metadata": {},
   "outputs": [
    {
     "name": "stdout",
     "output_type": "stream",
     "text": [
      "<class 'pandas.core.frame.DataFrame'>\n",
      "RangeIndex: 1225 entries, 0 to 1224\n",
      "Data columns (total 7 columns):\n",
      " #   Column      Non-Null Count  Dtype         \n",
      "---  ------      --------------  -----         \n",
      " 0   Country     1225 non-null   object        \n",
      " 1   Product     1225 non-null   object        \n",
      " 2   Units Sold  1225 non-null   float64       \n",
      " 3   Revenue     1225 non-null   float64       \n",
      " 4   Cost        1225 non-null   float64       \n",
      " 5   Profit      1225 non-null   float64       \n",
      " 6   Date        1225 non-null   datetime64[ns]\n",
      "dtypes: datetime64[ns](1), float64(4), object(2)\n",
      "memory usage: 67.1+ KB\n"
     ]
    }
   ],
   "source": [
    "df.info()"
   ]
  },
  {
   "cell_type": "code",
   "execution_count": 7,
   "id": "724308b3",
   "metadata": {},
   "outputs": [
    {
     "name": "stdout",
     "output_type": "stream",
     "text": [
      "(1225, 7)\n"
     ]
    }
   ],
   "source": [
    "print(df.shape)"
   ]
  },
  {
   "cell_type": "markdown",
   "id": "a28919c5",
   "metadata": {},
   "source": [
    "# Revenue By Country"
   ]
  },
  {
   "cell_type": "code",
   "execution_count": 9,
   "id": "dbbf5776",
   "metadata": {},
   "outputs": [
    {
     "data": {
      "image/png": "[encoded data removed]",
      "text/plain": [
       "<Figure size 864x432 with 1 Axes>"
      ]
     },
     "metadata": {
      "needs_background": "light"
     },
     "output_type": "display_data"
    }
   ],
   "source": [
    "plt.figure(figsize = (12,6))\n",
    "plt.title('Revenue by country')\n",
    "sns.barplot(x ='Revenue', y='Country', data=df ,ci=None)\n",
    "plt.show()"
   ]
  },
  {
   "cell_type": "code",
   "execution_count": 10,
   "id": "d91caf5e",
   "metadata": {},
   "outputs": [
    {
     "data": {
      "text/plain": [
       "Timestamp('2019-09-01 00:00:00')"
      ]
     },
     "execution_count": 10,
     "metadata": {},
     "output_type": "execute_result"
    }
   ],
   "source": [
    "df['Date'].min()"
   ]
  },
  {
   "cell_type": "code",
   "execution_count": 11,
   "id": "188e1936",
   "metadata": {},
   "outputs": [
    {
     "data": {
      "text/plain": [
       "Timestamp('2020-12-01 00:00:00')"
      ]
     },
     "execution_count": 11,
     "metadata": {},
     "output_type": "execute_result"
    }
   ],
   "source": [
    "df['Date'].max()"
   ]
  },
  {
   "cell_type": "code",
   "execution_count": 12,
   "id": "5fcf8341",
   "metadata": {},
   "outputs": [],
   "source": [
    "#getting month year from dataset\n",
    "df['month_year'] = df ['Date'].apply(lambda x: x.strftime('%y-%m'))"
   ]
  },
  {
   "cell_type": "code",
   "execution_count": 13,
   "id": "71fb8d15",
   "metadata": {},
   "outputs": [
    {
     "data": {
      "text/html": [
       "<div>\n",
       "<style scoped>\n",
       "    .dataframe tbody tr th:only-of-type {\n",
       "        vertical-align: middle;\n",
       "    }\n",
       "\n",
       "    .dataframe tbody tr th {\n",
       "        vertical-align: top;\n",
       "    }\n",
       "\n",
       "    .dataframe thead th {\n",
       "        text-align: right;\n",
       "    }\n",
       "</style>\n",
       "<table border=\"1\" class=\"dataframe\">\n",
       "  <thead>\n",
       "    <tr style=\"text-align: right;\">\n",
       "      <th></th>\n",
       "      <th>Units Sold</th>\n",
       "      <th>Revenue</th>\n",
       "      <th>Cost</th>\n",
       "      <th>Profit</th>\n",
       "    </tr>\n",
       "    <tr>\n",
       "      <th>month_year</th>\n",
       "      <th></th>\n",
       "      <th></th>\n",
       "      <th></th>\n",
       "      <th></th>\n",
       "    </tr>\n",
       "  </thead>\n",
       "  <tbody>\n",
       "    <tr>\n",
       "      <th>19-09</th>\n",
       "      <td>50601.0</td>\n",
       "      <td>212076.0</td>\n",
       "      <td>87263.45</td>\n",
       "      <td>124812.55</td>\n",
       "    </tr>\n",
       "    <tr>\n",
       "      <th>19-10</th>\n",
       "      <td>95622.0</td>\n",
       "      <td>386395.0</td>\n",
       "      <td>158119.40</td>\n",
       "      <td>228275.60</td>\n",
       "    </tr>\n",
       "    <tr>\n",
       "      <th>19-11</th>\n",
       "      <td>65481.0</td>\n",
       "      <td>272112.0</td>\n",
       "      <td>111883.75</td>\n",
       "      <td>160228.25</td>\n",
       "    </tr>\n",
       "    <tr>\n",
       "      <th>19-12</th>\n",
       "      <td>52970.0</td>\n",
       "      <td>232566.0</td>\n",
       "      <td>96228.25</td>\n",
       "      <td>136337.75</td>\n",
       "    </tr>\n",
       "    <tr>\n",
       "      <th>20-01</th>\n",
       "      <td>135682.0</td>\n",
       "      <td>583706.0</td>\n",
       "      <td>241070.80</td>\n",
       "      <td>342635.20</td>\n",
       "    </tr>\n",
       "    <tr>\n",
       "      <th>20-02</th>\n",
       "      <td>110230.0</td>\n",
       "      <td>463850.0</td>\n",
       "      <td>191913.50</td>\n",
       "      <td>271936.50</td>\n",
       "    </tr>\n",
       "    <tr>\n",
       "      <th>20-03</th>\n",
       "      <td>106840.0</td>\n",
       "      <td>438142.0</td>\n",
       "      <td>179175.90</td>\n",
       "      <td>258966.10</td>\n",
       "    </tr>\n",
       "    <tr>\n",
       "      <th>20-04</th>\n",
       "      <td>157786.0</td>\n",
       "      <td>666760.0</td>\n",
       "      <td>273228.10</td>\n",
       "      <td>393531.90</td>\n",
       "    </tr>\n",
       "    <tr>\n",
       "      <th>20-05</th>\n",
       "      <td>103542.0</td>\n",
       "      <td>431732.0</td>\n",
       "      <td>178018.30</td>\n",
       "      <td>253713.70</td>\n",
       "    </tr>\n",
       "    <tr>\n",
       "      <th>20-06</th>\n",
       "      <td>206604.0</td>\n",
       "      <td>853696.0</td>\n",
       "      <td>352065.10</td>\n",
       "      <td>501630.90</td>\n",
       "    </tr>\n",
       "    <tr>\n",
       "      <th>20-07</th>\n",
       "      <td>138710.0</td>\n",
       "      <td>592342.0</td>\n",
       "      <td>244474.90</td>\n",
       "      <td>347867.10</td>\n",
       "    </tr>\n",
       "    <tr>\n",
       "      <th>20-08</th>\n",
       "      <td>121410.0</td>\n",
       "      <td>523510.0</td>\n",
       "      <td>216795.60</td>\n",
       "      <td>306714.40</td>\n",
       "    </tr>\n",
       "    <tr>\n",
       "      <th>20-09</th>\n",
       "      <td>114560.0</td>\n",
       "      <td>477548.0</td>\n",
       "      <td>195616.90</td>\n",
       "      <td>281931.10</td>\n",
       "    </tr>\n",
       "    <tr>\n",
       "      <th>20-10</th>\n",
       "      <td>210964.0</td>\n",
       "      <td>869274.0</td>\n",
       "      <td>356851.90</td>\n",
       "      <td>512422.10</td>\n",
       "    </tr>\n",
       "    <tr>\n",
       "      <th>20-11</th>\n",
       "      <td>111300.0</td>\n",
       "      <td>435758.0</td>\n",
       "      <td>176540.30</td>\n",
       "      <td>259217.70</td>\n",
       "    </tr>\n",
       "    <tr>\n",
       "      <th>20-12</th>\n",
       "      <td>204672.0</td>\n",
       "      <td>838022.0</td>\n",
       "      <td>341168.10</td>\n",
       "      <td>496853.90</td>\n",
       "    </tr>\n",
       "  </tbody>\n",
       "</table>\n",
       "</div>"
      ],
      "text/plain": [
       "            Units Sold   Revenue       Cost     Profit\n",
       "month_year                                            \n",
       "19-09          50601.0  212076.0   87263.45  124812.55\n",
       "19-10          95622.0  386395.0  158119.40  228275.60\n",
       "19-11          65481.0  272112.0  111883.75  160228.25\n",
       "19-12          52970.0  232566.0   96228.25  136337.75\n",
       "20-01         135682.0  583706.0  241070.80  342635.20\n",
       "20-02         110230.0  463850.0  191913.50  271936.50\n",
       "20-03         106840.0  438142.0  179175.90  258966.10\n",
       "20-04         157786.0  666760.0  273228.10  393531.90\n",
       "20-05         103542.0  431732.0  178018.30  253713.70\n",
       "20-06         206604.0  853696.0  352065.10  501630.90\n",
       "20-07         138710.0  592342.0  244474.90  347867.10\n",
       "20-08         121410.0  523510.0  216795.60  306714.40\n",
       "20-09         114560.0  477548.0  195616.90  281931.10\n",
       "20-10         210964.0  869274.0  356851.90  512422.10\n",
       "20-11         111300.0  435758.0  176540.30  259217.70\n",
       "20-12         204672.0  838022.0  341168.10  496853.90"
      ]
     },
     "execution_count": 13,
     "metadata": {},
     "output_type": "execute_result"
    }
   ],
   "source": [
    "df.groupby('month_year').sum()"
   ]
  },
  {
   "cell_type": "code",
   "execution_count": 14,
   "id": "04aaee03",
   "metadata": {},
   "outputs": [],
   "source": [
    "df_trend = df.groupby('month_year').sum() ['Profit'].reset_index()"
   ]
  },
  {
   "cell_type": "markdown",
   "id": "8d673f95",
   "metadata": {},
   "source": [
    "# Sales Trend"
   ]
  },
  {
   "cell_type": "code",
   "execution_count": 15,
   "id": "336aed51",
   "metadata": {},
   "outputs": [
    {
     "data": {
      "image/png": "[encoded data removed]",
      "text/plain": [
       "<Figure size 864x432 with 1 Axes>"
      ]
     },
     "metadata": {
      "needs_background": "light"
     },
     "output_type": "display_data"
    }
   ],
   "source": [
    "#plt.figure(figsize=(15,6))\n",
    "df_trend.plot(x='month_year', y='Profit' ,figsize = [12,6])\n",
    "plt.xticks(rotation='vertical', size=10)\n",
    "plt.title('Sales Trend')\n",
    "plt.show()"
   ]
  },
  {
   "cell_type": "markdown",
   "id": "d15359fa",
   "metadata": {},
   "source": [
    " Countries with the lowest cost had the lowest sales == Malaysia and Philippines had the lowest cost sale"
   ]
  },
  {
   "cell_type": "code",
   "execution_count": 16,
   "id": "1fe49085",
   "metadata": {},
   "outputs": [
    {
     "data": {
      "image/png": "[encoded data removed]",
      "text/plain": [
       "<Figure size 489.6x525.6 with 1 Axes>"
      ]
     },
     "metadata": {},
     "output_type": "display_data"
    }
   ],
   "source": [
    "plt.figure(figsize = (6.8,7.3))\n",
    "df.groupby('Country')['Cost'].sum().plot(kind='pie', autopct='%1.1f%%', shadow=True)\n",
    "plt.show()"
   ]
  },
  {
   "cell_type": "markdown",
   "id": "72bc6a24",
   "metadata": {},
   "source": [
    "Units of goods Purchased"
   ]
  },
  {
   "cell_type": "code",
   "execution_count": 20,
   "id": "90fd4d49",
   "metadata": {},
   "outputs": [
    {
     "data": {
      "image/png": "[encoded data removed]",
      "text/plain": [
       "<Figure size 864x432 with 1 Axes>"
      ]
     },
     "metadata": {
      "needs_background": "light"
     },
     "output_type": "display_data"
    }
   ],
   "source": [
    "#Number of Units of goods Purchased\n",
    "plt.figure(figsize=(12,6))\n",
    "sns.histplot(df['Units Sold'], kde=False)\n",
    "plt.show()"
   ]
  },
  {
   "cell_type": "markdown",
   "id": "434d37e1",
   "metadata": {},
   "source": [
    "The Most Purchased Item Was Chocolate Chip"
   ]
  },
  {
   "cell_type": "code",
   "execution_count": 18,
   "id": "6292cd6f",
   "metadata": {},
   "outputs": [
    {
     "data": {
      "image/png": "[encoded data removed]",
      "text/plain": [
       "<Figure size 864x432 with 1 Axes>"
      ]
     },
     "metadata": {
      "needs_background": "light"
     },
     "output_type": "display_data"
    }
   ],
   "source": [
    "#The Most Purchased Item Was Chocolate Chip\n",
    "df['Product'].value_counts().plot(kind='barh', figsize = [12,6])\n",
    "plt.show()"
   ]
  },
  {
   "cell_type": "code",
   "execution_count": 21,
   "id": "06e2abae",
   "metadata": {},
   "outputs": [],
   "source": [
    "df_profit= df[['Units Sold','Profit']]"
   ]
  },
  {
   "cell_type": "markdown",
   "id": "31c40493",
   "metadata": {},
   "source": [
    "Indians were the highest consumers of chocolate chip *"
   ]
  },
  {
   "cell_type": "code",
   "execution_count": 23,
   "id": "1dbed28a",
   "metadata": {},
   "outputs": [
    {
     "data": {
      "text/plain": [
       "Country         Product                      \n",
       "India           Chocolate Chip                   73\n",
       "                Sugar                            38\n",
       "                Snickerdoodle                    35\n",
       "                White Chocolate Macadamia Nut    35\n",
       "                Fortune Cookie                   32\n",
       "                Oatmeal Raisin                   32\n",
       "Malaysia        Chocolate Chip                   70\n",
       "                White Chocolate Macadamia Nut    39\n",
       "                Fortune Cookie                   35\n",
       "                Oatmeal Raisin                   35\n",
       "                Sugar                            35\n",
       "                Snickerdoodle                    31\n",
       "Philippines     Chocolate Chip                   70\n",
       "                Sugar                            39\n",
       "                White Chocolate Macadamia Nut    39\n",
       "                Snickerdoodle                    35\n",
       "                Fortune Cookie                   31\n",
       "                Oatmeal Raisin                   31\n",
       "United Kingdom  Chocolate Chip                   70\n",
       "                Sugar                            38\n",
       "                White Chocolate Macadamia Nut    38\n",
       "                Fortune Cookie                   35\n",
       "                Oatmeal Raisin                   32\n",
       "                Snickerdoodle                    32\n",
       "United States   Chocolate Chip                   70\n",
       "                Sugar                            40\n",
       "                White Chocolate Macadamia Nut    40\n",
       "                Oatmeal Raisin                   35\n",
       "                Fortune Cookie                   30\n",
       "                Snickerdoodle                    30\n",
       "Name: Product, dtype: int64"
      ]
     },
     "execution_count": 23,
     "metadata": {},
     "output_type": "execute_result"
    }
   ],
   "source": [
    "#Indians where the highest consumers of chocolate chip *\n",
    "df.groupby('Country')['Product'].value_counts()"
   ]
  },
  {
   "cell_type": "markdown",
   "id": "d6ae4281",
   "metadata": {},
   "source": [
    "# Profit by the number of units Sold"
   ]
  },
  {
   "cell_type": "code",
   "execution_count": 22,
   "id": "1a4eccf1",
   "metadata": {},
   "outputs": [
    {
     "data": {
      "image/png": "[encoded data removed]",
      "text/plain": [
       "<Figure size 1080x432 with 1 Axes>"
      ]
     },
     "metadata": {
      "needs_background": "light"
     },
     "output_type": "display_data"
    }
   ],
   "source": [
    "## Profit by the number of units Sold\n",
    "plt.figure(figsize=(15,6))\n",
    "plt.scatter(df['Profit'], df['Units Sold'])\n",
    "plt.ylabel('Units Sold')\n",
    "plt.xlabel('Profit')\n",
    "plt.show()"
   ]
  }
 ],
 "metadata": {
  "kernelspec": {
   "display_name": "Python 3 (ipykernel)",
   "language": "python",
   "name": "python3"
  },
  "language_info": {
   "codemirror_mode": {
    "name": "ipython",
    "version": 3
   },
   "file_extension": ".py",
   "mimetype": "text/x-python",
   "name": "python",
   "nbconvert_exporter": "python",
   "pygments_lexer": "ipython3",
   "version": "3.9.7"
  }
 },
 "nbformat": 4,
 "nbformat_minor": 5
}
